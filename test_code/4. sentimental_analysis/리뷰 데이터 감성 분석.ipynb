{
 "cells": [
  {
   "cell_type": "markdown",
   "metadata": {},
   "source": [
    "# 아마존 + 월마트 리뷰 데이터 "
   ]
  },
  {
   "cell_type": "markdown",
   "metadata": {},
   "source": [
    "## - 모듈 불러오고 전처리"
   ]
  },
  {
   "cell_type": "code",
   "execution_count": 1,
   "metadata": {
    "scrolled": true
   },
   "outputs": [
    {
     "name": "stderr",
     "output_type": "stream",
     "text": [
      "[nltk_data] Downloading package stopwords to\n",
      "[nltk_data]     C:\\Users\\jin-u\\AppData\\Roaming\\nltk_data...\n",
      "[nltk_data]   Package stopwords is already up-to-date!\n",
      "[nltk_data] Downloading package punkt to\n",
      "[nltk_data]     C:\\Users\\jin-u\\AppData\\Roaming\\nltk_data...\n",
      "[nltk_data]   Package punkt is already up-to-date!\n"
     ]
    }
   ],
   "source": [
    "import os\n",
    "import warnings\n",
    "warnings.filterwarnings(action='ignore')\n",
    "\n",
    "try:\n",
    "    import pandas as pd\n",
    "except:\n",
    "    !pip install pandas\n",
    "    import pandas as pd   \n",
    "\n",
    "try:\n",
    "    import numpy as np\n",
    "except:\n",
    "    !pip install numpy\n",
    "    import numpy as np\n",
    "    \n",
    "try:\n",
    "    import matplotlib.pyplot as plt\n",
    "except:\n",
    "    !pip install matplotlib\n",
    "    import matplotlib.pyplot as plt\n",
    "    \n",
    "try:\n",
    "    import seaborn as sns\n",
    "except:\n",
    "    !pip install seaborn\n",
    "    import seaborn as sns\n",
    "    \n",
    "try:\n",
    "    import nltk\n",
    "    from nltk import word_tokenize\n",
    "    from nltk.stem import SnowballStemmer\n",
    "    from nltk.tokenize import RegexpTokenizer\n",
    "    from nltk.corpus import stopwords\n",
    "    nltk.download('stopwords')\n",
    "    nltk.download('punkt')\n",
    "except:\n",
    "    !pip install nltk\n",
    "    import nltk\n",
    "    from nltk import word_tokenize\n",
    "    from nltk.stem import SnowballStemmer\n",
    "    from nltk.tokenize import RegexpTokenizer\n",
    "    from nltk.corpus import stopwords\n",
    "    nltk.download('stopwords')\n",
    "    nltk.download('punkt')\n",
    "    \n",
    "try:\n",
    "    import re\n",
    "except:\n",
    "    !pip install re\n",
    "    import re\n",
    "\n",
    "try:\n",
    "    import tensorflow\n",
    "except:\n",
    "    !pip install tensorflow\n",
    "    \n",
    "    \n",
    "try:\n",
    "    from tqdm import tqdm\n",
    "except:\n",
    "    !pip install tqdm\n",
    "    from tqdm import tqdm\n",
    "\n",
    "try:\n",
    "    import gensim\n",
    "    from gensim.models import Word2Vec, word2vec\n",
    "except:\n",
    "    !pip install gensim\n",
    "    import gensim\n",
    "    from gensim.models import Word2Vec, word2vec\n",
    "    \n",
    "try:\n",
    "    import multiprocessing\n",
    "except:\n",
    "    !pip install multiprocessing\n",
    "    import multiprocessing\n",
    "    \n",
    "try:\n",
    "    from sklearn import preprocessing, decomposition, model_selection, metrics, pipeline\n",
    "    from sklearn.metrics import confusion_matrix, classification_report, roc_curve, auc, accuracy_score\n",
    "    from sklearn.model_selection import train_test_split, cross_val_score, StratifiedKFold, KFold\n",
    "    from sklearn.ensemble import RandomForestClassifier\n",
    "    from sklearn.feature_extraction.text import TfidfVectorizer, CountVectorizer\n",
    "    from sklearn.svm import SVC\n",
    "    from sklearn.decomposition import TruncatedSVD\n",
    "    from sklearn.linear_model import LogisticRegression\n",
    "    from sklearn.naive_bayes import MultinomialNB\n",
    "except:\n",
    "    !pip install sklearn\n",
    "    from sklearn import preprocessing, decomposition, model_selection, metrics, pipeline\n",
    "    from sklearn.metrics import confusion_matrix, classification_report, roc_curve, auc, accuracy_score\n",
    "    from sklearn.model_selection import train_test_split, cross_val_score, StratifiedKFold, KFold\n",
    "    from sklearn.ensemble import RandomForestClassifier\n",
    "    from sklearn.feature_extraction.text import TfidfVectorizer, CountVectorizer\n",
    "    from sklearn.svm import SVC\n",
    "    from sklearn.decomposition import TruncatedSVD\n",
    "    from sklearn.linear_model import LogisticRegression\n",
    "    from sklearn.naive_bayes import MultinomialNB\n",
    "    \n",
    "\n",
    "try:\n",
    "    import xgboost as xgb\n",
    "    from xgboost import XGBClassifier\n",
    "    from xgboost import XGBRegressor\n",
    "except:\n",
    "    !pip install xgboost\n",
    "    import xgboost as xgb\n",
    "    from xgboost import XGBClassifier\n",
    "    from xgboost import XGBRegressor\n",
    "    \n",
    "\n",
    "try:\n",
    "    from keras.utils import np_utils\n",
    "    from keras.preprocessing import sequence, text\n",
    "    from keras.models import Sequential\n",
    "    from keras.layers.recurrent import LSTM, GRU\n",
    "    from keras.layers.core import Dense, Activation, Dropout\n",
    "    from keras.layers.embeddings import Embedding\n",
    "    from keras.layers.normalization import BatchNormalization\n",
    "    from keras.layers import GlobalMaxPooling1D, Conv1D, MaxPooling1D, Flatten, Bidirectional, SpatialDropout1D\n",
    "    from keras.callbacks import EarlyStopping\n",
    "except:\n",
    "    !pip install keras\n",
    "    from keras.utils import np_utils\n",
    "    from keras.preprocessing import sequence, text\n",
    "    from keras.models import Sequential\n",
    "    from keras.layers.recurrent import LSTM, GRU\n",
    "    from keras.layers.core import Dense, Activation, Dropout\n",
    "    from keras.layers.embeddings import Embedding\n",
    "    from keras.layers.normalization import BatchNormalization\n",
    "    from keras.layers import GlobalMaxPooling1D, Conv1D, MaxPooling1D, Flatten, Bidirectional, SpatialDropout1D\n",
    "    from keras.callbacks import EarlyStopping"
   ]
  },
  {
   "cell_type": "code",
   "execution_count": 2,
   "metadata": {},
   "outputs": [],
   "source": [
    "# 아마존과 월마트 데이터를 불러옴\n",
    "\n",
    "amazon = pd.read_csv('./data/amazon_comment_seaweed_chip_result.csv')\n",
    "amazon = amazon.drop(amazon.columns[0], axis = 1)\n",
    "walmart = pd.read_csv('./data/walmart.csv') "
   ]
  },
  {
   "cell_type": "code",
   "execution_count": 3,
   "metadata": {},
   "outputs": [],
   "source": [
    "# 아마존 데이터 comment_date / star_rating 자르기\n",
    "\n",
    "def name_cut(x):\n",
    "    x = x.split('on ')[1]\n",
    "    return x  \n",
    "\n",
    "amazon[\"comment_date\"] = amazon[\"comment_date\"].apply(name_cut)\n",
    "\n",
    "def name_cut(x):\n",
    "    x = x.split(\" out\")[0]\n",
    "    x = float(x)\n",
    "    return x  \n",
    "\n",
    "amazon[\"star_rating\"] = amazon[\"star_rating\"].apply(name_cut)"
   ]
  },
  {
   "cell_type": "code",
   "execution_count": 4,
   "metadata": {},
   "outputs": [],
   "source": [
    "# 아마존 + 월마트 데이터 합치기\n",
    "\n",
    "review = pd.concat([amazon['comment'], walmart['comment']], axis = 0) \n",
    "score = pd.concat([amazon['star_rating'], walmart['score']], axis = 0) \n",
    "author = pd.concat([amazon['comment_author'], walmart['author']], axis = 0)\n",
    "date = pd.concat([amazon['comment_date'], walmart['date']], axis = 0)\n",
    "title = pd.concat([amazon['comment_title'], walmart['title']], axis = 0)\n",
    "\n",
    "review = pd.DataFrame({'date': date, 'title' : title, 'review': review, 'score': score, 'author': author})"
   ]
  },
  {
   "cell_type": "code",
   "execution_count": 5,
   "metadata": {},
   "outputs": [],
   "source": [
    "# 불용어 및 stemmer 정의\n",
    "\n",
    "stop_words = set(stopwords.words(\"english\"))\n",
    "stop_words.update((\"yum\", \"yummy\", \"love\", \"loves\", \"great\", \"good\", \"better\", \"amazing\", \"buying\", \"found\", \"get\", \"like\", \"loved\", 'maybe', 'may', 'could', 'awesome', \n",
    "                   'definitely', 'perfect' , 'best', 'okay', 'excellent', 'disappointed', 'right', 'nice', 'however', 'maybe', 'pretty', 'thank', 'wonderful', 'terrible', \n",
    "                   'unfortunately', 'awful', 'horrible', 'worst', 'wont', 'surprised', 'one', 'bad', 'actually', 'really', 'would', 'g', 'nd', 'feoooooooooooo', 'eh', 'ugh'\n",
    "                    'everybody', 'sometime', 'state', 'fan', 'generally', 'edge', 'report', 'gross', 'buy', 'ewwwwwwww'\n",
    "))\n",
    "stemmer = SnowballStemmer(\"english\")\n",
    "TEXT_CLEANING_RE = \"\\([^)]*\\|s\\b|@\\S+|https?:\\S+|http?:\\S|[^a-zA-Z]+\""
   ]
  },
  {
   "cell_type": "code",
   "execution_count": 6,
   "metadata": {},
   "outputs": [],
   "source": [
    "# 축약어 리스트\n",
    "\n",
    "contraction_mapping = {\"won't\": \"will not\",  \"ain't\": \"is not\", \"aren't\": \"are not\",\"can't\": \"cannot\", \"'cause\": \"because\", \"could've\": \"could have\", \"couldn't\": \"could not\",\n",
    "\n",
    "                       \"didn't\": \"did not\", \"doesn't\": \"does not\", \"don't\": \"do not\", \"hadn't\": \"had not\", \"hasn't\": \"has not\", \"haven't\": \"have not\",\n",
    "\n",
    "                       \"he'd\": \"he would\",\"he'll\": \"he will\", \"he's\": \"he is\", \"how'd\": \"how did\", \"how'd'y\": \"how do you\", \"how'll\": \"how will\", \"how's\": \"how is\",\n",
    "\n",
    "                       \"I'd\": \"I would\", \"I'd've\": \"I would have\", \"I'll\": \"I will\", \"I'll've\": \"I will have\",\"I'm\": \"I am\", \"I've\": \"I have\", \"i'd\": \"i would\",\n",
    "\n",
    "                       \"i'd've\": \"i would have\", \"i'll\": \"i will\",  \"i'll've\": \"i will have\",\"i'm\": \"i am\", \"i've\": \"i have\", \"isn't\": \"is not\", \"it'd\": \"it would\",\n",
    "\n",
    "                       \"it'd've\": \"it would have\", \"it'll\": \"it will\", \"it'll've\": \"it will have\",\"it's\": \"it is\", \"let's\": \"let us\", \"ma'am\": \"madam\",\n",
    "\n",
    "                       \"mayn't\": \"may not\", \"might've\": \"might have\",\"mightn't\": \"might not\",\"mightn't've\": \"might not have\", \"must've\": \"must have\",\n",
    "\n",
    "                       \"mustn't\": \"must not\", \"mustn't've\": \"must not have\", \"needn't\": \"need not\", \"needn't've\": \"need not have\",\"o'clock\": \"of the clock\",\n",
    "\n",
    "                       \"oughtn't\": \"ought not\", \"oughtn't've\": \"ought not have\", \"shan't\": \"shall not\", \"sha'n't\": \"shall not\", \"shan't've\": \"shall not have\",\n",
    "\n",
    "                       \"she'd\": \"she would\", \"she'd've\": \"she would have\", \"she'll\": \"she will\", \"she'll've\": \"she will have\", \"she's\": \"she is\",\n",
    "\n",
    "                       \"should've\": \"should have\", \"shouldn't\": \"should not\", \"shouldn't've\": \"should not have\", \"so've\": \"so have\",\"so's\": \"so as\",\n",
    "\n",
    "                       \"this's\": \"this is\",\"that'd\": \"that would\", \"that'd've\": \"that would have\", \"that's\": \"that is\", \"there'd\": \"there would\",\n",
    "\n",
    "                       \"there'd've\": \"there would have\", \"there's\": \"there is\", \"here's\": \"here is\",\"they'd\": \"they would\", \"they'd've\": \"they would have\",\n",
    "\n",
    "                       \"they'll\": \"they will\", \"they'll've\": \"they will have\", \"they're\": \"they are\", \"they've\": \"they have\", \"to've\": \"to have\",\n",
    "\n",
    "                       \"wasn't\": \"was not\", \"we'd\": \"we would\", \"we'd've\": \"we would have\", \"we'll\": \"we will\", \"we'll've\": \"we will have\", \"we're\": \"we are\",\n",
    "\n",
    "                       \"we've\": \"we have\", \"weren't\": \"were not\", \"what'll\": \"what will\", \"what'll've\": \"what will have\", \"what're\": \"what are\",\n",
    "\n",
    "                       \"what's\": \"what is\", \"what've\": \"what have\", \"when's\": \"when is\", \"when've\": \"when have\", \"where'd\": \"where did\", \"where's\": \"where is\",\n",
    "\n",
    "                       \"where've\": \"where have\", \"who'll\": \"who will\", \"who'll've\": \"who will have\", \"who's\": \"who is\", \"who've\": \"who have\",\n",
    "\n",
    "                       \"why's\": \"why is\", \"why've\": \"why have\", \"will've\": \"will have\", \"won't\": \"will not\", \"won't've\": \"will not have\",\n",
    "\n",
    "                       \"would've\": \"would have\", \"wouldn't\": \"would not\", \"wouldn't've\": \"would not have\", \"y'all\": \"you all\",\n",
    "\n",
    "                       \"y'all'd\": \"you all would\",\"y'all'd've\": \"you all would have\",\"y'all're\": \"you all are\",\"y'all've\": \"you all have\",\n",
    "\n",
    "                       \"you'd\": \"you would\", \"you'd've\": \"you would have\", \"you'll\": \"you will\", \"you'll've\": \"you will have\",\n",
    "\n",
    "                       \"you're\": \"you are\", \"you've\": \"you have\"}"
   ]
  },
  {
   "cell_type": "code",
   "execution_count": 7,
   "metadata": {},
   "outputs": [],
   "source": [
    "# 전처리 함수\n",
    "\n",
    "def preprocess(text, stem=False):\n",
    "    newString = re.sub(TEXT_CLEANING_RE, ' ', str(text).lower()).strip()\n",
    "    newString = ' '.join([contraction_mapping[t] if t in contraction_mapping else t for t in newString.split(\" \")])  \n",
    "\n",
    "    tokens = []\n",
    "    for token in newString.split():\n",
    "        if token not in stop_words and len(token) > 1:\n",
    "            if stem:\n",
    "                tokens.append(stemmer.stem(token))\n",
    "            else:\n",
    "                tokens.append(token)\n",
    "    return \", \".join(tokens)"
   ]
  },
  {
   "cell_type": "code",
   "execution_count": 8,
   "metadata": {},
   "outputs": [],
   "source": [
    "review['cleaned_review'] = review['review'].apply(lambda x: preprocess(x))"
   ]
  },
  {
   "cell_type": "code",
   "execution_count": 9,
   "metadata": {},
   "outputs": [
    {
     "data": {
      "text/plain": [
       "date              0\n",
       "title             1\n",
       "review            1\n",
       "score             0\n",
       "author            1\n",
       "cleaned_review    0\n",
       "dtype: int64"
      ]
     },
     "execution_count": 9,
     "metadata": {},
     "output_type": "execute_result"
    }
   ],
   "source": [
    "# null 값 확인\n",
    "\n",
    "review.isnull().sum()"
   ]
  },
  {
   "cell_type": "code",
   "execution_count": 10,
   "metadata": {},
   "outputs": [
    {
     "data": {
      "text/html": [
       "<div>\n",
       "<style scoped>\n",
       "    .dataframe tbody tr th:only-of-type {\n",
       "        vertical-align: middle;\n",
       "    }\n",
       "\n",
       "    .dataframe tbody tr th {\n",
       "        vertical-align: top;\n",
       "    }\n",
       "\n",
       "    .dataframe thead th {\n",
       "        text-align: right;\n",
       "    }\n",
       "</style>\n",
       "<table border=\"1\" class=\"dataframe\">\n",
       "  <thead>\n",
       "    <tr style=\"text-align: right;\">\n",
       "      <th></th>\n",
       "      <th>date</th>\n",
       "      <th>title</th>\n",
       "      <th>review</th>\n",
       "      <th>score</th>\n",
       "      <th>author</th>\n",
       "      <th>cleaned_review</th>\n",
       "    </tr>\n",
       "  </thead>\n",
       "  <tbody>\n",
       "    <tr>\n",
       "      <th>2127</th>\n",
       "      <td>June 4, 2018</td>\n",
       "      <td>The packaging sucks very disappointed</td>\n",
       "      <td>NaN</td>\n",
       "      <td>1.0</td>\n",
       "      <td>Sydney</td>\n",
       "      <td>nan</td>\n",
       "    </tr>\n",
       "  </tbody>\n",
       "</table>\n",
       "</div>"
      ],
      "text/plain": [
       "              date                                  title review  score  \\\n",
       "2127  June 4, 2018  The packaging sucks very disappointed    NaN    1.0   \n",
       "\n",
       "      author cleaned_review  \n",
       "2127  Sydney            nan  "
      ]
     },
     "execution_count": 10,
     "metadata": {},
     "output_type": "execute_result"
    }
   ],
   "source": [
    "review[review['review'].isnull()]"
   ]
  },
  {
   "cell_type": "code",
   "execution_count": 11,
   "metadata": {},
   "outputs": [],
   "source": [
    "# null 값 제거\n",
    "\n",
    "review.replace(' ',np.nan , inplace = True)\n",
    "review.dropna(axis = 0 , inplace = True, subset = ['review'])"
   ]
  },
  {
   "cell_type": "code",
   "execution_count": 12,
   "metadata": {},
   "outputs": [],
   "source": [
    "# 1~2: 0 (부정) / 3~5: 1 (긍정) 매핑\n",
    "\n",
    "df = review\n",
    "X = df['cleaned_review']\n",
    "y_dict = {1.0:0, 2.0:0, 3.0:1, 4.0:1, 5.0:1}\n",
    "y = df['score'].map(y_dict)"
   ]
  },
  {
   "cell_type": "code",
   "execution_count": 13,
   "metadata": {},
   "outputs": [],
   "source": [
    "# train, test 분리\n",
    "\n",
    "x_train, x_test, y_train, y_test = train_test_split(X, y, \n",
    "                                                stratify=y, \n",
    "                                                random_state=42, \n",
    "                                                test_size=0.2, shuffle=True)"
   ]
  },
  {
   "cell_type": "code",
   "execution_count": 14,
   "metadata": {},
   "outputs": [
    {
     "name": "stdout",
     "output_type": "stream",
     "text": [
      "(4622,)\n",
      "(1156,)\n"
     ]
    }
   ],
   "source": [
    "print (x_train.shape)\n",
    "print (x_test.shape)"
   ]
  },
  {
   "cell_type": "markdown",
   "metadata": {},
   "source": [
    "## - Building Basic Models "
   ]
  },
  {
   "cell_type": "code",
   "execution_count": 15,
   "metadata": {},
   "outputs": [],
   "source": [
    "# 모델 평가 지표 시각화 함수\n",
    "\n",
    "def model_Evaluate(model, x_test):\n",
    "    \n",
    "    # Predict values for Test dataset\n",
    "    y_pred = model.predict(x_test)\n",
    "\n",
    "    # Print the evaluation metrics for the dataset.\n",
    "    print(model.score(x_test, y_test))\n",
    "    print(classification_report(y_test, y_pred))\n",
    "    \n",
    "    # Compute and plot the Confusion matrix\n",
    "    cf_matrix = confusion_matrix(y_test, y_pred)\n",
    "\n",
    "    categories  = ['Negative','Positive']\n",
    "    group_names = ['True Neg','False Pos', 'False Neg','True Pos']\n",
    "    group_percentages = ['{0:.2%}'.format(value) for value in cf_matrix.flatten() / np.sum(cf_matrix)]\n",
    "\n",
    "    labels = [f'{v1}\\n{v2}' for v1, v2 in zip(group_names,group_percentages)]\n",
    "    labels = np.asarray(labels).reshape(2,2)\n",
    "\n",
    "    sns.heatmap(cf_matrix, annot = labels, cmap = 'Blues',fmt = '',\n",
    "                xticklabels = categories, yticklabels = categories)\n",
    "\n",
    "    plt.xlabel(\"Predicted values\", fontdict = {'size':14}, labelpad = 10)\n",
    "    plt.ylabel(\"Actual values\"   , fontdict = {'size':14}, labelpad = 10)\n",
    "    plt.title (\"Confusion Matrix\", fontdict = {'size':18}, pad = 20)\n",
    "    \n",
    "prediction = dict()"
   ]
  },
  {
   "cell_type": "code",
   "execution_count": 16,
   "metadata": {},
   "outputs": [],
   "source": [
    "# cross-validation 함수\n",
    "\n",
    "def validation(model, x_train):\n",
    "    skf = StratifiedKFold(n_splits=5, shuffle=True, random_state = 0)\n",
    "    score = cross_val_score(model, x_train, y_train, cv = skf)\n",
    "    score_mean = score.mean()\n",
    "    plt.show()\n",
    "\n",
    "    return score_mean  "
   ]
  },
  {
   "cell_type": "markdown",
   "metadata": {},
   "source": [
    "### Embedding 1) CountVectorizer"
   ]
  },
  {
   "cell_type": "code",
   "execution_count": 17,
   "metadata": {},
   "outputs": [],
   "source": [
    "ctv = CountVectorizer(analyzer='word',token_pattern=r'\\w{1,}',\n",
    "            ngram_range=(1, 2))\n",
    "\n",
    "# Fitting Count Vectorizer to both training and test sets (semi-supervised learning)\n",
    "ctv.fit(list(x_train) + list(x_test))\n",
    "xtrain_ctv =  ctv.transform(x_train) \n",
    "xtest_ctv = ctv.transform(x_test)"
   ]
  },
  {
   "cell_type": "markdown",
   "metadata": {},
   "source": [
    "### - Logistic Regression"
   ]
  },
  {
   "cell_type": "code",
   "execution_count": 18,
   "metadata": {},
   "outputs": [
    {
     "name": "stdout",
     "output_type": "stream",
     "text": [
      "0.9065743944636678\n",
      "              precision    recall  f1-score   support\n",
      "\n",
      "           0       0.84      0.49      0.62       179\n",
      "           1       0.91      0.98      0.95       977\n",
      "\n",
      "    accuracy                           0.91      1156\n",
      "   macro avg       0.88      0.73      0.78      1156\n",
      "weighted avg       0.90      0.91      0.90      1156\n",
      "\n"
     ]
    },
    {
     "data": {
      "image/png": "[encoded data removed]",
      "text/plain": [
       "<Figure size 432x288 with 2 Axes>"
      ]
     },
     "metadata": {
      "needs_background": "light"
     },
     "output_type": "display_data"
    }
   ],
   "source": [
    "# Fitting a simple Logistic Regression on Counts\n",
    "clf = LogisticRegression(C=1.0)\n",
    "clf.fit(xtrain_ctv, y_train)\n",
    "\n",
    "prediction['Logistic'] = clf.predict(xtest_ctv)\n",
    "validation(clf, xtrain_ctv)\n",
    "model_Evaluate(clf, xtest_ctv)"
   ]
  },
  {
   "cell_type": "markdown",
   "metadata": {},
   "source": [
    "### Embedding 2) TfidVectorizer"
   ]
  },
  {
   "cell_type": "code",
   "execution_count": 19,
   "metadata": {},
   "outputs": [],
   "source": [
    "tfv = TfidfVectorizer(min_df=3,  max_features=None, \n",
    "            strip_accents='unicode', analyzer='word',\n",
    "            ngram_range=(1, 2), use_idf=1, smooth_idf=1, sublinear_tf=1)\n",
    "\n",
    "# Fitting TF-IDF to both training and test sets (semi-supervised learning)\n",
    "tfv.fit(list(x_train) + list(x_test))\n",
    "xtrain_tfv =  tfv.transform(x_train) \n",
    "xtest_tfv = tfv.transform(x_test)"
   ]
  },
  {
   "cell_type": "markdown",
   "metadata": {},
   "source": [
    "### - Logistic Regression"
   ]
  },
  {
   "cell_type": "code",
   "execution_count": 20,
   "metadata": {},
   "outputs": [
    {
     "name": "stdout",
     "output_type": "stream",
     "text": [
      "0.8814878892733564\n",
      "              precision    recall  f1-score   support\n",
      "\n",
      "           0       0.98      0.24      0.39       179\n",
      "           1       0.88      1.00      0.93       977\n",
      "\n",
      "    accuracy                           0.88      1156\n",
      "   macro avg       0.93      0.62      0.66      1156\n",
      "weighted avg       0.89      0.88      0.85      1156\n",
      "\n"
     ]
    },
    {
     "data": {
      "image/png": "[encoded data removed]",
      "text/plain": [
       "<Figure size 432x288 with 2 Axes>"
      ]
     },
     "metadata": {
      "needs_background": "light"
     },
     "output_type": "display_data"
    }
   ],
   "source": [
    "# Fitting a simple Logistic Regression on TFIDF\n",
    "clf = LogisticRegression(C=1.0)\n",
    "clf.fit(xtrain_tfv, y_train)\n",
    "\n",
    "prediction['Logistic_TFIDF'] = clf.predict(xtest_tfv)\n",
    "model_Evaluate(clf, xtest_tfv)"
   ]
  },
  {
   "cell_type": "markdown",
   "metadata": {},
   "source": [
    "### - Naive Bayes"
   ]
  },
  {
   "cell_type": "code",
   "execution_count": 21,
   "metadata": {},
   "outputs": [
    {
     "name": "stdout",
     "output_type": "stream",
     "text": [
      "0.8788927335640139\n",
      "              precision    recall  f1-score   support\n",
      "\n",
      "           0       1.00      0.22      0.36       179\n",
      "           1       0.87      1.00      0.93       977\n",
      "\n",
      "    accuracy                           0.88      1156\n",
      "   macro avg       0.94      0.61      0.65      1156\n",
      "weighted avg       0.89      0.88      0.84      1156\n",
      "\n"
     ]
    },
    {
     "data": {
      "image/png": "[encoded data removed]",
      "text/plain": [
       "<Figure size 432x288 with 2 Axes>"
      ]
     },
     "metadata": {
      "needs_background": "light"
     },
     "output_type": "display_data"
    }
   ],
   "source": [
    "# Fitting a simple Naive Bayes on TFIDF\n",
    "clf = MultinomialNB()\n",
    "clf.fit(xtrain_tfv, y_train)\n",
    "\n",
    "prediction['Naive Bayes_TFIDF'] = clf.predict(xtest_tfv)\n",
    "model_Evaluate(clf, xtest_tfv)"
   ]
  },
  {
   "cell_type": "markdown",
   "metadata": {},
   "source": [
    "### - SVM"
   ]
  },
  {
   "cell_type": "code",
   "execution_count": 22,
   "metadata": {},
   "outputs": [],
   "source": [
    "# Apply SVD, I chose 120 components. 120-200 components are good enough for SVM model.\n",
    "svd = decomposition.TruncatedSVD(n_components=120)\n",
    "svd.fit(xtrain_tfv)\n",
    "xtrain_svd = svd.transform(xtrain_tfv)\n",
    "xtest_svd = svd.transform(xtest_tfv)\n",
    "\n",
    "# Scale the data obtained from SVD. Renaming variable to reuse without scaling.\n",
    "scl = preprocessing.StandardScaler()\n",
    "scl.fit(xtrain_svd)\n",
    "xtrain_svd_scl = scl.transform(xtrain_svd)\n",
    "xtest_svd_scl = scl.transform(xtest_svd)"
   ]
  },
  {
   "cell_type": "code",
   "execution_count": 23,
   "metadata": {},
   "outputs": [
    {
     "name": "stdout",
     "output_type": "stream",
     "text": [
      "0.8866782006920415\n",
      "              precision    recall  f1-score   support\n",
      "\n",
      "           0       0.85      0.32      0.47       179\n",
      "           1       0.89      0.99      0.94       977\n",
      "\n",
      "    accuracy                           0.89      1156\n",
      "   macro avg       0.87      0.66      0.70      1156\n",
      "weighted avg       0.88      0.89      0.86      1156\n",
      "\n"
     ]
    },
    {
     "data": {
      "image/png": "[encoded data removed]",
      "text/plain": [
       "<Figure size 432x288 with 2 Axes>"
      ]
     },
     "metadata": {
      "needs_background": "light"
     },
     "output_type": "display_data"
    }
   ],
   "source": [
    "# Fitting a simple SVM\n",
    "clf = SVC(C=1.0, probability=True) # since we need probabilities\n",
    "clf.fit(xtrain_svd_scl, y_train)\n",
    "\n",
    "prediction['SVM_TFIDF'] = clf.predict(xtest_svd_scl)\n",
    "model_Evaluate(clf, xtest_svd_scl)"
   ]
  },
  {
   "cell_type": "markdown",
   "metadata": {},
   "source": [
    "### - xgboost"
   ]
  },
  {
   "cell_type": "code",
   "execution_count": 24,
   "metadata": {},
   "outputs": [
    {
     "name": "stdout",
     "output_type": "stream",
     "text": [
      "0.9057093425605537\n",
      "              precision    recall  f1-score   support\n",
      "\n",
      "           0       0.87      0.46      0.60       179\n",
      "           1       0.91      0.99      0.95       977\n",
      "\n",
      "    accuracy                           0.91      1156\n",
      "   macro avg       0.89      0.72      0.77      1156\n",
      "weighted avg       0.90      0.91      0.89      1156\n",
      "\n"
     ]
    },
    {
     "data": {
      "image/png": "[encoded data removed]",
      "text/plain": [
       "<Figure size 432x288 with 2 Axes>"
      ]
     },
     "metadata": {
      "needs_background": "light"
     },
     "output_type": "display_data"
    }
   ],
   "source": [
    "# Fitting a simple xgboost on Counts\n",
    "clf = xgb.XGBClassifier(max_depth=7, n_estimators=200, colsample_bytree=0.8, \n",
    "                        subsample=0.8, nthread=10, learning_rate=0.1)\n",
    "clf.fit(xtrain_ctv.tocsc(), y_train)\n",
    "\n",
    "prediction['XGboost'] = clf.predict(xtest_ctv.tocsc())\n",
    "model_Evaluate(clf, xtest_ctv.tocsc())"
   ]
  },
  {
   "cell_type": "code",
   "execution_count": 25,
   "metadata": {},
   "outputs": [
    {
     "name": "stdout",
     "output_type": "stream",
     "text": [
      "0.9005190311418685\n",
      "              precision    recall  f1-score   support\n",
      "\n",
      "           0       0.85      0.44      0.58       179\n",
      "           1       0.91      0.99      0.94       977\n",
      "\n",
      "    accuracy                           0.90      1156\n",
      "   macro avg       0.88      0.71      0.76      1156\n",
      "weighted avg       0.90      0.90      0.89      1156\n",
      "\n"
     ]
    },
    {
     "data": {
      "image/png": "[encoded data removed]",
      "text/plain": [
       "<Figure size 432x288 with 2 Axes>"
      ]
     },
     "metadata": {
      "needs_background": "light"
     },
     "output_type": "display_data"
    }
   ],
   "source": [
    "# Fitting a simple xgboost on tf-idf svd features\n",
    "clf = xgb.XGBClassifier(max_depth=7, n_estimators=200, colsample_bytree=0.8, \n",
    "                        subsample=0.8, nthread=10, learning_rate=0.1)\n",
    "clf.fit(xtrain_tfv.tocsc(), y_train)\n",
    "\n",
    "prediction['XGboost_TFIDF'] = clf.predict(xtest_tfv.tocsc())\n",
    "model_Evaluate(clf, xtest_tfv.tocsc())"
   ]
  },
  {
   "cell_type": "code",
   "execution_count": 26,
   "metadata": {},
   "outputs": [
    {
     "name": "stdout",
     "output_type": "stream",
     "text": [
      "0.8970588235294118\n",
      "              precision    recall  f1-score   support\n",
      "\n",
      "           0       0.83      0.42      0.56       179\n",
      "           1       0.90      0.98      0.94       977\n",
      "\n",
      "    accuracy                           0.90      1156\n",
      "   macro avg       0.86      0.70      0.75      1156\n",
      "weighted avg       0.89      0.90      0.88      1156\n",
      "\n"
     ]
    },
    {
     "data": {
      "image/png": "[encoded data removed]",
      "text/plain": [
       "<Figure size 432x288 with 2 Axes>"
      ]
     },
     "metadata": {
      "needs_background": "light"
     },
     "output_type": "display_data"
    }
   ],
   "source": [
    "# Fitting a simple xgboost on tf-idf svd features\n",
    "clf = xgb.XGBClassifier(max_depth=7, n_estimators=200, colsample_bytree=0.8, \n",
    "                        subsample=0.8, nthread=10, learning_rate=0.1)\n",
    "clf.fit(xtrain_svd, y_train)\n",
    "\n",
    "prediction['XGboost_TFIDF_SVD'] = clf.predict(xtest_svd)\n",
    "model_Evaluate(clf, xtest_svd)"
   ]
  },
  {
   "cell_type": "markdown",
   "metadata": {},
   "source": [
    "### Embedding 3) glove"
   ]
  },
  {
   "cell_type": "code",
   "execution_count": 27,
   "metadata": {},
   "outputs": [
    {
     "name": "stderr",
     "output_type": "stream",
     "text": [
      "24616it [00:03, 7418.38it/s]"
     ]
    },
    {
     "name": "stdout",
     "output_type": "stream",
     "text": [
      "Found 24616 word vectors.\n"
     ]
    },
    {
     "name": "stderr",
     "output_type": "stream",
     "text": [
      "\n"
     ]
    }
   ],
   "source": [
    "embeddings_index = {}\n",
    "f = open('./data/glove.840B.300d.txt', encoding='utf-8')\n",
    "\n",
    "for line in tqdm(f):\n",
    "    values = line.split()\n",
    "    word = values[0]\n",
    "    coefs = np.asarray(values[1:], dtype='float32')\n",
    "    embeddings_index[word] = coefs\n",
    "f.close()\n",
    "\n",
    "print('Found %s word vectors.' % len(embeddings_index))"
   ]
  },
  {
   "cell_type": "code",
   "execution_count": 28,
   "metadata": {},
   "outputs": [],
   "source": [
    "def sent2vec(s):\n",
    "    words = str(s).lower().encode().decode('utf-8')\n",
    "    words = word_tokenize(words)\n",
    "    words = [w for w in words if not w in stop_words]\n",
    "    words = [w for w in words if w.isalpha()]\n",
    "    M = []\n",
    "    for w in words:\n",
    "        try:\n",
    "            M.append(embeddings_index[w])\n",
    "        except:\n",
    "            continue\n",
    "    M = np.array(M)\n",
    "    v = M.sum(axis=0)\n",
    "    if type(v) != np.ndarray:\n",
    "        return np.zeros(300)\n",
    "    return v / np.sqrt((v ** 2).sum())"
   ]
  },
  {
   "cell_type": "code",
   "execution_count": 29,
   "metadata": {},
   "outputs": [
    {
     "name": "stderr",
     "output_type": "stream",
     "text": [
      "100%|████████████████████████████████████████████████████████████████████████████| 4622/4622 [00:01<00:00, 3724.14it/s]\n",
      "100%|████████████████████████████████████████████████████████████████████████████| 1156/1156 [00:00<00:00, 3567.64it/s]\n"
     ]
    }
   ],
   "source": [
    "xtrain_glove = [sent2vec(x) for x in tqdm(x_train)]\n",
    "xvalid_glove = [sent2vec(x) for x in tqdm(x_test)]"
   ]
  },
  {
   "cell_type": "code",
   "execution_count": 30,
   "metadata": {},
   "outputs": [],
   "source": [
    "xtrain_glove = np.array(xtrain_glove)\n",
    "xvalid_glove = np.array(xvalid_glove)"
   ]
  },
  {
   "cell_type": "code",
   "execution_count": 31,
   "metadata": {},
   "outputs": [
    {
     "name": "stdout",
     "output_type": "stream",
     "text": [
      "[22:02:15] WARNING: C:\\Users\\Administrator\\workspace\\xgboost-win64_release_1.2.0\\src\\learner.cc:516: \n",
      "Parameters: { silent } might not be used.\n",
      "\n",
      "  This may not be accurate due to some parameters are only used in language bindings but\n",
      "  passed down to XGBoost core.  Or some parameters are not used but slip through this\n",
      "  verification. Please open an issue if you find above cases.\n",
      "\n",
      "\n",
      "0.8901384083044983\n",
      "              precision    recall  f1-score   support\n",
      "\n",
      "           0       0.84      0.36      0.50       179\n",
      "           1       0.89      0.99      0.94       977\n",
      "\n",
      "    accuracy                           0.89      1156\n",
      "   macro avg       0.87      0.67      0.72      1156\n",
      "weighted avg       0.89      0.89      0.87      1156\n",
      "\n"
     ]
    },
    {
     "data": {
      "image/png": "[encoded data removed]",
      "text/plain": [
       "<Figure size 432x288 with 2 Axes>"
      ]
     },
     "metadata": {
      "needs_background": "light"
     },
     "output_type": "display_data"
    }
   ],
   "source": [
    "# Fitting a simple xgboost on glove features\n",
    "clf = xgb.XGBClassifier(max_depth=7, n_estimators=200, colsample_bytree=0.8, \n",
    "                        subsample=0.8, nthread=10, learning_rate=0.1, silent=False)\n",
    "clf.fit(xtrain_glove, y_train)\n",
    "\n",
    "prediction['XGboost_glove'] = clf.predict(xvalid_glove)\n",
    "model_Evaluate(clf, xvalid_glove)"
   ]
  },
  {
   "cell_type": "markdown",
   "metadata": {},
   "source": [
    "## - Deep Learning"
   ]
  },
  {
   "cell_type": "markdown",
   "metadata": {},
   "source": [
    "### - ANN"
   ]
  },
  {
   "cell_type": "code",
   "execution_count": 32,
   "metadata": {},
   "outputs": [],
   "source": [
    "# scale the data before any neural net:\n",
    "scl = preprocessing.StandardScaler()\n",
    "xtrain_glove_scl = scl.fit_transform(xtrain_glove)\n",
    "xvalid_glove_scl = scl.transform(xvalid_glove)"
   ]
  },
  {
   "cell_type": "code",
   "execution_count": 33,
   "metadata": {},
   "outputs": [],
   "source": [
    "# we need to binarize the labels for the neural net\n",
    "ytrain_enc = np_utils.to_categorical(y_train)\n",
    "yvalid_enc = np_utils.to_categorical(y_test)"
   ]
  },
  {
   "cell_type": "code",
   "execution_count": 34,
   "metadata": {},
   "outputs": [],
   "source": [
    "# create a simple 3 layer sequential neural net\n",
    "model = Sequential()\n",
    "\n",
    "model.add(Dense(300, input_dim=300, activation='relu'))\n",
    "model.add(Dropout(0.2))\n",
    "model.add(BatchNormalization())\n",
    "\n",
    "model.add(Dense(300, activation='relu'))\n",
    "model.add(Dropout(0.3))\n",
    "model.add(BatchNormalization())\n",
    "\n",
    "model.add(Dense(2))\n",
    "model.add(Activation('sigmoid'))\n",
    "\n",
    "# compile the model\n",
    "model.compile(loss='binary_crossentropy', optimizer='adam')"
   ]
  },
  {
   "cell_type": "code",
   "execution_count": 35,
   "metadata": {},
   "outputs": [
    {
     "name": "stdout",
     "output_type": "stream",
     "text": [
      "Epoch 1/5\n",
      "73/73 [==============================] - 0s 7ms/step - loss: 0.6136 - val_loss: 0.4203\n",
      "Epoch 2/5\n",
      "73/73 [==============================] - 0s 3ms/step - loss: 0.3708 - val_loss: 0.3094\n",
      "Epoch 3/5\n",
      "73/73 [==============================] - 0s 3ms/step - loss: 0.2971 - val_loss: 0.2929\n",
      "Epoch 4/5\n",
      "73/73 [==============================] - 0s 3ms/step - loss: 0.2689 - val_loss: 0.2938\n",
      "Epoch 5/5\n",
      "73/73 [==============================] - 0s 3ms/step - loss: 0.2435 - val_loss: 0.2936\n"
     ]
    },
    {
     "data": {
      "text/plain": [
       "<tensorflow.python.keras.callbacks.History at 0x2a57acca188>"
      ]
     },
     "execution_count": 35,
     "metadata": {},
     "output_type": "execute_result"
    }
   ],
   "source": [
    "model.fit(xtrain_glove_scl, y=ytrain_enc, batch_size=64, \n",
    "          epochs=5, verbose=1, \n",
    "          validation_data=(xvalid_glove_scl, yvalid_enc))"
   ]
  },
  {
   "cell_type": "code",
   "execution_count": 36,
   "metadata": {},
   "outputs": [
    {
     "name": "stdout",
     "output_type": "stream",
     "text": [
      "WARNING:tensorflow:From <ipython-input-36-48c6ae2e5baa>:1: Sequential.predict_classes (from tensorflow.python.keras.engine.sequential) is deprecated and will be removed after 2021-01-01.\n",
      "Instructions for updating:\n",
      "Please use instead:* `np.argmax(model.predict(x), axis=-1)`,   if your model does multi-class classification   (e.g. if it uses a `softmax` last-layer activation).* `(model.predict(x) > 0.5).astype(\"int32\")`,   if your model does binary classification   (e.g. if it uses a `sigmoid` last-layer activation).\n",
      "              precision    recall  f1-score   support\n",
      "\n",
      "           0       0.77      0.40      0.52       179\n",
      "           1       0.90      0.98      0.94       977\n",
      "\n",
      "    accuracy                           0.89      1156\n",
      "   macro avg       0.84      0.69      0.73      1156\n",
      "weighted avg       0.88      0.89      0.87      1156\n",
      "\n"
     ]
    },
    {
     "data": {
      "text/plain": [
       "Text(0.5, 1, 'Confusion Matrix')"
      ]
     },
     "execution_count": 36,
     "metadata": {},
     "output_type": "execute_result"
    },
    {
     "data": {
      "image/png": "[encoded data removed]",
      "text/plain": [
       "<Figure size 432x288 with 2 Axes>"
      ]
     },
     "metadata": {
      "needs_background": "light"
     },
     "output_type": "display_data"
    }
   ],
   "source": [
    "prediction['ANN_glove'] = model.predict_classes(xvalid_glove_scl)\n",
    "\n",
    "y_pred = model.predict(xvalid_glove_scl)\n",
    "\n",
    "print(classification_report(yvalid_enc.argmax(axis=1), y_pred.argmax(axis=1)))\n",
    "\n",
    "cf_matrix = confusion_matrix(yvalid_enc.argmax(axis=1), y_pred.argmax(axis=1))\n",
    "\n",
    "categories  = ['Negative','Positive']\n",
    "group_names = ['True Neg','False Pos', 'False Neg','True Pos']\n",
    "group_percentages = ['{0:.2%}'.format(value) for value in cf_matrix.flatten() / np.sum(cf_matrix)]\n",
    "\n",
    "labels = [f'{v1}\\n{v2}' for v1, v2 in zip(group_names,group_percentages)]\n",
    "labels = np.asarray(labels).reshape(2,2)\n",
    "\n",
    "sns.heatmap(cf_matrix, annot = labels, cmap = 'Blues',fmt = '',\n",
    "            xticklabels = categories, yticklabels = categories)\n",
    "\n",
    "plt.xlabel(\"Predicted values\", fontdict = {'size':14}, labelpad = 10)\n",
    "plt.ylabel(\"Actual values\"   , fontdict = {'size':14}, labelpad = 10)\n",
    "plt.title (\"Confusion Matrix\", fontdict = {'size':18}, pad = 20)"
   ]
  },
  {
   "cell_type": "markdown",
   "metadata": {},
   "source": [
    "### - LSTM"
   ]
  },
  {
   "cell_type": "code",
   "execution_count": 37,
   "metadata": {},
   "outputs": [],
   "source": [
    "# using keras tokenizer here\n",
    "token = text.Tokenizer(num_words=None)\n",
    "max_len = 5\n",
    "\n",
    "token.fit_on_texts(list(x_train) + list(x_test))\n",
    "xtrain_seq = token.texts_to_sequences(x_train)\n",
    "xvalid_seq = token.texts_to_sequences(x_test)\n",
    "\n",
    "# zero pad the sequences\n",
    "xtrain_pad = sequence.pad_sequences(xtrain_seq, maxlen=max_len)\n",
    "xvalid_pad = sequence.pad_sequences(xvalid_seq, maxlen=max_len)\n",
    "\n",
    "word_index = token.word_index"
   ]
  },
  {
   "cell_type": "code",
   "execution_count": 38,
   "metadata": {},
   "outputs": [
    {
     "name": "stderr",
     "output_type": "stream",
     "text": [
      "100%|██████████████████████████████████████████████████████████████████████████| 6163/6163 [00:00<00:00, 342368.36it/s]\n"
     ]
    }
   ],
   "source": [
    "# create an embedding matrix for the words we have in the dataset\n",
    "embedding_matrix = np.zeros((len(word_index) + 1, 300))\n",
    "for word, i in tqdm(word_index.items()):\n",
    "    embedding_vector = embeddings_index.get(word)\n",
    "    if embedding_vector is not None:\n",
    "        embedding_matrix[i] = embedding_vector"
   ]
  },
  {
   "cell_type": "code",
   "execution_count": 39,
   "metadata": {},
   "outputs": [],
   "source": [
    "# A simple LSTM with glove embeddings and two dense layers\n",
    "model = Sequential()\n",
    "model.add(Embedding(len(word_index) + 1,\n",
    "                     300,\n",
    "                     weights=[embedding_matrix],\n",
    "                     input_length=max_len,\n",
    "                     trainable=False))\n",
    "model.add(SpatialDropout1D(0.3))\n",
    "model.add(LSTM(100, dropout=0.3, recurrent_dropout=0.3))\n",
    "\n",
    "model.add(Dense(1024, activation='relu'))\n",
    "model.add(Dropout(0.8))\n",
    "\n",
    "model.add(Dense(1024, activation='relu'))\n",
    "model.add(Dropout(0.8))\n",
    "\n",
    "model.add(Dense(2))\n",
    "model.add(Activation('sigmoid'))\n",
    "model.compile(loss='binary_crossentropy', optimizer='adam')"
   ]
  },
  {
   "cell_type": "code",
   "execution_count": 40,
   "metadata": {},
   "outputs": [
    {
     "name": "stdout",
     "output_type": "stream",
     "text": [
      "Epoch 1/100\n",
      "10/10 [==============================] - 1s 105ms/step - loss: 0.5048 - val_loss: 0.4252\n",
      "Epoch 2/100\n",
      "10/10 [==============================] - 1s 76ms/step - loss: 0.4290 - val_loss: 0.4128\n",
      "Epoch 3/100\n",
      "10/10 [==============================] - 1s 77ms/step - loss: 0.4147 - val_loss: 0.3937\n",
      "Epoch 4/100\n",
      "10/10 [==============================] - 1s 75ms/step - loss: 0.3963 - val_loss: 0.3858\n",
      "Epoch 5/100\n",
      "10/10 [==============================] - 1s 77ms/step - loss: 0.3825 - val_loss: 0.3832\n",
      "Epoch 6/100\n",
      "10/10 [==============================] - 1s 79ms/step - loss: 0.3740 - val_loss: 0.3778\n",
      "Epoch 7/100\n",
      "10/10 [==============================] - 1s 83ms/step - loss: 0.3788 - val_loss: 0.3749\n",
      "Epoch 8/100\n",
      "10/10 [==============================] - 1s 83ms/step - loss: 0.3760 - val_loss: 0.3725\n",
      "Epoch 9/100\n",
      "10/10 [==============================] - 1s 85ms/step - loss: 0.3740 - val_loss: 0.3564\n",
      "Epoch 10/100\n",
      "10/10 [==============================] - 1s 82ms/step - loss: 0.3668 - val_loss: 0.3669\n",
      "Epoch 11/100\n",
      "10/10 [==============================] - 1s 79ms/step - loss: 0.3636 - val_loss: 0.3550\n",
      "Epoch 12/100\n",
      "10/10 [==============================] - 1s 81ms/step - loss: 0.3602 - val_loss: 0.3570\n",
      "Epoch 13/100\n",
      "10/10 [==============================] - 1s 77ms/step - loss: 0.3555 - val_loss: 0.3522\n",
      "Epoch 14/100\n",
      "10/10 [==============================] - 1s 79ms/step - loss: 0.3529 - val_loss: 0.3504\n",
      "Epoch 15/100\n",
      "10/10 [==============================] - 1s 79ms/step - loss: 0.3508 - val_loss: 0.3484\n",
      "Epoch 16/100\n",
      "10/10 [==============================] - 1s 79ms/step - loss: 0.3471 - val_loss: 0.3474\n",
      "Epoch 17/100\n",
      "10/10 [==============================] - 1s 79ms/step - loss: 0.3512 - val_loss: 0.3469\n",
      "Epoch 18/100\n",
      "10/10 [==============================] - 1s 78ms/step - loss: 0.3433 - val_loss: 0.3451\n",
      "Epoch 19/100\n",
      "10/10 [==============================] - 1s 78ms/step - loss: 0.3440 - val_loss: 0.3446\n",
      "Epoch 20/100\n",
      "10/10 [==============================] - 1s 79ms/step - loss: 0.3377 - val_loss: 0.3404\n",
      "Epoch 21/100\n",
      "10/10 [==============================] - 1s 76ms/step - loss: 0.3346 - val_loss: 0.3387\n",
      "Epoch 22/100\n",
      "10/10 [==============================] - 1s 76ms/step - loss: 0.3403 - val_loss: 0.3357\n",
      "Epoch 23/100\n",
      "10/10 [==============================] - 1s 76ms/step - loss: 0.3370 - val_loss: 0.3372\n",
      "Epoch 24/100\n",
      "10/10 [==============================] - 1s 77ms/step - loss: 0.3343 - val_loss: 0.3345\n",
      "Epoch 25/100\n",
      "10/10 [==============================] - 1s 77ms/step - loss: 0.3305 - val_loss: 0.3377\n",
      "Epoch 26/100\n",
      "10/10 [==============================] - 1s 76ms/step - loss: 0.3229 - val_loss: 0.3366\n",
      "Epoch 27/100\n",
      "10/10 [==============================] - 1s 78ms/step - loss: 0.3385 - val_loss: 0.3405\n",
      "Epoch 28/100\n",
      "10/10 [==============================] - 1s 77ms/step - loss: 0.3216 - val_loss: 0.3337\n",
      "Epoch 29/100\n",
      "10/10 [==============================] - 1s 77ms/step - loss: 0.3240 - val_loss: 0.3362\n",
      "Epoch 30/100\n",
      "10/10 [==============================] - 1s 78ms/step - loss: 0.3313 - val_loss: 0.3397\n",
      "Epoch 31/100\n",
      "10/10 [==============================] - 1s 81ms/step - loss: 0.3230 - val_loss: 0.3368\n",
      "Epoch 32/100\n",
      "10/10 [==============================] - 1s 80ms/step - loss: 0.3185 - val_loss: 0.3326\n",
      "Epoch 33/100\n",
      "10/10 [==============================] - 1s 83ms/step - loss: 0.3190 - val_loss: 0.3301\n",
      "Epoch 34/100\n",
      "10/10 [==============================] - 1s 78ms/step - loss: 0.3188 - val_loss: 0.3314\n",
      "Epoch 35/100\n",
      "10/10 [==============================] - 1s 77ms/step - loss: 0.3159 - val_loss: 0.3347\n",
      "Epoch 36/100\n",
      "10/10 [==============================] - 1s 77ms/step - loss: 0.3145 - val_loss: 0.3495\n",
      "Epoch 37/100\n",
      "10/10 [==============================] - 1s 77ms/step - loss: 0.3186 - val_loss: 0.3451\n",
      "Epoch 38/100\n",
      "10/10 [==============================] - 1s 78ms/step - loss: 0.3122 - val_loss: 0.3320\n",
      "Epoch 39/100\n",
      "10/10 [==============================] - 1s 82ms/step - loss: 0.3068 - val_loss: 0.3299\n",
      "Epoch 40/100\n",
      "10/10 [==============================] - 1s 79ms/step - loss: 0.3016 - val_loss: 0.3321\n",
      "Epoch 41/100\n",
      "10/10 [==============================] - 1s 79ms/step - loss: 0.2989 - val_loss: 0.3397\n",
      "Epoch 42/100\n",
      "10/10 [==============================] - 1s 80ms/step - loss: 0.3023 - val_loss: 0.3334\n",
      "Epoch 43/100\n",
      "10/10 [==============================] - 1s 85ms/step - loss: 0.2974 - val_loss: 0.3372\n",
      "Epoch 44/100\n",
      "10/10 [==============================] - 1s 80ms/step - loss: 0.3068 - val_loss: 0.3356\n",
      "Epoch 45/100\n",
      "10/10 [==============================] - 1s 79ms/step - loss: 0.2955 - val_loss: 0.3292\n",
      "Epoch 46/100\n",
      "10/10 [==============================] - 1s 78ms/step - loss: 0.2939 - val_loss: 0.3267\n",
      "Epoch 47/100\n",
      "10/10 [==============================] - 1s 80ms/step - loss: 0.2900 - val_loss: 0.3345\n",
      "Epoch 48/100\n",
      "10/10 [==============================] - 1s 78ms/step - loss: 0.2880 - val_loss: 0.3352\n",
      "Epoch 49/100\n",
      "10/10 [==============================] - 1s 77ms/step - loss: 0.2809 - val_loss: 0.3276\n",
      "Epoch 50/100\n",
      "10/10 [==============================] - 1s 77ms/step - loss: 0.2787 - val_loss: 0.3243\n",
      "Epoch 51/100\n",
      "10/10 [==============================] - 1s 77ms/step - loss: 0.2753 - val_loss: 0.3352\n",
      "Epoch 52/100\n",
      "10/10 [==============================] - 1s 78ms/step - loss: 0.2840 - val_loss: 0.3349\n",
      "Epoch 53/100\n",
      "10/10 [==============================] - 1s 76ms/step - loss: 0.2727 - val_loss: 0.3296\n",
      "Epoch 54/100\n",
      "10/10 [==============================] - 1s 80ms/step - loss: 0.2771 - val_loss: 0.3254\n",
      "Epoch 55/100\n",
      "10/10 [==============================] - 1s 77ms/step - loss: 0.2689 - val_loss: 0.3344\n",
      "Epoch 56/100\n",
      "10/10 [==============================] - 1s 77ms/step - loss: 0.2672 - val_loss: 0.3335\n",
      "Epoch 57/100\n",
      "10/10 [==============================] - 1s 77ms/step - loss: 0.2586 - val_loss: 0.3407\n",
      "Epoch 58/100\n",
      "10/10 [==============================] - 1s 78ms/step - loss: 0.2572 - val_loss: 0.3387\n",
      "Epoch 59/100\n",
      "10/10 [==============================] - 1s 75ms/step - loss: 0.2515 - val_loss: 0.3487\n",
      "Epoch 60/100\n",
      "10/10 [==============================] - 1s 82ms/step - loss: 0.2529 - val_loss: 0.3575\n",
      "Epoch 61/100\n",
      "10/10 [==============================] - 1s 79ms/step - loss: 0.2679 - val_loss: 0.3411\n",
      "Epoch 62/100\n",
      "10/10 [==============================] - 1s 78ms/step - loss: 0.2693 - val_loss: 0.3476\n",
      "Epoch 63/100\n",
      "10/10 [==============================] - 1s 82ms/step - loss: 0.2562 - val_loss: 0.3323\n",
      "Epoch 64/100\n",
      "10/10 [==============================] - 1s 77ms/step - loss: 0.2482 - val_loss: 0.3397\n",
      "Epoch 65/100\n",
      "10/10 [==============================] - 1s 76ms/step - loss: 0.2589 - val_loss: 0.3648\n",
      "Epoch 66/100\n",
      "10/10 [==============================] - 1s 78ms/step - loss: 0.2522 - val_loss: 0.3430\n",
      "Epoch 67/100\n",
      "10/10 [==============================] - 1s 78ms/step - loss: 0.2352 - val_loss: 0.3335\n",
      "Epoch 68/100\n",
      "10/10 [==============================] - 1s 78ms/step - loss: 0.2399 - val_loss: 0.3506\n",
      "Epoch 69/100\n",
      "10/10 [==============================] - 1s 78ms/step - loss: 0.2391 - val_loss: 0.3600\n",
      "Epoch 70/100\n",
      "10/10 [==============================] - 1s 83ms/step - loss: 0.2272 - val_loss: 0.3591\n",
      "Epoch 71/100\n",
      "10/10 [==============================] - 1s 79ms/step - loss: 0.2301 - val_loss: 0.3537\n",
      "Epoch 72/100\n",
      "10/10 [==============================] - 1s 79ms/step - loss: 0.2221 - val_loss: 0.3791\n",
      "Epoch 73/100\n",
      "10/10 [==============================] - 1s 88ms/step - loss: 0.2324 - val_loss: 0.3466\n",
      "Epoch 74/100\n",
      "10/10 [==============================] - 1s 87ms/step - loss: 0.2249 - val_loss: 0.3496\n",
      "Epoch 75/100\n",
      "10/10 [==============================] - 1s 91ms/step - loss: 0.2155 - val_loss: 0.3570\n",
      "Epoch 76/100\n",
      "10/10 [==============================] - 1s 85ms/step - loss: 0.2179 - val_loss: 0.3737\n",
      "Epoch 77/100\n",
      "10/10 [==============================] - 1s 85ms/step - loss: 0.2169 - val_loss: 0.3650\n",
      "Epoch 78/100\n",
      "10/10 [==============================] - 1s 83ms/step - loss: 0.2134 - val_loss: 0.3702\n",
      "Epoch 79/100\n",
      "10/10 [==============================] - 1s 82ms/step - loss: 0.2120 - val_loss: 0.3782\n",
      "Epoch 80/100\n",
      "10/10 [==============================] - 1s 85ms/step - loss: 0.2059 - val_loss: 0.3615\n",
      "Epoch 81/100\n",
      "10/10 [==============================] - 1s 86ms/step - loss: 0.2004 - val_loss: 0.3827\n",
      "Epoch 82/100\n"
     ]
    },
    {
     "name": "stdout",
     "output_type": "stream",
     "text": [
      "10/10 [==============================] - 1s 85ms/step - loss: 0.2008 - val_loss: 0.3864\n",
      "Epoch 83/100\n",
      "10/10 [==============================] - 1s 85ms/step - loss: 0.1956 - val_loss: 0.3854\n",
      "Epoch 84/100\n",
      "10/10 [==============================] - 1s 86ms/step - loss: 0.1990 - val_loss: 0.3758\n",
      "Epoch 85/100\n",
      "10/10 [==============================] - 1s 83ms/step - loss: 0.2056 - val_loss: 0.3879\n",
      "Epoch 86/100\n",
      "10/10 [==============================] - 1s 82ms/step - loss: 0.1826 - val_loss: 0.4086\n",
      "Epoch 87/100\n",
      "10/10 [==============================] - 1s 83ms/step - loss: 0.1887 - val_loss: 0.4095\n",
      "Epoch 88/100\n",
      "10/10 [==============================] - 1s 83ms/step - loss: 0.1872 - val_loss: 0.4109\n",
      "Epoch 89/100\n",
      "10/10 [==============================] - 1s 82ms/step - loss: 0.2033 - val_loss: 0.4236\n",
      "Epoch 90/100\n",
      "10/10 [==============================] - 1s 84ms/step - loss: 0.2026 - val_loss: 0.3933\n",
      "Epoch 91/100\n",
      "10/10 [==============================] - 1s 82ms/step - loss: 0.1975 - val_loss: 0.4145\n",
      "Epoch 92/100\n",
      "10/10 [==============================] - 1s 83ms/step - loss: 0.1940 - val_loss: 0.4035\n",
      "Epoch 93/100\n",
      "10/10 [==============================] - 1s 82ms/step - loss: 0.1756 - val_loss: 0.4033\n",
      "Epoch 94/100\n",
      "10/10 [==============================] - 1s 83ms/step - loss: 0.1716 - val_loss: 0.4456\n",
      "Epoch 95/100\n",
      "10/10 [==============================] - 1s 82ms/step - loss: 0.1915 - val_loss: 0.4273\n",
      "Epoch 96/100\n",
      "10/10 [==============================] - 1s 82ms/step - loss: 0.1751 - val_loss: 0.4203\n",
      "Epoch 97/100\n",
      "10/10 [==============================] - 1s 88ms/step - loss: 0.1802 - val_loss: 0.4188\n",
      "Epoch 98/100\n",
      "10/10 [==============================] - 1s 81ms/step - loss: 0.1763 - val_loss: 0.4270\n",
      "Epoch 99/100\n",
      "10/10 [==============================] - 1s 83ms/step - loss: 0.1802 - val_loss: 0.4362\n",
      "Epoch 100/100\n",
      "10/10 [==============================] - 1s 82ms/step - loss: 0.1706 - val_loss: 0.4367\n"
     ]
    },
    {
     "data": {
      "text/plain": [
       "<tensorflow.python.keras.callbacks.History at 0x2a571320888>"
      ]
     },
     "execution_count": 40,
     "metadata": {},
     "output_type": "execute_result"
    }
   ],
   "source": [
    "model.fit(xtrain_pad, y=ytrain_enc, batch_size=512, epochs=100, verbose=1, validation_data=(xvalid_pad, yvalid_enc))"
   ]
  },
  {
   "cell_type": "code",
   "execution_count": 41,
   "metadata": {},
   "outputs": [
    {
     "name": "stdout",
     "output_type": "stream",
     "text": [
      "              precision    recall  f1-score   support\n",
      "\n",
      "           0       0.57      0.42      0.48       179\n",
      "           1       0.90      0.94      0.92       977\n",
      "\n",
      "    accuracy                           0.86      1156\n",
      "   macro avg       0.74      0.68      0.70      1156\n",
      "weighted avg       0.85      0.86      0.85      1156\n",
      "\n"
     ]
    },
    {
     "data": {
      "text/plain": [
       "Text(0.5, 1, 'Confusion Matrix')"
      ]
     },
     "execution_count": 41,
     "metadata": {},
     "output_type": "execute_result"
    },
    {
     "data": {
      "image/png": "[encoded data removed]",
      "text/plain": [
       "<Figure size 432x288 with 2 Axes>"
      ]
     },
     "metadata": {
      "needs_background": "light"
     },
     "output_type": "display_data"
    }
   ],
   "source": [
    "prediction['LSTM_glove'] = model.predict_classes(xvalid_pad)\n",
    "\n",
    "y_pred = model.predict(xvalid_pad)\n",
    "\n",
    "print(classification_report(yvalid_enc.argmax(axis=1), y_pred.argmax(axis=1)))\n",
    "\n",
    "cf_matrix = confusion_matrix(yvalid_enc.argmax(axis=1), y_pred.argmax(axis=1))\n",
    "\n",
    "categories  = ['Negative','Positive']\n",
    "group_names = ['True Neg','False Pos', 'False Neg','True Pos']\n",
    "group_percentages = ['{0:.2%}'.format(value) for value in cf_matrix.flatten() / np.sum(cf_matrix)]\n",
    "\n",
    "labels = [f'{v1}\\n{v2}' for v1, v2 in zip(group_names,group_percentages)]\n",
    "labels = np.asarray(labels).reshape(2,2)\n",
    "\n",
    "sns.heatmap(cf_matrix, annot = labels, cmap = 'Blues',fmt = '',\n",
    "            xticklabels = categories, yticklabels = categories)\n",
    "\n",
    "plt.xlabel(\"Predicted values\", fontdict = {'size':14}, labelpad = 10)\n",
    "plt.ylabel(\"Actual values\"   , fontdict = {'size':14}, labelpad = 10)\n",
    "plt.title (\"Confusion Matrix\", fontdict = {'size':18}, pad = 20)"
   ]
  },
  {
   "cell_type": "markdown",
   "metadata": {},
   "source": [
    "### - biLSTM"
   ]
  },
  {
   "cell_type": "code",
   "execution_count": 42,
   "metadata": {},
   "outputs": [
    {
     "name": "stdout",
     "output_type": "stream",
     "text": [
      "Epoch 1/100\n",
      "10/10 [==============================] - 2s 183ms/step - loss: 0.5134 - val_loss: 0.4271\n",
      "Epoch 2/100\n",
      "10/10 [==============================] - 1s 123ms/step - loss: 0.4330 - val_loss: 0.4021\n",
      "Epoch 3/100\n",
      "10/10 [==============================] - 1s 124ms/step - loss: 0.4082 - val_loss: 0.4004\n",
      "Epoch 4/100\n",
      "10/10 [==============================] - 1s 128ms/step - loss: 0.3926 - val_loss: 0.3806\n",
      "Epoch 5/100\n",
      "10/10 [==============================] - 1s 130ms/step - loss: 0.3793 - val_loss: 0.3775\n",
      "Epoch 6/100\n",
      "10/10 [==============================] - 1s 132ms/step - loss: 0.3707 - val_loss: 0.3672\n",
      "Epoch 7/100\n",
      "10/10 [==============================] - 1s 128ms/step - loss: 0.3683 - val_loss: 0.3693\n",
      "Epoch 8/100\n",
      "10/10 [==============================] - 1s 124ms/step - loss: 0.3670 - val_loss: 0.3579\n",
      "Epoch 9/100\n",
      "10/10 [==============================] - 1s 120ms/step - loss: 0.3585 - val_loss: 0.3623\n",
      "Epoch 10/100\n",
      "10/10 [==============================] - 1s 118ms/step - loss: 0.3615 - val_loss: 0.3544\n",
      "Epoch 11/100\n",
      "10/10 [==============================] - 1s 126ms/step - loss: 0.3595 - val_loss: 0.3549\n",
      "Epoch 12/100\n",
      "10/10 [==============================] - 1s 116ms/step - loss: 0.3497 - val_loss: 0.3554\n",
      "Epoch 13/100\n",
      "10/10 [==============================] - 1s 118ms/step - loss: 0.3512 - val_loss: 0.3645\n",
      "Epoch 14/100\n",
      "10/10 [==============================] - 1s 117ms/step - loss: 0.3598 - val_loss: 0.3801\n",
      "Epoch 15/100\n",
      "10/10 [==============================] - 1s 117ms/step - loss: 0.3527 - val_loss: 0.3507\n",
      "Epoch 16/100\n",
      "10/10 [==============================] - 1s 120ms/step - loss: 0.3451 - val_loss: 0.3530\n",
      "Epoch 17/100\n",
      "10/10 [==============================] - 1s 116ms/step - loss: 0.3421 - val_loss: 0.3492\n",
      "Epoch 18/100\n",
      "10/10 [==============================] - 1s 118ms/step - loss: 0.3421 - val_loss: 0.3491\n",
      "Epoch 19/100\n",
      "10/10 [==============================] - 1s 120ms/step - loss: 0.3360 - val_loss: 0.3396\n",
      "Epoch 20/100\n",
      "10/10 [==============================] - 1s 116ms/step - loss: 0.3356 - val_loss: 0.3418\n",
      "Epoch 21/100\n",
      "10/10 [==============================] - 1s 116ms/step - loss: 0.3396 - val_loss: 0.3523\n",
      "Epoch 22/100\n",
      "10/10 [==============================] - 1s 114ms/step - loss: 0.3418 - val_loss: 0.3393\n",
      "Epoch 23/100\n",
      "10/10 [==============================] - 1s 114ms/step - loss: 0.3352 - val_loss: 0.3443\n",
      "Epoch 24/100\n",
      "10/10 [==============================] - 1s 116ms/step - loss: 0.3262 - val_loss: 0.3377\n",
      "Epoch 25/100\n",
      "10/10 [==============================] - 1s 115ms/step - loss: 0.3315 - val_loss: 0.3395\n",
      "Epoch 26/100\n",
      "10/10 [==============================] - 1s 118ms/step - loss: 0.3264 - val_loss: 0.3403\n",
      "Epoch 27/100\n",
      "10/10 [==============================] - 1s 118ms/step - loss: 0.3199 - val_loss: 0.3382\n",
      "Epoch 28/100\n",
      "10/10 [==============================] - 1s 120ms/step - loss: 0.3170 - val_loss: 0.3332\n",
      "Epoch 29/100\n",
      "10/10 [==============================] - 1s 118ms/step - loss: 0.3129 - val_loss: 0.3338\n",
      "Epoch 30/100\n",
      "10/10 [==============================] - 1s 124ms/step - loss: 0.3043 - val_loss: 0.3315\n",
      "Epoch 31/100\n",
      "10/10 [==============================] - 1s 118ms/step - loss: 0.3128 - val_loss: 0.3320\n",
      "Epoch 32/100\n",
      "10/10 [==============================] - 1s 115ms/step - loss: 0.3087 - val_loss: 0.3327\n",
      "Epoch 33/100\n",
      "10/10 [==============================] - 1s 114ms/step - loss: 0.3086 - val_loss: 0.3324\n",
      "Epoch 34/100\n",
      "10/10 [==============================] - 1s 111ms/step - loss: 0.2941 - val_loss: 0.3343\n",
      "Epoch 35/100\n",
      "10/10 [==============================] - 1s 119ms/step - loss: 0.2983 - val_loss: 0.3339\n"
     ]
    },
    {
     "data": {
      "text/plain": [
       "<tensorflow.python.keras.callbacks.History at 0x2a503185a48>"
      ]
     },
     "execution_count": 42,
     "metadata": {},
     "output_type": "execute_result"
    }
   ],
   "source": [
    "# A simple bidirectional LSTM with glove embeddings and two dense layers\n",
    "model = Sequential()\n",
    "model.add(Embedding(len(word_index) + 1,\n",
    "                     300,\n",
    "                     weights=[embedding_matrix],\n",
    "                     input_length=max_len,\n",
    "                     trainable=False))\n",
    "model.add(SpatialDropout1D(0.3))\n",
    "model.add(Bidirectional(LSTM(100, dropout=0.3, recurrent_dropout=0.3)))\n",
    "\n",
    "model.add(Dense(1024, activation='relu'))\n",
    "model.add(Dropout(0.8))\n",
    "\n",
    "model.add(Dense(1024, activation='relu'))\n",
    "model.add(Dropout(0.8))\n",
    "\n",
    "model.add(Dense(2))\n",
    "model.add(Activation('sigmoid'))\n",
    "model.compile(loss='binary_crossentropy', optimizer='adam')\n",
    "\n",
    "# Fit the model with early stopping callback\n",
    "earlystop = EarlyStopping(monitor='val_loss', min_delta=0, patience=5, verbose=0, mode='auto')\n",
    "model.fit(xtrain_pad, y=ytrain_enc, batch_size=512, epochs=100, \n",
    "          verbose=1, validation_data=(xvalid_pad, yvalid_enc), callbacks=[earlystop])"
   ]
  },
  {
   "cell_type": "code",
   "execution_count": 43,
   "metadata": {},
   "outputs": [
    {
     "name": "stdout",
     "output_type": "stream",
     "text": [
      "              precision    recall  f1-score   support\n",
      "\n",
      "           0       0.60      0.29      0.39       179\n",
      "           1       0.88      0.97      0.92       977\n",
      "\n",
      "    accuracy                           0.86      1156\n",
      "   macro avg       0.74      0.63      0.66      1156\n",
      "weighted avg       0.84      0.86      0.84      1156\n",
      "\n"
     ]
    },
    {
     "data": {
      "text/plain": [
       "Text(0.5, 1, 'Confusion Matrix')"
      ]
     },
     "execution_count": 43,
     "metadata": {},
     "output_type": "execute_result"
    },
    {
     "data": {
      "image/png": "[encoded data removed]",
      "text/plain": [
       "<Figure size 432x288 with 2 Axes>"
      ]
     },
     "metadata": {
      "needs_background": "light"
     },
     "output_type": "display_data"
    }
   ],
   "source": [
    "prediction['BiLSTM_glove'] = model.predict_classes(xvalid_pad)\n",
    "\n",
    "y_pred = model.predict(xvalid_pad)\n",
    "\n",
    "print(classification_report(yvalid_enc.argmax(axis=1), y_pred.argmax(axis=1)))\n",
    "\n",
    "cf_matrix = confusion_matrix(yvalid_enc.argmax(axis=1), y_pred.argmax(axis=1))\n",
    "\n",
    "categories  = ['Negative','Positive']\n",
    "group_names = ['True Neg','False Pos', 'False Neg','True Pos']\n",
    "group_percentages = ['{0:.2%}'.format(value) for value in cf_matrix.flatten() / np.sum(cf_matrix)]\n",
    "\n",
    "labels = [f'{v1}\\n{v2}' for v1, v2 in zip(group_names,group_percentages)]\n",
    "labels = np.asarray(labels).reshape(2,2)\n",
    "\n",
    "sns.heatmap(cf_matrix, annot = labels, cmap = 'Blues',fmt = '',\n",
    "            xticklabels = categories, yticklabels = categories)\n",
    "\n",
    "plt.xlabel(\"Predicted values\", fontdict = {'size':14}, labelpad = 10)\n",
    "plt.ylabel(\"Actual values\"   , fontdict = {'size':14}, labelpad = 10)\n",
    "plt.title (\"Confusion Matrix\", fontdict = {'size':18}, pad = 20)"
   ]
  },
  {
   "cell_type": "markdown",
   "metadata": {},
   "source": [
    "### - GRU"
   ]
  },
  {
   "cell_type": "code",
   "execution_count": 44,
   "metadata": {},
   "outputs": [
    {
     "name": "stdout",
     "output_type": "stream",
     "text": [
      "Epoch 1/100\n",
      "10/10 [==============================] - 2s 204ms/step - loss: 0.5045 - val_loss: 0.4556\n",
      "Epoch 2/100\n",
      "10/10 [==============================] - 1s 144ms/step - loss: 0.4292 - val_loss: 0.3984\n",
      "Epoch 3/100\n",
      "10/10 [==============================] - 1s 141ms/step - loss: 0.4011 - val_loss: 0.3885\n",
      "Epoch 4/100\n",
      "10/10 [==============================] - 1s 143ms/step - loss: 0.3844 - val_loss: 0.3739\n",
      "Epoch 5/100\n",
      "10/10 [==============================] - 1s 140ms/step - loss: 0.3836 - val_loss: 0.3743\n",
      "Epoch 6/100\n",
      "10/10 [==============================] - 1s 139ms/step - loss: 0.3794 - val_loss: 0.3741\n",
      "Epoch 7/100\n",
      "10/10 [==============================] - 1s 145ms/step - loss: 0.3851 - val_loss: 0.3546\n",
      "Epoch 8/100\n",
      "10/10 [==============================] - 1s 148ms/step - loss: 0.3751 - val_loss: 0.3574\n",
      "Epoch 9/100\n",
      "10/10 [==============================] - 1s 146ms/step - loss: 0.3756 - val_loss: 0.3625\n",
      "Epoch 10/100\n",
      "10/10 [==============================] - 1s 143ms/step - loss: 0.3724 - val_loss: 0.3666\n"
     ]
    },
    {
     "data": {
      "text/plain": [
       "<tensorflow.python.keras.callbacks.History at 0x2a50f0e3088>"
      ]
     },
     "execution_count": 44,
     "metadata": {},
     "output_type": "execute_result"
    }
   ],
   "source": [
    "# GRU with glove embeddings and two dense layers\n",
    "model = Sequential()\n",
    "model.add(Embedding(len(word_index) + 1,\n",
    "                     300,\n",
    "                     weights=[embedding_matrix],\n",
    "                     input_length=max_len,\n",
    "                     trainable=False))\n",
    "model.add(SpatialDropout1D(0.3))\n",
    "model.add(GRU(200, dropout=0.3, recurrent_dropout=0.3, return_sequences=True))\n",
    "model.add(GRU(200, dropout=0.3, recurrent_dropout=0.3))\n",
    "\n",
    "model.add(Dense(1024, activation='relu'))\n",
    "model.add(Dropout(0.8))\n",
    "\n",
    "model.add(Dense(1024, activation='relu'))\n",
    "model.add(Dropout(0.8))\n",
    "\n",
    "model.add(Dense(2))\n",
    "model.add(Activation('sigmoid'))\n",
    "model.compile(loss='binary_crossentropy', optimizer='adam')\n",
    "\n",
    "# Fit the model with early stopping callback\n",
    "earlystop = EarlyStopping(monitor='val_loss', min_delta=0, patience=3, verbose=0, mode='auto')\n",
    "model.fit(xtrain_pad, y=ytrain_enc, batch_size=512, epochs=100, \n",
    "          verbose=1, validation_data=(xvalid_pad, yvalid_enc), callbacks=[earlystop])"
   ]
  },
  {
   "cell_type": "code",
   "execution_count": 45,
   "metadata": {},
   "outputs": [
    {
     "name": "stdout",
     "output_type": "stream",
     "text": [
      "              precision    recall  f1-score   support\n",
      "\n",
      "           0       0.67      0.26      0.37       179\n",
      "           1       0.88      0.98      0.92       977\n",
      "\n",
      "    accuracy                           0.87      1156\n",
      "   macro avg       0.77      0.62      0.65      1156\n",
      "weighted avg       0.84      0.87      0.84      1156\n",
      "\n"
     ]
    },
    {
     "data": {
      "text/plain": [
       "Text(0.5, 1, 'Confusion Matrix')"
      ]
     },
     "execution_count": 45,
     "metadata": {},
     "output_type": "execute_result"
    },
    {
     "data": {
      "image/png": "[encoded data removed]",
      "text/plain": [
       "<Figure size 432x288 with 2 Axes>"
      ]
     },
     "metadata": {
      "needs_background": "light"
     },
     "output_type": "display_data"
    }
   ],
   "source": [
    "prediction['GRU_glove'] = model.predict_classes(xvalid_pad)\n",
    "\n",
    "y_pred = model.predict(xvalid_pad)\n",
    "\n",
    "print(classification_report(yvalid_enc.argmax(axis=1), y_pred.argmax(axis=1)))\n",
    "\n",
    "cf_matrix = confusion_matrix(yvalid_enc.argmax(axis=1), y_pred.argmax(axis=1))\n",
    "\n",
    "categories  = ['Negative','Positive']\n",
    "group_names = ['True Neg','False Pos', 'False Neg','True Pos']\n",
    "group_percentages = ['{0:.2%}'.format(value) for value in cf_matrix.flatten() / np.sum(cf_matrix)]\n",
    "\n",
    "labels = [f'{v1}\\n{v2}' for v1, v2 in zip(group_names,group_percentages)]\n",
    "labels = np.asarray(labels).reshape(2,2)\n",
    "\n",
    "sns.heatmap(cf_matrix, annot = labels, cmap = 'Blues',fmt = '',\n",
    "            xticklabels = categories, yticklabels = categories)\n",
    "\n",
    "plt.xlabel(\"Predicted values\", fontdict = {'size':14}, labelpad = 10)\n",
    "plt.ylabel(\"Actual values\"   , fontdict = {'size':14}, labelpad = 10)\n",
    "plt.title (\"Confusion Matrix\", fontdict = {'size':18}, pad = 20)"
   ]
  },
  {
   "cell_type": "markdown",
   "metadata": {},
   "source": [
    "## - 시각화: model 비교"
   ]
  },
  {
   "cell_type": "code",
   "execution_count": 46,
   "metadata": {},
   "outputs": [
    {
     "data": {
      "image/png": "[encoded data removed]",
      "text/plain": [
       "<Figure size 432x288 with 1 Axes>"
      ]
     },
     "metadata": {
      "needs_background": "light"
     },
     "output_type": "display_data"
    }
   ],
   "source": [
    "# ROC 곡선\n",
    "\n",
    "colors_1 = ['navy', 'royalblue', 'brown', 'indianred', 'gold', 'darkgreen', 'darkcyan', 'springgreen', 'lightyellow']\n",
    "\n",
    "colors_2 = ['lightsalmon', 'blueviolet', 'purple', 'lightslategrey']\n",
    "\n",
    "cmp_1 = 0\n",
    "for model, predicted in prediction.items():\n",
    "    if model in ('Logistic', 'Logistic_TFIDF', 'Naive Bayes_TFIDF',\n",
    "                 'SVM_TFIDF', 'XGboost', 'XGboost_TFIDF', 'XGboost_TFIDF_SVD',\n",
    "                 'XGboost_glove'):\n",
    "        false_positive_rate, true_positive_rate, thresholds = roc_curve(y_test, predicted)\n",
    "        roc_auc = auc(false_positive_rate, true_positive_rate)\n",
    "        plt.plot(false_positive_rate, true_positive_rate, colors_1[cmp_1], label='%s: AUC %0.2f'% (model,roc_auc))\n",
    "        cmp_1 += 1\n",
    "\n",
    "cmp_2 = 0\n",
    "for model, predicted in prediction.items():\n",
    "    if model in ('ANN_glove', 'LSTM_glove', 'BiLSTM_glove', 'GRU_glove'):\n",
    "        false_positive_rate, true_positive_rate, thresholds = roc_curve(y_test, y_pred.argmax(axis=1))\n",
    "        roc_auc = auc(false_positive_rate, true_positive_rate)\n",
    "        plt.plot(false_positive_rate, true_positive_rate, colors_2[cmp_2], label='%s: AUC %0.2f'% (model,roc_auc))\n",
    "        cmp_2 += 1\n",
    "        \n",
    "plt.title('Classifiers comparaison with ROC')\n",
    "plt.legend(loc='lower right')\n",
    "plt.plot([0,1],[0,1],'r--')\n",
    "plt.xlim([-0.1,1.2])\n",
    "plt.ylim([-0.1,1.2])\n",
    "plt.ylabel('True Positive Rate')\n",
    "plt.xlabel('False Positive Rate')\n",
    "plt.rc('figure', figsize=(12, 8))\n",
    "plt.show()"
   ]
  },
  {
   "cell_type": "code",
   "execution_count": 47,
   "metadata": {},
   "outputs": [],
   "source": [
    "# 정확도 비교\n",
    "\n",
    "model = ['Logistic', 'Logistic_TFIDF', 'Naive Bayes_TFIDF',\n",
    "        'SVM_TFIDF', 'XGboost', 'XGboost_TFIDF', 'XGboost_TFIDF_SVD',\n",
    "        'XGboost_glove']\n",
    "accuracy = []\n",
    "\n",
    "for m in model:\n",
    "    accuracy.append(accuracy_score(y_test, prediction[m]))\n",
    "       \n",
    "accuracy_list = pd.DataFrame({'model': model, 'accuracy' : accuracy})"
   ]
  },
  {
   "cell_type": "code",
   "execution_count": 48,
   "metadata": {},
   "outputs": [
    {
     "data": {
      "text/html": [
       "<div>\n",
       "<style scoped>\n",
       "    .dataframe tbody tr th:only-of-type {\n",
       "        vertical-align: middle;\n",
       "    }\n",
       "\n",
       "    .dataframe tbody tr th {\n",
       "        vertical-align: top;\n",
       "    }\n",
       "\n",
       "    .dataframe thead th {\n",
       "        text-align: right;\n",
       "    }\n",
       "</style>\n",
       "<table border=\"1\" class=\"dataframe\">\n",
       "  <thead>\n",
       "    <tr style=\"text-align: right;\">\n",
       "      <th></th>\n",
       "      <th>model</th>\n",
       "      <th>accuracy</th>\n",
       "    </tr>\n",
       "  </thead>\n",
       "  <tbody>\n",
       "    <tr>\n",
       "      <th>0</th>\n",
       "      <td>Logistic</td>\n",
       "      <td>0.906574</td>\n",
       "    </tr>\n",
       "    <tr>\n",
       "      <th>1</th>\n",
       "      <td>Logistic_TFIDF</td>\n",
       "      <td>0.881488</td>\n",
       "    </tr>\n",
       "    <tr>\n",
       "      <th>2</th>\n",
       "      <td>Naive Bayes_TFIDF</td>\n",
       "      <td>0.878893</td>\n",
       "    </tr>\n",
       "    <tr>\n",
       "      <th>3</th>\n",
       "      <td>SVM_TFIDF</td>\n",
       "      <td>0.886678</td>\n",
       "    </tr>\n",
       "    <tr>\n",
       "      <th>4</th>\n",
       "      <td>XGboost</td>\n",
       "      <td>0.905709</td>\n",
       "    </tr>\n",
       "    <tr>\n",
       "      <th>5</th>\n",
       "      <td>XGboost_TFIDF</td>\n",
       "      <td>0.900519</td>\n",
       "    </tr>\n",
       "    <tr>\n",
       "      <th>6</th>\n",
       "      <td>XGboost_TFIDF_SVD</td>\n",
       "      <td>0.897059</td>\n",
       "    </tr>\n",
       "    <tr>\n",
       "      <th>7</th>\n",
       "      <td>XGboost_glove</td>\n",
       "      <td>0.890138</td>\n",
       "    </tr>\n",
       "  </tbody>\n",
       "</table>\n",
       "</div>"
      ],
      "text/plain": [
       "               model  accuracy\n",
       "0           Logistic  0.906574\n",
       "1     Logistic_TFIDF  0.881488\n",
       "2  Naive Bayes_TFIDF  0.878893\n",
       "3          SVM_TFIDF  0.886678\n",
       "4            XGboost  0.905709\n",
       "5      XGboost_TFIDF  0.900519\n",
       "6  XGboost_TFIDF_SVD  0.897059\n",
       "7      XGboost_glove  0.890138"
      ]
     },
     "execution_count": 48,
     "metadata": {},
     "output_type": "execute_result"
    }
   ],
   "source": [
    "accuracy_list"
   ]
  },
  {
   "cell_type": "code",
   "execution_count": 49,
   "metadata": {},
   "outputs": [
    {
     "data": {
      "text/plain": [
       "Text(0.5, 1.0, 'Classifiers comparaison with accuracy')"
      ]
     },
     "execution_count": 49,
     "metadata": {},
     "output_type": "execute_result"
    },
    {
     "data": {
      "image/png": "[encoded data removed]",
      "text/plain": [
       "<Figure size 864x576 with 1 Axes>"
      ]
     },
     "metadata": {},
     "output_type": "display_data"
    }
   ],
   "source": [
    "y = accuracy_list['model']\n",
    "x = accuracy_list['accuracy'].sort_values(ascending=False).values\n",
    "\n",
    "sns.set(style=\"whitegrid\")\n",
    "ax = sns.barplot(x=x, y=y)\n",
    "ax.set_title('Classifiers comparaison with accuracy')"
   ]
  },
  {
   "cell_type": "markdown",
   "metadata": {},
   "source": [
    "## - 최종 시각화: 회귀계수를 이용한 키워드 확인 "
   ]
  },
  {
   "cell_type": "markdown",
   "metadata": {},
   "source": [
    "### - XGBoost"
   ]
  },
  {
   "cell_type": "code",
   "execution_count": null,
   "metadata": {},
   "outputs": [
    {
     "name": "stdout",
     "output_type": "stream",
     "text": [
      "[22:05:14] WARNING: C:\\Users\\Administrator\\workspace\\xgboost-win64_release_1.2.0\\src\\learner.cc:516: \n",
      "Parameters: { colsample_bytree, max_depth, subsample } might not be used.\n",
      "\n",
      "  This may not be accurate due to some parameters are only used in language bindings but\n",
      "  passed down to XGBoost core.  Or some parameters are not used but slip through this\n",
      "  verification. Please open an issue if you find above cases.\n",
      "\n",
      "\n"
     ]
    }
   ],
   "source": [
    "# Fitting a simple xgboost on Counts\n",
    "import xgboost as xgb\n",
    "xgb = xgb.XGBClassifier(max_depth=7, n_estimators=200, colsample_bytree=0.8, \n",
    "                        subsample=0.8, nthread=10, learning_rate=0.1, booster ='gblinear')\n",
    "xgb_result = xgb.fit(xtrain_ctv.tocsc(), y_train)\n",
    "\n",
    "features = ctv.get_feature_names()\n",
    "feature_coefs = pd.DataFrame({'word' : features, 'coefficient': xgb.coef_})\n",
    "\n",
    "feature_coefs = feature_coefs.sort_values(['coefficient', 'word'], ascending = [0, 1])\n",
    "feature_coefs.head(20)"
   ]
  },
  {
   "cell_type": "code",
   "execution_count": null,
   "metadata": {},
   "outputs": [],
   "source": [
    "print('-Top 20 positive-')\n",
    "print(feature_coefs.head(20).to_string(index=False))\n",
    "print('')\n",
    "print('-Top 20 negative-')        \n",
    "print(feature_coefs.tail(20).to_string(index=False)) "
   ]
  },
  {
   "cell_type": "markdown",
   "metadata": {},
   "source": [
    "### - Logistic regression"
   ]
  },
  {
   "cell_type": "code",
   "execution_count": null,
   "metadata": {},
   "outputs": [],
   "source": [
    "log = LogisticRegression(C=1.0)\n",
    "log_result = log.fit(xtrain_ctv, y_train)\n",
    "\n",
    "features = ctv.get_feature_names()\n",
    "feature_coefs = pd.DataFrame(\n",
    "    data = list(zip(features, log_result.coef_[0])),\n",
    "    columns = ['word', 'coefficient'])\n",
    "\n",
    "feature_coefs = feature_coefs.sort_values(['coefficient', 'word'], ascending = [0, 1])\n",
    "feature_coefs.head(20)"
   ]
  },
  {
   "cell_type": "code",
   "execution_count": null,
   "metadata": {},
   "outputs": [],
   "source": [
    "print('-Top 20 positive-')\n",
    "print(feature_coefs.head(20).to_string(index=False))\n",
    "print('')\n",
    "print('-Top 20 negative-')        \n",
    "print(feature_coefs.tail(20).to_string(index=False)) "
   ]
  },
  {
   "cell_type": "code",
   "execution_count": null,
   "metadata": {},
   "outputs": [],
   "source": [
    "p = feature_coefs.head(20)\n",
    "n = feature_coefs.tail(20)"
   ]
  },
  {
   "cell_type": "code",
   "execution_count": null,
   "metadata": {},
   "outputs": [],
   "source": [
    "p_y = p['word'].values\n",
    "p_x = p['coefficient'].sort_values(ascending=False).values\n",
    "\n",
    "n_y = n['word'].values\n",
    "n_x = n['coefficient'].sort_values().values\n",
    "\n",
    "sns.set(style=\"whitegrid\")\n",
    "ax1 = sns.barplot(x=p_x, y=p_y, palette=\"Blues\", label=p_y)\n",
    "ax1.yaxis.tick_right()\n",
    "ax1.yaxis.set_label_position('right')\n",
    "ax1.set_title('Positive keywords')\n",
    "plt.figure(figsize=(10,20))\n",
    "plt.show()\n",
    "\n",
    "ax2 = sns.barplot(x=n_x, y=n_y, palette=\"OrRd\", label=n_y)\n",
    "ax2.yaxis.tick_left()\n",
    "ax2.yaxis.set_label_position('left')\n",
    "ax2.set_title('Negative keywords')\n",
    "plt.figure(figsize=(10,20))\n",
    "plt.show()"
   ]
  },
  {
   "cell_type": "code",
   "execution_count": null,
   "metadata": {},
   "outputs": [],
   "source": []
  }
 ],
 "metadata": {
  "kernelspec": {
   "display_name": "Python 3",
   "language": "python",
   "name": "python3"
  },
  "language_info": {
   "codemirror_mode": {
    "name": "ipython",
    "version": 3
   },
   "file_extension": ".py",
   "mimetype": "text/x-python",
   "name": "python",
   "nbconvert_exporter": "python",
   "pygments_lexer": "ipython3",
   "version": "3.7.6"
  }
 },
 "nbformat": 4,
 "nbformat_minor": 4
}
