{
 "cells": [
  {
   "cell_type": "markdown",
   "metadata": {},
   "source": [
    "# Concat the data\n",
    "## - amazon"
   ]
  },
  {
   "cell_type": "code",
   "execution_count": 3,
   "metadata": {},
   "outputs": [
    {
     "data": {
      "text/html": [
       "<div>\n",
       "<style scoped>\n",
       "    .dataframe tbody tr th:only-of-type {\n",
       "        vertical-align: middle;\n",
       "    }\n",
       "\n",
       "    .dataframe tbody tr th {\n",
       "        vertical-align: top;\n",
       "    }\n",
       "\n",
       "    .dataframe thead th {\n",
       "        text-align: right;\n",
       "    }\n",
       "</style>\n",
       "<table border=\"1\" class=\"dataframe\">\n",
       "  <thead>\n",
       "    <tr style=\"text-align: right;\">\n",
       "      <th></th>\n",
       "      <th>comment_author</th>\n",
       "      <th>star_rating</th>\n",
       "      <th>comment_date</th>\n",
       "      <th>comment_title</th>\n",
       "      <th>comment</th>\n",
       "    </tr>\n",
       "  </thead>\n",
       "  <tbody>\n",
       "    <tr>\n",
       "      <th>0</th>\n",
       "      <td>Dmitry</td>\n",
       "      <td>1.0 out of 5 stars</td>\n",
       "      <td>Reviewed in the United States on May 4, 2019</td>\n",
       "      <td>This is very dangerous product ! Do not buy !</td>\n",
       "      <td>I've been buying this product for a year, I ...</td>\n",
       "    </tr>\n",
       "    <tr>\n",
       "      <th>1</th>\n",
       "      <td>S A</td>\n",
       "      <td>1.0 out of 5 stars</td>\n",
       "      <td>Reviewed in the United States on September 17,...</td>\n",
       "      <td>Bug eggs in package?!!</td>\n",
       "      <td>Thsee don't expire until December. I opened ...</td>\n",
       "    </tr>\n",
       "    <tr>\n",
       "      <th>2</th>\n",
       "      <td>Elisa S.</td>\n",
       "      <td>5.0 out of 5 stars</td>\n",
       "      <td>Reviewed in the United States on December 17, ...</td>\n",
       "      <td>#1 on my list</td>\n",
       "      <td>The photo shows the seaweed brands I've trie...</td>\n",
       "    </tr>\n",
       "    <tr>\n",
       "      <th>3</th>\n",
       "      <td>Ani_Mon</td>\n",
       "      <td>1.0 out of 5 stars</td>\n",
       "      <td>Reviewed in the United States on July 23, 2017</td>\n",
       "      <td>Oily and stale</td>\n",
       "      <td>The first time I bought these I fell in love...</td>\n",
       "    </tr>\n",
       "    <tr>\n",
       "      <th>4</th>\n",
       "      <td>Rachel Humphrey</td>\n",
       "      <td>5.0 out of 5 stars</td>\n",
       "      <td>Reviewed in the United States on February 4, 2017</td>\n",
       "      <td>The BEST seasoned seaweed makers in the WORLD</td>\n",
       "      <td>I ate the entire box in a week. This stuff i...</td>\n",
       "    </tr>\n",
       "  </tbody>\n",
       "</table>\n",
       "</div>"
      ],
      "text/plain": [
       "    comment_author         star_rating  \\\n",
       "0           Dmitry  1.0 out of 5 stars   \n",
       "1              S A  1.0 out of 5 stars   \n",
       "2         Elisa S.  5.0 out of 5 stars   \n",
       "3          Ani_Mon  1.0 out of 5 stars   \n",
       "4  Rachel Humphrey  5.0 out of 5 stars   \n",
       "\n",
       "                                        comment_date  \\\n",
       "0       Reviewed in the United States on May 4, 2019   \n",
       "1  Reviewed in the United States on September 17,...   \n",
       "2  Reviewed in the United States on December 17, ...   \n",
       "3     Reviewed in the United States on July 23, 2017   \n",
       "4  Reviewed in the United States on February 4, 2017   \n",
       "\n",
       "                                   comment_title  \\\n",
       "0  This is very dangerous product ! Do not buy !   \n",
       "1                         Bug eggs in package?!!   \n",
       "2                                  #1 on my list   \n",
       "3                                 Oily and stale   \n",
       "4  The BEST seasoned seaweed makers in the WORLD   \n",
       "\n",
       "                                             comment  \n",
       "0    I've been buying this product for a year, I ...  \n",
       "1    Thsee don't expire until December. I opened ...  \n",
       "2    The photo shows the seaweed brands I've trie...  \n",
       "3    The first time I bought these I fell in love...  \n",
       "4    I ate the entire box in a week. This stuff i...  "
      ]
     },
     "execution_count": 3,
     "metadata": {},
     "output_type": "execute_result"
    }
   ],
   "source": [
    "try:\n",
    "    import pandas as pd\n",
    "except:\n",
    "    !pip install pandas\n",
    "    import pandas as pd\n",
    "\n",
    "amazon = pd.read_csv('./data/amazon_comment_seaweed_chip_result.csv')  # 아마존 데이터\n",
    "amazon = amazon.drop(amazon.columns[0], axis = 1)\n",
    "amazon.head()"
   ]
  },
  {
   "cell_type": "code",
   "execution_count": 4,
   "metadata": {},
   "outputs": [
    {
     "data": {
      "text/html": [
       "<div>\n",
       "<style scoped>\n",
       "    .dataframe tbody tr th:only-of-type {\n",
       "        vertical-align: middle;\n",
       "    }\n",
       "\n",
       "    .dataframe tbody tr th {\n",
       "        vertical-align: top;\n",
       "    }\n",
       "\n",
       "    .dataframe thead th {\n",
       "        text-align: right;\n",
       "    }\n",
       "</style>\n",
       "<table border=\"1\" class=\"dataframe\">\n",
       "  <thead>\n",
       "    <tr style=\"text-align: right;\">\n",
       "      <th></th>\n",
       "      <th>comment_author</th>\n",
       "      <th>star_rating</th>\n",
       "      <th>comment_date</th>\n",
       "      <th>comment_title</th>\n",
       "      <th>comment</th>\n",
       "    </tr>\n",
       "  </thead>\n",
       "  <tbody>\n",
       "    <tr>\n",
       "      <th>0</th>\n",
       "      <td>Dmitry</td>\n",
       "      <td>1.0 out of 5 stars</td>\n",
       "      <td>May 4, 2019</td>\n",
       "      <td>This is very dangerous product ! Do not buy !</td>\n",
       "      <td>I've been buying this product for a year, I ...</td>\n",
       "    </tr>\n",
       "    <tr>\n",
       "      <th>1</th>\n",
       "      <td>S A</td>\n",
       "      <td>1.0 out of 5 stars</td>\n",
       "      <td>September 17, 2018</td>\n",
       "      <td>Bug eggs in package?!!</td>\n",
       "      <td>Thsee don't expire until December. I opened ...</td>\n",
       "    </tr>\n",
       "    <tr>\n",
       "      <th>2</th>\n",
       "      <td>Elisa S.</td>\n",
       "      <td>5.0 out of 5 stars</td>\n",
       "      <td>December 17, 2018</td>\n",
       "      <td>#1 on my list</td>\n",
       "      <td>The photo shows the seaweed brands I've trie...</td>\n",
       "    </tr>\n",
       "    <tr>\n",
       "      <th>3</th>\n",
       "      <td>Ani_Mon</td>\n",
       "      <td>1.0 out of 5 stars</td>\n",
       "      <td>July 23, 2017</td>\n",
       "      <td>Oily and stale</td>\n",
       "      <td>The first time I bought these I fell in love...</td>\n",
       "    </tr>\n",
       "    <tr>\n",
       "      <th>4</th>\n",
       "      <td>Rachel Humphrey</td>\n",
       "      <td>5.0 out of 5 stars</td>\n",
       "      <td>February 4, 2017</td>\n",
       "      <td>The BEST seasoned seaweed makers in the WORLD</td>\n",
       "      <td>I ate the entire box in a week. This stuff i...</td>\n",
       "    </tr>\n",
       "  </tbody>\n",
       "</table>\n",
       "</div>"
      ],
      "text/plain": [
       "    comment_author         star_rating        comment_date  \\\n",
       "0           Dmitry  1.0 out of 5 stars         May 4, 2019   \n",
       "1              S A  1.0 out of 5 stars  September 17, 2018   \n",
       "2         Elisa S.  5.0 out of 5 stars   December 17, 2018   \n",
       "3          Ani_Mon  1.0 out of 5 stars       July 23, 2017   \n",
       "4  Rachel Humphrey  5.0 out of 5 stars    February 4, 2017   \n",
       "\n",
       "                                   comment_title  \\\n",
       "0  This is very dangerous product ! Do not buy !   \n",
       "1                         Bug eggs in package?!!   \n",
       "2                                  #1 on my list   \n",
       "3                                 Oily and stale   \n",
       "4  The BEST seasoned seaweed makers in the WORLD   \n",
       "\n",
       "                                             comment  \n",
       "0    I've been buying this product for a year, I ...  \n",
       "1    Thsee don't expire until December. I opened ...  \n",
       "2    The photo shows the seaweed brands I've trie...  \n",
       "3    The first time I bought these I fell in love...  \n",
       "4    I ate the entire box in a week. This stuff i...  "
      ]
     },
     "execution_count": 4,
     "metadata": {},
     "output_type": "execute_result"
    }
   ],
   "source": [
    "# comment_date 자르기\n",
    "\n",
    "def name_cut(x):\n",
    "    x = x.split('on ')[1]\n",
    "    return x  \n",
    "\n",
    "amazon[\"comment_date\"] = amazon[\"comment_date\"].apply(name_cut)\n",
    "amazon.head()"
   ]
  },
  {
   "cell_type": "code",
   "execution_count": 5,
   "metadata": {},
   "outputs": [
    {
     "data": {
      "text/html": [
       "<div>\n",
       "<style scoped>\n",
       "    .dataframe tbody tr th:only-of-type {\n",
       "        vertical-align: middle;\n",
       "    }\n",
       "\n",
       "    .dataframe tbody tr th {\n",
       "        vertical-align: top;\n",
       "    }\n",
       "\n",
       "    .dataframe thead th {\n",
       "        text-align: right;\n",
       "    }\n",
       "</style>\n",
       "<table border=\"1\" class=\"dataframe\">\n",
       "  <thead>\n",
       "    <tr style=\"text-align: right;\">\n",
       "      <th></th>\n",
       "      <th>comment_author</th>\n",
       "      <th>star_rating</th>\n",
       "      <th>comment_date</th>\n",
       "      <th>comment_title</th>\n",
       "      <th>comment</th>\n",
       "    </tr>\n",
       "  </thead>\n",
       "  <tbody>\n",
       "    <tr>\n",
       "      <th>0</th>\n",
       "      <td>Dmitry</td>\n",
       "      <td>1.0</td>\n",
       "      <td>May 4, 2019</td>\n",
       "      <td>This is very dangerous product ! Do not buy !</td>\n",
       "      <td>I've been buying this product for a year, I ...</td>\n",
       "    </tr>\n",
       "    <tr>\n",
       "      <th>1</th>\n",
       "      <td>S A</td>\n",
       "      <td>1.0</td>\n",
       "      <td>September 17, 2018</td>\n",
       "      <td>Bug eggs in package?!!</td>\n",
       "      <td>Thsee don't expire until December. I opened ...</td>\n",
       "    </tr>\n",
       "    <tr>\n",
       "      <th>2</th>\n",
       "      <td>Elisa S.</td>\n",
       "      <td>5.0</td>\n",
       "      <td>December 17, 2018</td>\n",
       "      <td>#1 on my list</td>\n",
       "      <td>The photo shows the seaweed brands I've trie...</td>\n",
       "    </tr>\n",
       "    <tr>\n",
       "      <th>3</th>\n",
       "      <td>Ani_Mon</td>\n",
       "      <td>1.0</td>\n",
       "      <td>July 23, 2017</td>\n",
       "      <td>Oily and stale</td>\n",
       "      <td>The first time I bought these I fell in love...</td>\n",
       "    </tr>\n",
       "    <tr>\n",
       "      <th>4</th>\n",
       "      <td>Rachel Humphrey</td>\n",
       "      <td>5.0</td>\n",
       "      <td>February 4, 2017</td>\n",
       "      <td>The BEST seasoned seaweed makers in the WORLD</td>\n",
       "      <td>I ate the entire box in a week. This stuff i...</td>\n",
       "    </tr>\n",
       "  </tbody>\n",
       "</table>\n",
       "</div>"
      ],
      "text/plain": [
       "    comment_author  star_rating        comment_date  \\\n",
       "0           Dmitry          1.0         May 4, 2019   \n",
       "1              S A          1.0  September 17, 2018   \n",
       "2         Elisa S.          5.0   December 17, 2018   \n",
       "3          Ani_Mon          1.0       July 23, 2017   \n",
       "4  Rachel Humphrey          5.0    February 4, 2017   \n",
       "\n",
       "                                   comment_title  \\\n",
       "0  This is very dangerous product ! Do not buy !   \n",
       "1                         Bug eggs in package?!!   \n",
       "2                                  #1 on my list   \n",
       "3                                 Oily and stale   \n",
       "4  The BEST seasoned seaweed makers in the WORLD   \n",
       "\n",
       "                                             comment  \n",
       "0    I've been buying this product for a year, I ...  \n",
       "1    Thsee don't expire until December. I opened ...  \n",
       "2    The photo shows the seaweed brands I've trie...  \n",
       "3    The first time I bought these I fell in love...  \n",
       "4    I ate the entire box in a week. This stuff i...  "
      ]
     },
     "execution_count": 5,
     "metadata": {},
     "output_type": "execute_result"
    }
   ],
   "source": [
    "# 평점 자르기\n",
    "\n",
    "def name_cut(x):\n",
    "    x = x.split(\" out\")[0]\n",
    "    x = float(x)\n",
    "    return x  \n",
    "\n",
    "amazon[\"star_rating\"] = amazon[\"star_rating\"].apply(name_cut)\n",
    "amazon.head()"
   ]
  },
  {
   "cell_type": "markdown",
   "metadata": {},
   "source": [
    "## - walmart"
   ]
  },
  {
   "cell_type": "code",
   "execution_count": 7,
   "metadata": {},
   "outputs": [
    {
     "data": {
      "text/html": [
       "<div>\n",
       "<style scoped>\n",
       "    .dataframe tbody tr th:only-of-type {\n",
       "        vertical-align: middle;\n",
       "    }\n",
       "\n",
       "    .dataframe tbody tr th {\n",
       "        vertical-align: top;\n",
       "    }\n",
       "\n",
       "    .dataframe thead th {\n",
       "        text-align: right;\n",
       "    }\n",
       "</style>\n",
       "<table border=\"1\" class=\"dataframe\">\n",
       "  <thead>\n",
       "    <tr style=\"text-align: right;\">\n",
       "      <th></th>\n",
       "      <th>score</th>\n",
       "      <th>title</th>\n",
       "      <th>author</th>\n",
       "      <th>date</th>\n",
       "      <th>comment</th>\n",
       "    </tr>\n",
       "  </thead>\n",
       "  <tbody>\n",
       "    <tr>\n",
       "      <th>0</th>\n",
       "      <td>5</td>\n",
       "      <td>Organic Seaweed Snacks Review</td>\n",
       "      <td>Linda M.,</td>\n",
       "      <td>14-Jan-20</td>\n",
       "      <td>These seaweed snacks that I have tasted were d...</td>\n",
       "    </tr>\n",
       "    <tr>\n",
       "      <th>1</th>\n",
       "      <td>5</td>\n",
       "      <td>Iâm hooked!</td>\n",
       "      <td>Cherlyn,</td>\n",
       "      <td>13-Mar-20</td>\n",
       "      <td>seen other people buying it. Thought I would t...</td>\n",
       "    </tr>\n",
       "    <tr>\n",
       "      <th>2</th>\n",
       "      <td>5</td>\n",
       "      <td>Organic Seaweed Snacks Review</td>\n",
       "      <td>Chrystal A.,</td>\n",
       "      <td>08-Mar-20</td>\n",
       "      <td>My son loves seaweed but I want to be sure it'...</td>\n",
       "    </tr>\n",
       "    <tr>\n",
       "      <th>3</th>\n",
       "      <td>4</td>\n",
       "      <td>Wasabi is best, but these come in 2nd</td>\n",
       "      <td>Idk,</td>\n",
       "      <td>07-Jul-20</td>\n",
       "      <td>I haven't tried all the flavors yet but wasabi...</td>\n",
       "    </tr>\n",
       "    <tr>\n",
       "      <th>4</th>\n",
       "      <td>4</td>\n",
       "      <td>Organic Seaweed Snacks Review</td>\n",
       "      <td>Melissa M.,</td>\n",
       "      <td>27-Dec-19</td>\n",
       "      <td>Ocean's Halo seaweed snacks are great snacks t...</td>\n",
       "    </tr>\n",
       "  </tbody>\n",
       "</table>\n",
       "</div>"
      ],
      "text/plain": [
       "   score                                  title        author       date  \\\n",
       "0      5          Organic Seaweed Snacks Review     Linda M.,  14-Jan-20   \n",
       "1      5                          Iâm hooked!      Cherlyn,  13-Mar-20   \n",
       "2      5          Organic Seaweed Snacks Review  Chrystal A.,  08-Mar-20   \n",
       "3      4  Wasabi is best, but these come in 2nd          Idk,  07-Jul-20   \n",
       "4      4          Organic Seaweed Snacks Review   Melissa M.,  27-Dec-19   \n",
       "\n",
       "                                             comment  \n",
       "0  These seaweed snacks that I have tasted were d...  \n",
       "1  seen other people buying it. Thought I would t...  \n",
       "2  My son loves seaweed but I want to be sure it'...  \n",
       "3  I haven't tried all the flavors yet but wasabi...  \n",
       "4  Ocean's Halo seaweed snacks are great snacks t...  "
      ]
     },
     "execution_count": 7,
     "metadata": {},
     "output_type": "execute_result"
    }
   ],
   "source": [
    "walmart = pd.read_csv('./data/walmart.csv')  # 월마트 데이터\n",
    "walmart.head()"
   ]
  },
  {
   "cell_type": "markdown",
   "metadata": {},
   "source": [
    "## - amazon + walmart review data "
   ]
  },
  {
   "cell_type": "code",
   "execution_count": 8,
   "metadata": {},
   "outputs": [
    {
     "data": {
      "text/plain": [
       "0         I've been buying this product for a year, I ...\n",
       "1         Thsee don't expire until December. I opened ...\n",
       "2         The photo shows the seaweed brands I've trie...\n",
       "3         The first time I bought these I fell in love...\n",
       "4         I ate the entire box in a week. This stuff i...\n",
       "                              ...                        \n",
       "1932    I love Asian food and this brand is the best a...\n",
       "1933    I purchased the Chili Lime. The consistency wa...\n",
       "1934    I tried Ocean's Halo seaweed snack sheets. I l...\n",
       "1935    These are a great and healthy option for snack...\n",
       "1936                                           delicious!\n",
       "Name: comment, Length: 5779, dtype: object"
      ]
     },
     "execution_count": 8,
     "metadata": {},
     "output_type": "execute_result"
    }
   ],
   "source": [
    "# 아마존 + 월마트\n",
    "\n",
    "review = pd.concat([amazon['comment'], walmart['comment']], axis = 0) ; review"
   ]
  },
  {
   "cell_type": "code",
   "execution_count": 9,
   "metadata": {},
   "outputs": [
    {
     "data": {
      "text/plain": [
       "0       1.0\n",
       "1       1.0\n",
       "2       5.0\n",
       "3       1.0\n",
       "4       5.0\n",
       "       ... \n",
       "1932    5.0\n",
       "1933    3.0\n",
       "1934    5.0\n",
       "1935    5.0\n",
       "1936    5.0\n",
       "Length: 5779, dtype: float64"
      ]
     },
     "execution_count": 9,
     "metadata": {},
     "output_type": "execute_result"
    }
   ],
   "source": [
    "score = pd.concat([amazon['star_rating'], walmart['score']], axis = 0) ; score"
   ]
  },
  {
   "cell_type": "code",
   "execution_count": 10,
   "metadata": {},
   "outputs": [
    {
     "data": {
      "text/plain": [
       "0                Dmitry\n",
       "1                   S A\n",
       "2              Elisa S.\n",
       "3               Ani_Mon\n",
       "4       Rachel Humphrey\n",
       "             ...       \n",
       "1932          Kiara L.,\n",
       "1933       Rosemary M.,\n",
       "1934            deb F.,\n",
       "1935         Joanna A.,\n",
       "1936           Garrett,\n",
       "Length: 5779, dtype: object"
      ]
     },
     "execution_count": 10,
     "metadata": {},
     "output_type": "execute_result"
    }
   ],
   "source": [
    "author = pd.concat([amazon['comment_author'], walmart['author']], axis = 0) ; author"
   ]
  },
  {
   "cell_type": "code",
   "execution_count": 11,
   "metadata": {},
   "outputs": [
    {
     "data": {
      "text/plain": [
       "0              May 4, 2019\n",
       "1       September 17, 2018\n",
       "2        December 17, 2018\n",
       "3            July 23, 2017\n",
       "4         February 4, 2017\n",
       "               ...        \n",
       "1932             08-Jan-19\n",
       "1933             20-Nov-18\n",
       "1934             22-Jan-19\n",
       "1935             30-Jan-19\n",
       "1936             08-Aug-17\n",
       "Length: 5779, dtype: object"
      ]
     },
     "execution_count": 11,
     "metadata": {},
     "output_type": "execute_result"
    }
   ],
   "source": [
    "date = pd.concat([amazon['comment_date'], walmart['date']], axis = 0) ; date"
   ]
  },
  {
   "cell_type": "code",
   "execution_count": 12,
   "metadata": {},
   "outputs": [
    {
     "data": {
      "text/plain": [
       "0       This is very dangerous product ! Do not buy !\n",
       "1                              Bug eggs in package?!!\n",
       "2                                       #1 on my list\n",
       "3                                      Oily and stale\n",
       "4       The BEST seasoned seaweed makers in the WORLD\n",
       "                            ...                      \n",
       "1932                    Organic Seaweed Snacks Review\n",
       "1933                    Organic Seaweed Snacks Review\n",
       "1934                    Organic Seaweed Snacks Review\n",
       "1935                    Organic Seaweed Snacks Review\n",
       "1936                                       delicious!\n",
       "Length: 5779, dtype: object"
      ]
     },
     "execution_count": 12,
     "metadata": {},
     "output_type": "execute_result"
    }
   ],
   "source": [
    "title = pd.concat([amazon['comment_title'], walmart['title']], axis = 0) ; title"
   ]
  },
  {
   "cell_type": "code",
   "execution_count": 13,
   "metadata": {},
   "outputs": [
    {
     "data": {
      "text/html": [
       "<div>\n",
       "<style scoped>\n",
       "    .dataframe tbody tr th:only-of-type {\n",
       "        vertical-align: middle;\n",
       "    }\n",
       "\n",
       "    .dataframe tbody tr th {\n",
       "        vertical-align: top;\n",
       "    }\n",
       "\n",
       "    .dataframe thead th {\n",
       "        text-align: right;\n",
       "    }\n",
       "</style>\n",
       "<table border=\"1\" class=\"dataframe\">\n",
       "  <thead>\n",
       "    <tr style=\"text-align: right;\">\n",
       "      <th></th>\n",
       "      <th>date</th>\n",
       "      <th>title</th>\n",
       "      <th>review</th>\n",
       "      <th>score</th>\n",
       "      <th>author</th>\n",
       "    </tr>\n",
       "  </thead>\n",
       "  <tbody>\n",
       "    <tr>\n",
       "      <th>0</th>\n",
       "      <td>May 4, 2019</td>\n",
       "      <td>This is very dangerous product ! Do not buy !</td>\n",
       "      <td>I've been buying this product for a year, I ...</td>\n",
       "      <td>1.0</td>\n",
       "      <td>Dmitry</td>\n",
       "    </tr>\n",
       "    <tr>\n",
       "      <th>1</th>\n",
       "      <td>September 17, 2018</td>\n",
       "      <td>Bug eggs in package?!!</td>\n",
       "      <td>Thsee don't expire until December. I opened ...</td>\n",
       "      <td>1.0</td>\n",
       "      <td>S A</td>\n",
       "    </tr>\n",
       "    <tr>\n",
       "      <th>2</th>\n",
       "      <td>December 17, 2018</td>\n",
       "      <td>#1 on my list</td>\n",
       "      <td>The photo shows the seaweed brands I've trie...</td>\n",
       "      <td>5.0</td>\n",
       "      <td>Elisa S.</td>\n",
       "    </tr>\n",
       "    <tr>\n",
       "      <th>3</th>\n",
       "      <td>July 23, 2017</td>\n",
       "      <td>Oily and stale</td>\n",
       "      <td>The first time I bought these I fell in love...</td>\n",
       "      <td>1.0</td>\n",
       "      <td>Ani_Mon</td>\n",
       "    </tr>\n",
       "    <tr>\n",
       "      <th>4</th>\n",
       "      <td>February 4, 2017</td>\n",
       "      <td>The BEST seasoned seaweed makers in the WORLD</td>\n",
       "      <td>I ate the entire box in a week. This stuff i...</td>\n",
       "      <td>5.0</td>\n",
       "      <td>Rachel Humphrey</td>\n",
       "    </tr>\n",
       "  </tbody>\n",
       "</table>\n",
       "</div>"
      ],
      "text/plain": [
       "                 date                                          title  \\\n",
       "0         May 4, 2019  This is very dangerous product ! Do not buy !   \n",
       "1  September 17, 2018                         Bug eggs in package?!!   \n",
       "2   December 17, 2018                                  #1 on my list   \n",
       "3       July 23, 2017                                 Oily and stale   \n",
       "4    February 4, 2017  The BEST seasoned seaweed makers in the WORLD   \n",
       "\n",
       "                                              review  score           author  \n",
       "0    I've been buying this product for a year, I ...    1.0           Dmitry  \n",
       "1    Thsee don't expire until December. I opened ...    1.0              S A  \n",
       "2    The photo shows the seaweed brands I've trie...    5.0         Elisa S.  \n",
       "3    The first time I bought these I fell in love...    1.0          Ani_Mon  \n",
       "4    I ate the entire box in a week. This stuff i...    5.0  Rachel Humphrey  "
      ]
     },
     "execution_count": 13,
     "metadata": {},
     "output_type": "execute_result"
    }
   ],
   "source": [
    "review = pd.DataFrame({'date': date, 'title' : title, 'review': review, 'score': score, 'author': author})\n",
    "review.head()"
   ]
  },
  {
   "cell_type": "markdown",
   "metadata": {},
   "source": [
    "# Preprocessing"
   ]
  },
  {
   "cell_type": "code",
   "execution_count": 14,
   "metadata": {},
   "outputs": [],
   "source": [
    "try:\n",
    "    from nltk.corpus import stopwords\n",
    "except:\n",
    "    !pip install nltk\n",
    "    from nltk.corpus import stopwords\n",
    "\n",
    "try:\n",
    "    from bs4 import BeautifulSoup \n",
    "except:\n",
    "    !pip install bs4\n",
    "    from bs4 import BeautifulSoup \n",
    "\n",
    "try:\n",
    "    import re\n",
    "except:\n",
    "    !pip install re\n",
    "    import re\n",
    "\n",
    "try:\n",
    "    import numpy as np\n",
    "except:\n",
    "    !pip install numpy\n",
    "    import numpy as np\n",
    "\n",
    "#text cleaning\n",
    "stop_words = set(stopwords.words(\"english\"))\n",
    "\n",
    "stop_words.update((\"love\", \"loves\", \"great\", \"good\", \"better\", \"amazing\", \"buying\", \"found\", \"get\", \"like\", \"loved\", 'maybe', 'may', 'could', 'awesome', \n",
    "                   'definitely', 'perfect' , 'best', 'okay', 'excellent', 'disappointed', 'right', 'nice', 'however', 'maybe', 'pretty', 'thank', 'wonderful', 'terrible', \n",
    "                   'unfortunately', 'awful', 'horrible', 'worst', 'wont', 'surprised', 'one', 'bad', 'actually', 'really', 'would',\n",
    "                    'everybody', 'sometime', 'state', 'generally', 'edge', 'report', 'gross'\n",
    "))\n",
    "\n",
    "def text_cleaner(text,num):\n",
    "    newString=str(text).lower()\n",
    "    newString = BeautifulSoup(newString, \"lxml\").text\n",
    "    newString = re.sub(r'\\([^)]*\\)', '', newString)\n",
    "    newString = re.sub('\"','', newString)\n",
    "    newString = ' '.join([contraction_mapping[t] if t in contraction_mapping else t for t in newString.split(\" \")])    \n",
    "    newString = re.sub(r\"'s\\b\",\"\",newString)\n",
    "    newString = re.sub(\"[^a-zA-Z]\", \" \", newString) \n",
    "    newString = re.sub('[m]{2,}', 'mm', newString)\n",
    "    if(num==0):\n",
    "        tokens = [w for w in newString.split() if not w in stop_words]\n",
    "    else:\n",
    "        tokens=newString.split()\n",
    "    long_words=[]\n",
    "    for i in tokens:\n",
    "        if len(i)>1:   #removing short word\n",
    "            long_words.append(i)   \n",
    "    return (\" \".join(long_words)).strip()"
   ]
  },
  {
   "cell_type": "code",
   "execution_count": 15,
   "metadata": {},
   "outputs": [],
   "source": [
    "contraction_mapping = {\"won't\": \"will not\",  \"ain't\": \"is not\", \"aren't\": \"are not\",\"can't\": \"cannot\", \"'cause\": \"because\", \"could've\": \"could have\", \"couldn't\": \"could not\",\n",
    "\n",
    "                       \"didn't\": \"did not\", \"doesn't\": \"does not\", \"don't\": \"do not\", \"hadn't\": \"had not\", \"hasn't\": \"has not\", \"haven't\": \"have not\",\n",
    "\n",
    "                       \"he'd\": \"he would\",\"he'll\": \"he will\", \"he's\": \"he is\", \"how'd\": \"how did\", \"how'd'y\": \"how do you\", \"how'll\": \"how will\", \"how's\": \"how is\",\n",
    "\n",
    "                       \"I'd\": \"I would\", \"I'd've\": \"I would have\", \"I'll\": \"I will\", \"I'll've\": \"I will have\",\"I'm\": \"I am\", \"I've\": \"I have\", \"i'd\": \"i would\",\n",
    "\n",
    "                       \"i'd've\": \"i would have\", \"i'll\": \"i will\",  \"i'll've\": \"i will have\",\"i'm\": \"i am\", \"i've\": \"i have\", \"isn't\": \"is not\", \"it'd\": \"it would\",\n",
    "\n",
    "                       \"it'd've\": \"it would have\", \"it'll\": \"it will\", \"it'll've\": \"it will have\",\"it's\": \"it is\", \"let's\": \"let us\", \"ma'am\": \"madam\",\n",
    "\n",
    "                       \"mayn't\": \"may not\", \"might've\": \"might have\",\"mightn't\": \"might not\",\"mightn't've\": \"might not have\", \"must've\": \"must have\",\n",
    "\n",
    "                       \"mustn't\": \"must not\", \"mustn't've\": \"must not have\", \"needn't\": \"need not\", \"needn't've\": \"need not have\",\"o'clock\": \"of the clock\",\n",
    "\n",
    "                       \"oughtn't\": \"ought not\", \"oughtn't've\": \"ought not have\", \"shan't\": \"shall not\", \"sha'n't\": \"shall not\", \"shan't've\": \"shall not have\",\n",
    "\n",
    "                       \"she'd\": \"she would\", \"she'd've\": \"she would have\", \"she'll\": \"she will\", \"she'll've\": \"she will have\", \"she's\": \"she is\",\n",
    "\n",
    "                       \"should've\": \"should have\", \"shouldn't\": \"should not\", \"shouldn't've\": \"should not have\", \"so've\": \"so have\",\"so's\": \"so as\",\n",
    "\n",
    "                       \"this's\": \"this is\",\"that'd\": \"that would\", \"that'd've\": \"that would have\", \"that's\": \"that is\", \"there'd\": \"there would\",\n",
    "\n",
    "                       \"there'd've\": \"there would have\", \"there's\": \"there is\", \"here's\": \"here is\",\"they'd\": \"they would\", \"they'd've\": \"they would have\",\n",
    "\n",
    "                       \"they'll\": \"they will\", \"they'll've\": \"they will have\", \"they're\": \"they are\", \"they've\": \"they have\", \"to've\": \"to have\",\n",
    "\n",
    "                       \"wasn't\": \"was not\", \"we'd\": \"we would\", \"we'd've\": \"we would have\", \"we'll\": \"we will\", \"we'll've\": \"we will have\", \"we're\": \"we are\",\n",
    "\n",
    "                       \"we've\": \"we have\", \"weren't\": \"were not\", \"what'll\": \"what will\", \"what'll've\": \"what will have\", \"what're\": \"what are\",\n",
    "\n",
    "                       \"what's\": \"what is\", \"what've\": \"what have\", \"when's\": \"when is\", \"when've\": \"when have\", \"where'd\": \"where did\", \"where's\": \"where is\",\n",
    "\n",
    "                       \"where've\": \"where have\", \"who'll\": \"who will\", \"who'll've\": \"who will have\", \"who's\": \"who is\", \"who've\": \"who have\",\n",
    "\n",
    "                       \"why's\": \"why is\", \"why've\": \"why have\", \"will've\": \"will have\", \"won't\": \"will not\", \"won't've\": \"will not have\",\n",
    "\n",
    "                       \"would've\": \"would have\", \"wouldn't\": \"would not\", \"wouldn't've\": \"would not have\", \"y'all\": \"you all\",\n",
    "\n",
    "                       \"y'all'd\": \"you all would\",\"y'all'd've\": \"you all would have\",\"y'all're\": \"you all are\",\"y'all've\": \"you all have\",\n",
    "\n",
    "                       \"you'd\": \"you would\", \"you'd've\": \"you would have\", \"you'll\": \"you will\", \"you'll've\": \"you will have\",\n",
    "\n",
    "                       \"you're\": \"you are\", \"you've\": \"you have\"}"
   ]
  },
  {
   "cell_type": "code",
   "execution_count": 16,
   "metadata": {},
   "outputs": [],
   "source": [
    "cleaning_text = []\n",
    "for r in review['review']:\n",
    "    cleaning_text.append(text_cleaner(r,0))"
   ]
  },
  {
   "cell_type": "code",
   "execution_count": 17,
   "metadata": {},
   "outputs": [
    {
     "data": {
      "text/plain": [
       "0    product year bought many times definetely give...\n",
       "1    thsee expire december opened today looks bug e...\n",
       "2    photo shows seaweed brands tried order prefere...\n",
       "3    first time bought fell types seaweed snacks tr...\n",
       "4    ate entire box week stuff delicious enjoy trad...\n",
       "Name: cleaned_text, dtype: object"
      ]
     },
     "execution_count": 17,
     "metadata": {},
     "output_type": "execute_result"
    }
   ],
   "source": [
    "review['cleaned_text']=cleaning_text\n",
    "review['cleaned_text'].head()"
   ]
  },
  {
   "cell_type": "code",
   "execution_count": 18,
   "metadata": {},
   "outputs": [],
   "source": [
    "#visulazie the noumber of word\n",
    "\n",
    "try:\n",
    "    import matplotlib.pyplot as plt\n",
    "except:\n",
    "    !pip install matplotlib\n",
    "    import matplotlib.pyplot as plt\n",
    "    \n",
    "#counting\n",
    "n_of_text = []\n",
    "\n",
    "for i in review['cleaned_text']:\n",
    "    n_of_text.append(len(i.split()))"
   ]
  },
  {
   "cell_type": "code",
   "execution_count": 19,
   "metadata": {},
   "outputs": [
    {
     "data": {
      "image/png": "[encoded data removed]",
      "text/plain": [
       "<Figure size 432x288 with 1 Axes>"
      ]
     },
     "metadata": {
      "needs_background": "light"
     },
     "output_type": "display_data"
    }
   ],
   "source": [
    "length = pd.DataFrame({'text' : n_of_text})\n",
    "length.hist(bins = 80)\n",
    "plt.rc('figure', figsize=(10, 5))\n",
    "plt.show()"
   ]
  },
  {
   "cell_type": "markdown",
   "metadata": {},
   "source": [
    "# Visualization: word frequency"
   ]
  },
  {
   "cell_type": "code",
   "execution_count": 20,
   "metadata": {},
   "outputs": [
    {
     "name": "stdout",
     "output_type": "stream",
     "text": [
      "<FreqDist with 5197 samples and 5779 outcomes>\n"
     ]
    },
    {
     "data": {
      "image/png": "[encoded data removed]",
      "text/plain": [
       "<Figure size 720x360 with 1 Axes>"
      ]
     },
     "metadata": {
      "needs_background": "light"
     },
     "output_type": "display_data"
    }
   ],
   "source": [
    "from nltk.probability import FreqDist\n",
    "fdist = FreqDist(review['cleaned_text'])\n",
    "print(fdist)\n",
    "\n",
    "fdist.most_common(2)\n",
    "fdist.plot(30,cumulative=False)\n",
    "plt.show()"
   ]
  },
  {
   "cell_type": "code",
   "execution_count": 21,
   "metadata": {},
   "outputs": [
    {
     "data": {
      "image/png": "[encoded data removed]",
      "text/plain": [
       "<Figure size 1008x576 with 1 Axes>"
      ]
     },
     "metadata": {
      "needs_background": "light"
     },
     "output_type": "display_data"
    }
   ],
   "source": [
    "import nltk\n",
    "\n",
    "plt.figure(figsize=(14,8))\n",
    "\n",
    "myText = nltk.Text(review['cleaned_text'])\n",
    "\n",
    "topics = ['snack', 'salty', 'kids', 'healthy snack', 'expensive']\n",
    "myText.dispersion_plot(topics)"
   ]
  },
  {
   "cell_type": "code",
   "execution_count": 22,
   "metadata": {},
   "outputs": [
    {
     "name": "stdout",
     "output_type": "stream",
     "text": [
      "expensive more :  , delicious , taste , yummy , product\n",
      "healthy snack more :  , delicious , taste , yummy , product\n",
      "kids more :  , delicious , taste , yummy , product\n",
      "salty more :  , delicious , taste , yummy , product\n",
      "snack more :  , delicious , taste , yummy , product\n"
     ]
    }
   ],
   "source": [
    "for topic in topics:   \n",
    "    freqdist = nltk.FreqDist(review['cleaned_text'])\n",
    "    print(topic,'more :', ' , '.join([ word.lower() for word, count in freqdist.most_common(5)]))"
   ]
  },
  {
   "cell_type": "code",
   "execution_count": 23,
   "metadata": {},
   "outputs": [
    {
     "data": {
      "image/png": "[encoded data removed]",
      "text/plain": [
       "<Figure size 720x360 with 1 Axes>"
      ]
     },
     "metadata": {
      "needs_background": "light"
     },
     "output_type": "display_data"
    },
    {
     "data": {
      "text/plain": [
       "<matplotlib.axes._subplots.AxesSubplot at 0x1fc2e627108>"
      ]
     },
     "execution_count": 23,
     "metadata": {},
     "output_type": "execute_result"
    }
   ],
   "source": [
    "freqdist.plot(10)"
   ]
  },
  {
   "cell_type": "code",
   "execution_count": 24,
   "metadata": {},
   "outputs": [],
   "source": [
    "tokenized_doc = review['cleaned_text'].apply(lambda x : x.split())"
   ]
  },
  {
   "cell_type": "code",
   "execution_count": 25,
   "metadata": {},
   "outputs": [],
   "source": [
    "from nltk.tag import pos_tag\n",
    "from nltk.tokenize import word_tokenize\n",
    "\n",
    "tagged_list = []\n",
    "\n",
    "for t in tokenized_doc:\n",
    "    tagged_list.append(pos_tag(t))"
   ]
  },
  {
   "cell_type": "code",
   "execution_count": 26,
   "metadata": {},
   "outputs": [
    {
     "data": {
      "text/html": [
       "<div>\n",
       "<style scoped>\n",
       "    .dataframe tbody tr th:only-of-type {\n",
       "        vertical-align: middle;\n",
       "    }\n",
       "\n",
       "    .dataframe tbody tr th {\n",
       "        vertical-align: top;\n",
       "    }\n",
       "\n",
       "    .dataframe thead th {\n",
       "        text-align: right;\n",
       "    }\n",
       "</style>\n",
       "<table border=\"1\" class=\"dataframe\">\n",
       "  <thead>\n",
       "    <tr style=\"text-align: right;\">\n",
       "      <th></th>\n",
       "      <th>tagged_list</th>\n",
       "    </tr>\n",
       "  </thead>\n",
       "  <tbody>\n",
       "    <tr>\n",
       "      <th>0</th>\n",
       "      <td>[(product, NN), (year, NN), (bought, VBD), (ma...</td>\n",
       "    </tr>\n",
       "    <tr>\n",
       "      <th>1</th>\n",
       "      <td>[(thsee, NN), (expire, NN), (december, NN), (o...</td>\n",
       "    </tr>\n",
       "    <tr>\n",
       "      <th>2</th>\n",
       "      <td>[(photo, NN), (shows, NNS), (seaweed, VBP), (b...</td>\n",
       "    </tr>\n",
       "    <tr>\n",
       "      <th>3</th>\n",
       "      <td>[(first, JJ), (time, NN), (bought, VBN), (fell...</td>\n",
       "    </tr>\n",
       "    <tr>\n",
       "      <th>4</th>\n",
       "      <td>[(ate, NN), (entire, JJ), (box, NN), (week, NN...</td>\n",
       "    </tr>\n",
       "  </tbody>\n",
       "</table>\n",
       "</div>"
      ],
      "text/plain": [
       "                                         tagged_list\n",
       "0  [(product, NN), (year, NN), (bought, VBD), (ma...\n",
       "1  [(thsee, NN), (expire, NN), (december, NN), (o...\n",
       "2  [(photo, NN), (shows, NNS), (seaweed, VBP), (b...\n",
       "3  [(first, JJ), (time, NN), (bought, VBN), (fell...\n",
       "4  [(ate, NN), (entire, JJ), (box, NN), (week, NN..."
      ]
     },
     "execution_count": 26,
     "metadata": {},
     "output_type": "execute_result"
    }
   ],
   "source": [
    "pos_tag = pd.DataFrame({'tagged_list': tagged_list})\n",
    "pos_tag.head()"
   ]
  },
  {
   "cell_type": "code",
   "execution_count": 27,
   "metadata": {},
   "outputs": [
    {
     "data": {
      "text/plain": [
       "0    {'NN': 15, 'VBD': 4, 'JJ': 13, 'NNS': 2, 'RB':...\n",
       "1    {'NN': 7, 'VBD': 1, 'VBZ': 1, 'NNS': 1, 'VBG':...\n",
       "2    {'NN': 44, 'NNS': 6, 'VBP': 7, 'JJ': 21, 'RB':...\n",
       "3    {'JJ': 5, 'NN': 10, 'VBN': 2, 'VBD': 2, 'NNS':...\n",
       "4    {'NN': 19, 'JJ': 14, 'VBP': 6, 'FW': 1, 'NNS':...\n",
       "Name: tagged_list, dtype: object"
      ]
     },
     "execution_count": 27,
     "metadata": {},
     "output_type": "execute_result"
    }
   ],
   "source": [
    "def count_tags(title_with_tags):\n",
    "    tag_count = {}\n",
    "    for word, tag in title_with_tags:\n",
    "        if tag in tag_count:\n",
    "            tag_count[tag] += 1\n",
    "        else:\n",
    "            tag_count[tag] = 1\n",
    "    return(tag_count)\n",
    "\n",
    "pos_tag['tagged_list'].map(count_tags).head()"
   ]
  },
  {
   "cell_type": "code",
   "execution_count": 28,
   "metadata": {},
   "outputs": [
    {
     "data": {
      "text/html": [
       "<div>\n",
       "<style scoped>\n",
       "    .dataframe tbody tr th:only-of-type {\n",
       "        vertical-align: middle;\n",
       "    }\n",
       "\n",
       "    .dataframe tbody tr th {\n",
       "        vertical-align: top;\n",
       "    }\n",
       "\n",
       "    .dataframe thead th {\n",
       "        text-align: right;\n",
       "    }\n",
       "</style>\n",
       "<table border=\"1\" class=\"dataframe\">\n",
       "  <thead>\n",
       "    <tr style=\"text-align: right;\">\n",
       "      <th></th>\n",
       "      <th>tagged_list</th>\n",
       "      <th>tag_counts</th>\n",
       "    </tr>\n",
       "  </thead>\n",
       "  <tbody>\n",
       "    <tr>\n",
       "      <th>0</th>\n",
       "      <td>[(product, NN), (year, NN), (bought, VBD), (ma...</td>\n",
       "      <td>{'NN': 15, 'VBD': 4, 'JJ': 13, 'NNS': 2, 'RB':...</td>\n",
       "    </tr>\n",
       "    <tr>\n",
       "      <th>1</th>\n",
       "      <td>[(thsee, NN), (expire, NN), (december, NN), (o...</td>\n",
       "      <td>{'NN': 7, 'VBD': 1, 'VBZ': 1, 'NNS': 1, 'VBG':...</td>\n",
       "    </tr>\n",
       "    <tr>\n",
       "      <th>2</th>\n",
       "      <td>[(photo, NN), (shows, NNS), (seaweed, VBP), (b...</td>\n",
       "      <td>{'NN': 44, 'NNS': 6, 'VBP': 7, 'JJ': 21, 'RB':...</td>\n",
       "    </tr>\n",
       "    <tr>\n",
       "      <th>3</th>\n",
       "      <td>[(first, JJ), (time, NN), (bought, VBN), (fell...</td>\n",
       "      <td>{'JJ': 5, 'NN': 10, 'VBN': 2, 'VBD': 2, 'NNS':...</td>\n",
       "    </tr>\n",
       "    <tr>\n",
       "      <th>4</th>\n",
       "      <td>[(ate, NN), (entire, JJ), (box, NN), (week, NN...</td>\n",
       "      <td>{'NN': 19, 'JJ': 14, 'VBP': 6, 'FW': 1, 'NNS':...</td>\n",
       "    </tr>\n",
       "  </tbody>\n",
       "</table>\n",
       "</div>"
      ],
      "text/plain": [
       "                                         tagged_list  \\\n",
       "0  [(product, NN), (year, NN), (bought, VBD), (ma...   \n",
       "1  [(thsee, NN), (expire, NN), (december, NN), (o...   \n",
       "2  [(photo, NN), (shows, NNS), (seaweed, VBP), (b...   \n",
       "3  [(first, JJ), (time, NN), (bought, VBN), (fell...   \n",
       "4  [(ate, NN), (entire, JJ), (box, NN), (week, NN...   \n",
       "\n",
       "                                          tag_counts  \n",
       "0  {'NN': 15, 'VBD': 4, 'JJ': 13, 'NNS': 2, 'RB':...  \n",
       "1  {'NN': 7, 'VBD': 1, 'VBZ': 1, 'NNS': 1, 'VBG':...  \n",
       "2  {'NN': 44, 'NNS': 6, 'VBP': 7, 'JJ': 21, 'RB':...  \n",
       "3  {'JJ': 5, 'NN': 10, 'VBN': 2, 'VBD': 2, 'NNS':...  \n",
       "4  {'NN': 19, 'JJ': 14, 'VBP': 6, 'FW': 1, 'NNS':...  "
      ]
     },
     "execution_count": 28,
     "metadata": {},
     "output_type": "execute_result"
    }
   ],
   "source": [
    "pos_tag['tag_counts'] = pos_tag['tagged_list'].map(count_tags)\n",
    "pos_tag.head()"
   ]
  },
  {
   "cell_type": "code",
   "execution_count": 29,
   "metadata": {},
   "outputs": [
    {
     "data": {
      "text/plain": [
       "<matplotlib.axes._subplots.AxesSubplot at 0x1fc31b7da48>"
      ]
     },
     "execution_count": 29,
     "metadata": {},
     "output_type": "execute_result"
    },
    {
     "data": {
      "image/png": "[encoded data removed]",
      "text/plain": [
       "<Figure size 864x720 with 1 Axes>"
      ]
     },
     "metadata": {
      "needs_background": "light"
     },
     "output_type": "display_data"
    }
   ],
   "source": [
    "tag_set = list(set([tag for tags in pos_tag['tag_counts'] for tag in tags]))\n",
    "for tag in tag_set:\n",
    "    pos_tag[tag] = pos_tag['tag_counts'].map(lambda x: x.get(tag, 0))\n",
    "title = 'Frequency of POS Tags in Review'    \n",
    "pos_tag[tag_set].sum().sort_values().plot(kind='barh', logx=True, figsize=(12,10), title=title)"
   ]
  },
  {
   "cell_type": "code",
   "execution_count": 30,
   "metadata": {},
   "outputs": [
    {
     "data": {
      "text/html": [
       "<div>\n",
       "<style scoped>\n",
       "    .dataframe tbody tr th:only-of-type {\n",
       "        vertical-align: middle;\n",
       "    }\n",
       "\n",
       "    .dataframe tbody tr th {\n",
       "        vertical-align: top;\n",
       "    }\n",
       "\n",
       "    .dataframe thead th {\n",
       "        text-align: right;\n",
       "    }\n",
       "</style>\n",
       "<table border=\"1\" class=\"dataframe\">\n",
       "  <thead>\n",
       "    <tr style=\"text-align: right;\">\n",
       "      <th></th>\n",
       "      <th>NN</th>\n",
       "      <th>VBD</th>\n",
       "      <th>VBN</th>\n",
       "      <th>RB</th>\n",
       "      <th>JJ</th>\n",
       "      <th>NNS</th>\n",
       "      <th>VBP</th>\n",
       "      <th>VB</th>\n",
       "      <th>CD</th>\n",
       "      <th>VBG</th>\n",
       "      <th>...</th>\n",
       "      <th>RBS</th>\n",
       "      <th>DT</th>\n",
       "      <th>FW</th>\n",
       "      <th>NNP</th>\n",
       "      <th>WDT</th>\n",
       "      <th>UH</th>\n",
       "      <th>PRP</th>\n",
       "      <th>WRB</th>\n",
       "      <th>WP</th>\n",
       "      <th>POS</th>\n",
       "    </tr>\n",
       "  </thead>\n",
       "  <tbody>\n",
       "    <tr>\n",
       "      <th>kick</th>\n",
       "      <td>28.0</td>\n",
       "      <td>0.0</td>\n",
       "      <td>0.0</td>\n",
       "      <td>0.0</td>\n",
       "      <td>14.0</td>\n",
       "      <td>1.0</td>\n",
       "      <td>5.0</td>\n",
       "      <td>1.0</td>\n",
       "      <td>0.0</td>\n",
       "      <td>0.0</td>\n",
       "      <td>...</td>\n",
       "      <td>0.0</td>\n",
       "      <td>0.0</td>\n",
       "      <td>0.0</td>\n",
       "      <td>4.0</td>\n",
       "      <td>0.0</td>\n",
       "      <td>0.0</td>\n",
       "      <td>0.0</td>\n",
       "      <td>0.0</td>\n",
       "      <td>0.0</td>\n",
       "      <td>0.0</td>\n",
       "    </tr>\n",
       "    <tr>\n",
       "      <th>know</th>\n",
       "      <td>3.0</td>\n",
       "      <td>0.0</td>\n",
       "      <td>0.0</td>\n",
       "      <td>0.0</td>\n",
       "      <td>20.0</td>\n",
       "      <td>7.0</td>\n",
       "      <td>112.0</td>\n",
       "      <td>33.0</td>\n",
       "      <td>0.0</td>\n",
       "      <td>0.0</td>\n",
       "      <td>...</td>\n",
       "      <td>0.0</td>\n",
       "      <td>0.0</td>\n",
       "      <td>0.0</td>\n",
       "      <td>3.0</td>\n",
       "      <td>0.0</td>\n",
       "      <td>0.0</td>\n",
       "      <td>0.0</td>\n",
       "      <td>0.0</td>\n",
       "      <td>0.0</td>\n",
       "      <td>0.0</td>\n",
       "    </tr>\n",
       "    <tr>\n",
       "      <th>kfordhealth</th>\n",
       "      <td>0.0</td>\n",
       "      <td>0.0</td>\n",
       "      <td>0.0</td>\n",
       "      <td>0.0</td>\n",
       "      <td>0.0</td>\n",
       "      <td>0.0</td>\n",
       "      <td>0.0</td>\n",
       "      <td>0.0</td>\n",
       "      <td>0.0</td>\n",
       "      <td>0.0</td>\n",
       "      <td>...</td>\n",
       "      <td>0.0</td>\n",
       "      <td>0.0</td>\n",
       "      <td>0.0</td>\n",
       "      <td>1.0</td>\n",
       "      <td>0.0</td>\n",
       "      <td>0.0</td>\n",
       "      <td>0.0</td>\n",
       "      <td>0.0</td>\n",
       "      <td>0.0</td>\n",
       "      <td>0.0</td>\n",
       "    </tr>\n",
       "    <tr>\n",
       "      <th>kirkland</th>\n",
       "      <td>8.0</td>\n",
       "      <td>0.0</td>\n",
       "      <td>0.0</td>\n",
       "      <td>0.0</td>\n",
       "      <td>1.0</td>\n",
       "      <td>0.0</td>\n",
       "      <td>0.0</td>\n",
       "      <td>2.0</td>\n",
       "      <td>0.0</td>\n",
       "      <td>0.0</td>\n",
       "      <td>...</td>\n",
       "      <td>0.0</td>\n",
       "      <td>0.0</td>\n",
       "      <td>0.0</td>\n",
       "      <td>1.0</td>\n",
       "      <td>0.0</td>\n",
       "      <td>0.0</td>\n",
       "      <td>0.0</td>\n",
       "      <td>0.0</td>\n",
       "      <td>0.0</td>\n",
       "      <td>0.0</td>\n",
       "    </tr>\n",
       "    <tr>\n",
       "      <th>yummy</th>\n",
       "      <td>115.0</td>\n",
       "      <td>0.0</td>\n",
       "      <td>0.0</td>\n",
       "      <td>21.0</td>\n",
       "      <td>30.0</td>\n",
       "      <td>14.0</td>\n",
       "      <td>14.0</td>\n",
       "      <td>4.0</td>\n",
       "      <td>6.0</td>\n",
       "      <td>0.0</td>\n",
       "      <td>...</td>\n",
       "      <td>0.0</td>\n",
       "      <td>0.0</td>\n",
       "      <td>0.0</td>\n",
       "      <td>1.0</td>\n",
       "      <td>0.0</td>\n",
       "      <td>0.0</td>\n",
       "      <td>4.0</td>\n",
       "      <td>0.0</td>\n",
       "      <td>0.0</td>\n",
       "      <td>0.0</td>\n",
       "    </tr>\n",
       "    <tr>\n",
       "      <th>tell</th>\n",
       "      <td>12.0</td>\n",
       "      <td>0.0</td>\n",
       "      <td>0.0</td>\n",
       "      <td>0.0</td>\n",
       "      <td>1.0</td>\n",
       "      <td>0.0</td>\n",
       "      <td>14.0</td>\n",
       "      <td>21.0</td>\n",
       "      <td>0.0</td>\n",
       "      <td>0.0</td>\n",
       "      <td>...</td>\n",
       "      <td>0.0</td>\n",
       "      <td>0.0</td>\n",
       "      <td>0.0</td>\n",
       "      <td>1.0</td>\n",
       "      <td>0.0</td>\n",
       "      <td>0.0</td>\n",
       "      <td>0.0</td>\n",
       "      <td>0.0</td>\n",
       "      <td>0.0</td>\n",
       "      <td>0.0</td>\n",
       "    </tr>\n",
       "    <tr>\n",
       "      <th>kaki</th>\n",
       "      <td>2.0</td>\n",
       "      <td>0.0</td>\n",
       "      <td>0.0</td>\n",
       "      <td>0.0</td>\n",
       "      <td>0.0</td>\n",
       "      <td>1.0</td>\n",
       "      <td>0.0</td>\n",
       "      <td>0.0</td>\n",
       "      <td>0.0</td>\n",
       "      <td>0.0</td>\n",
       "      <td>...</td>\n",
       "      <td>0.0</td>\n",
       "      <td>0.0</td>\n",
       "      <td>0.0</td>\n",
       "      <td>1.0</td>\n",
       "      <td>0.0</td>\n",
       "      <td>0.0</td>\n",
       "      <td>0.0</td>\n",
       "      <td>0.0</td>\n",
       "      <td>0.0</td>\n",
       "      <td>0.0</td>\n",
       "    </tr>\n",
       "    <tr>\n",
       "      <th>mart</th>\n",
       "      <td>2.0</td>\n",
       "      <td>0.0</td>\n",
       "      <td>0.0</td>\n",
       "      <td>0.0</td>\n",
       "      <td>0.0</td>\n",
       "      <td>0.0</td>\n",
       "      <td>1.0</td>\n",
       "      <td>0.0</td>\n",
       "      <td>0.0</td>\n",
       "      <td>0.0</td>\n",
       "      <td>...</td>\n",
       "      <td>0.0</td>\n",
       "      <td>0.0</td>\n",
       "      <td>0.0</td>\n",
       "      <td>1.0</td>\n",
       "      <td>0.0</td>\n",
       "      <td>0.0</td>\n",
       "      <td>0.0</td>\n",
       "      <td>0.0</td>\n",
       "      <td>0.0</td>\n",
       "      <td>0.0</td>\n",
       "    </tr>\n",
       "    <tr>\n",
       "      <th>quality</th>\n",
       "      <td>94.0</td>\n",
       "      <td>0.0</td>\n",
       "      <td>0.0</td>\n",
       "      <td>0.0</td>\n",
       "      <td>7.0</td>\n",
       "      <td>0.0</td>\n",
       "      <td>4.0</td>\n",
       "      <td>0.0</td>\n",
       "      <td>0.0</td>\n",
       "      <td>0.0</td>\n",
       "      <td>...</td>\n",
       "      <td>0.0</td>\n",
       "      <td>0.0</td>\n",
       "      <td>0.0</td>\n",
       "      <td>1.0</td>\n",
       "      <td>0.0</td>\n",
       "      <td>0.0</td>\n",
       "      <td>0.0</td>\n",
       "      <td>0.0</td>\n",
       "      <td>0.0</td>\n",
       "      <td>0.0</td>\n",
       "    </tr>\n",
       "    <tr>\n",
       "      <th>yolk</th>\n",
       "      <td>3.0</td>\n",
       "      <td>0.0</td>\n",
       "      <td>0.0</td>\n",
       "      <td>0.0</td>\n",
       "      <td>1.0</td>\n",
       "      <td>0.0</td>\n",
       "      <td>0.0</td>\n",
       "      <td>0.0</td>\n",
       "      <td>0.0</td>\n",
       "      <td>0.0</td>\n",
       "      <td>...</td>\n",
       "      <td>0.0</td>\n",
       "      <td>0.0</td>\n",
       "      <td>0.0</td>\n",
       "      <td>1.0</td>\n",
       "      <td>0.0</td>\n",
       "      <td>0.0</td>\n",
       "      <td>0.0</td>\n",
       "      <td>0.0</td>\n",
       "      <td>0.0</td>\n",
       "      <td>0.0</td>\n",
       "    </tr>\n",
       "  </tbody>\n",
       "</table>\n",
       "<p>10 rows × 28 columns</p>\n",
       "</div>"
      ],
      "text/plain": [
       "                NN  VBD  VBN    RB    JJ   NNS    VBP    VB   CD  VBG  ...  \\\n",
       "kick          28.0  0.0  0.0   0.0  14.0   1.0    5.0   1.0  0.0  0.0  ...   \n",
       "know           3.0  0.0  0.0   0.0  20.0   7.0  112.0  33.0  0.0  0.0  ...   \n",
       "kfordhealth    0.0  0.0  0.0   0.0   0.0   0.0    0.0   0.0  0.0  0.0  ...   \n",
       "kirkland       8.0  0.0  0.0   0.0   1.0   0.0    0.0   2.0  0.0  0.0  ...   \n",
       "yummy        115.0  0.0  0.0  21.0  30.0  14.0   14.0   4.0  6.0  0.0  ...   \n",
       "tell          12.0  0.0  0.0   0.0   1.0   0.0   14.0  21.0  0.0  0.0  ...   \n",
       "kaki           2.0  0.0  0.0   0.0   0.0   1.0    0.0   0.0  0.0  0.0  ...   \n",
       "mart           2.0  0.0  0.0   0.0   0.0   0.0    1.0   0.0  0.0  0.0  ...   \n",
       "quality       94.0  0.0  0.0   0.0   7.0   0.0    4.0   0.0  0.0  0.0  ...   \n",
       "yolk           3.0  0.0  0.0   0.0   1.0   0.0    0.0   0.0  0.0  0.0  ...   \n",
       "\n",
       "             RBS   DT   FW  NNP  WDT   UH  PRP  WRB   WP  POS  \n",
       "kick         0.0  0.0  0.0  4.0  0.0  0.0  0.0  0.0  0.0  0.0  \n",
       "know         0.0  0.0  0.0  3.0  0.0  0.0  0.0  0.0  0.0  0.0  \n",
       "kfordhealth  0.0  0.0  0.0  1.0  0.0  0.0  0.0  0.0  0.0  0.0  \n",
       "kirkland     0.0  0.0  0.0  1.0  0.0  0.0  0.0  0.0  0.0  0.0  \n",
       "yummy        0.0  0.0  0.0  1.0  0.0  0.0  4.0  0.0  0.0  0.0  \n",
       "tell         0.0  0.0  0.0  1.0  0.0  0.0  0.0  0.0  0.0  0.0  \n",
       "kaki         0.0  0.0  0.0  1.0  0.0  0.0  0.0  0.0  0.0  0.0  \n",
       "mart         0.0  0.0  0.0  1.0  0.0  0.0  0.0  0.0  0.0  0.0  \n",
       "quality      0.0  0.0  0.0  1.0  0.0  0.0  0.0  0.0  0.0  0.0  \n",
       "yolk         0.0  0.0  0.0  1.0  0.0  0.0  0.0  0.0  0.0  0.0  \n",
       "\n",
       "[10 rows x 28 columns]"
      ]
     },
     "execution_count": 30,
     "metadata": {},
     "output_type": "execute_result"
    }
   ],
   "source": [
    "vocabulary = {}\n",
    "for row in pos_tag['tagged_list']:\n",
    "    for word, tag in row:\n",
    "        if word in vocabulary:\n",
    "            if tag in vocabulary[word]:\n",
    "                vocabulary[word][tag] += 1\n",
    "            else:\n",
    "                vocabulary[word][tag] = 1\n",
    "        else:\n",
    "            vocabulary[word] = {tag: 1}\n",
    "vocabulary_df = pd.DataFrame.from_dict(vocabulary, orient='index')\n",
    "vocabulary_df.fillna(value=0, inplace=True)\n",
    "tag = 'NNP' # NNP: Proper noun, singular \n",
    "vocabulary_df.sort_values(by=tag, ascending=False).head(10)"
   ]
  },
  {
   "cell_type": "code",
   "execution_count": 31,
   "metadata": {},
   "outputs": [
    {
     "data": {
      "text/plain": [
       "<matplotlib.axes._subplots.AxesSubplot at 0x1fc2e1de648>"
      ]
     },
     "execution_count": 31,
     "metadata": {},
     "output_type": "execute_result"
    },
    {
     "data": {
      "image/png": "[encoded data removed]",
      "text/plain": [
       "<Figure size 864x720 with 1 Axes>"
      ]
     },
     "metadata": {
      "needs_background": "light"
     },
     "output_type": "display_data"
    }
   ],
   "source": [
    "size = 25\n",
    "tag = 'VBG' # VBG: Verb, gerund or present participle\n",
    "title = 'Top {} Most Frequent Words for {} Tag'.format(size, tag)\n",
    "vocabulary_df[tag].sort_values().tail(size).plot(kind='barh', figsize=(12,10), title=title)"
   ]
  },
  {
   "cell_type": "code",
   "execution_count": 32,
   "metadata": {},
   "outputs": [
    {
     "data": {
      "text/plain": [
       "<matplotlib.axes._subplots.AxesSubplot at 0x1fc337a3448>"
      ]
     },
     "execution_count": 32,
     "metadata": {},
     "output_type": "execute_result"
    },
    {
     "data": {
      "image/png": "[encoded data removed]",
      "text/plain": [
       "<Figure size 864x720 with 1 Axes>"
      ]
     },
     "metadata": {
      "needs_background": "light"
     },
     "output_type": "display_data"
    }
   ],
   "source": [
    "size = 25\n",
    "tag = 'VBD' \n",
    "title = 'Top {} Most Frequent Words for {} Tag'.format(size, tag)\n",
    "vocabulary_df[tag].sort_values().tail(size).plot(kind='barh', figsize=(12,10), title=title)"
   ]
  },
  {
   "cell_type": "code",
   "execution_count": 33,
   "metadata": {},
   "outputs": [
    {
     "data": {
      "text/plain": [
       "<matplotlib.axes._subplots.AxesSubplot at 0x1fc33856848>"
      ]
     },
     "execution_count": 33,
     "metadata": {},
     "output_type": "execute_result"
    },
    {
     "data": {
      "image/png": "[encoded data removed]",
      "text/plain": [
       "<Figure size 864x720 with 1 Axes>"
      ]
     },
     "metadata": {
      "needs_background": "light"
     },
     "output_type": "display_data"
    }
   ],
   "source": [
    "size = 25\n",
    "tag = 'NN'\n",
    "title = 'Top {} Most Frequent Words for {} Tag'.format(size, tag)\n",
    "vocabulary_df[tag].sort_values().tail(size).plot(kind='barh', figsize=(12,10), title=title)"
   ]
  },
  {
   "cell_type": "code",
   "execution_count": 34,
   "metadata": {},
   "outputs": [
    {
     "data": {
      "text/plain": [
       "<matplotlib.axes._subplots.AxesSubplot at 0x1fc33910f48>"
      ]
     },
     "execution_count": 34,
     "metadata": {},
     "output_type": "execute_result"
    },
    {
     "data": {
      "image/png": "[encoded data removed]",
      "text/plain": [
       "<Figure size 864x720 with 1 Axes>"
      ]
     },
     "metadata": {
      "needs_background": "light"
     },
     "output_type": "display_data"
    }
   ],
   "source": [
    "size = 25\n",
    "tag = 'NNS' \n",
    "title = 'Top {} Most Frequent Words for {} Tag'.format(size, tag)\n",
    "vocabulary_df[tag].sort_values().tail(size).plot(kind='barh', figsize=(12,10), title=title)"
   ]
  },
  {
   "cell_type": "code",
   "execution_count": 35,
   "metadata": {},
   "outputs": [
    {
     "data": {
      "text/plain": [
       "<matplotlib.axes._subplots.AxesSubplot at 0x1fc34243248>"
      ]
     },
     "execution_count": 35,
     "metadata": {},
     "output_type": "execute_result"
    },
    {
     "data": {
      "image/png": "[encoded data removed]",
      "text/plain": [
       "<Figure size 864x720 with 1 Axes>"
      ]
     },
     "metadata": {
      "needs_background": "light"
     },
     "output_type": "display_data"
    }
   ],
   "source": [
    "size = 25\n",
    "tag = 'RB' \n",
    "title = 'Top {} Most Frequent Words for {} Tag'.format(size, tag)\n",
    "vocabulary_df[tag].sort_values().tail(size).plot(kind='barh', figsize=(12,10), title=title)"
   ]
  },
  {
   "cell_type": "code",
   "execution_count": 36,
   "metadata": {},
   "outputs": [
    {
     "data": {
      "text/plain": [
       "<matplotlib.axes._subplots.AxesSubplot at 0x1fc33ce0a48>"
      ]
     },
     "execution_count": 36,
     "metadata": {},
     "output_type": "execute_result"
    },
    {
     "data": {
      "image/png": "[encoded data removed]",
      "text/plain": [
       "<Figure size 864x720 with 1 Axes>"
      ]
     },
     "metadata": {
      "needs_background": "light"
     },
     "output_type": "display_data"
    }
   ],
   "source": [
    "size = 25\n",
    "tag = 'RBR' \n",
    "title = 'Top {} Most Frequent Words for {} Tag'.format(size, tag)\n",
    "vocabulary_df[tag].sort_values().tail(size).plot(kind='barh', figsize=(12,10), title=title)"
   ]
  },
  {
   "cell_type": "code",
   "execution_count": 37,
   "metadata": {},
   "outputs": [
    {
     "data": {
      "text/plain": [
       "<matplotlib.axes._subplots.AxesSubplot at 0x1fc331e1348>"
      ]
     },
     "execution_count": 37,
     "metadata": {},
     "output_type": "execute_result"
    },
    {
     "data": {
      "image/png": "[encoded data removed]",
      "text/plain": [
       "<Figure size 864x720 with 1 Axes>"
      ]
     },
     "metadata": {
      "needs_background": "light"
     },
     "output_type": "display_data"
    }
   ],
   "source": [
    "size = 25\n",
    "tag = 'JJ'\n",
    "title = 'Top {} Most Frequent Words for {} Tag'.format(size, tag)\n",
    "vocabulary_df[tag].sort_values().tail(size).plot(kind='barh', figsize=(12,10), title=title)"
   ]
  },
  {
   "cell_type": "code",
   "execution_count": 38,
   "metadata": {},
   "outputs": [
    {
     "data": {
      "text/plain": [
       "<matplotlib.axes._subplots.AxesSubplot at 0x1fc331d7a88>"
      ]
     },
     "execution_count": 38,
     "metadata": {},
     "output_type": "execute_result"
    },
    {
     "data": {
      "image/png": "[encoded data removed]",
      "text/plain": [
       "<Figure size 864x720 with 1 Axes>"
      ]
     },
     "metadata": {
      "needs_background": "light"
     },
     "output_type": "display_data"
    }
   ],
   "source": [
    "size = 25\n",
    "tag = 'JJR' \n",
    "title = 'Top {} Most Frequent Words for {} Tag'.format(size, tag)\n",
    "vocabulary_df[tag].sort_values().tail(size).plot(kind='barh', figsize=(12,10), title=title)"
   ]
  },
  {
   "cell_type": "markdown",
   "metadata": {},
   "source": [
    "# gender identification by name using gender-guesser"
   ]
  },
  {
   "cell_type": "code",
   "execution_count": 39,
   "metadata": {},
   "outputs": [
    {
     "name": "stdout",
     "output_type": "stream",
     "text": [
      "Collecting gender_guesser\n",
      "  Downloading gender_guesser-0.4.0-py2.py3-none-any.whl (379 kB)\n",
      "Installing collected packages: gender-guesser\n",
      "Successfully installed gender-guesser-0.4.0\n",
      "male\n"
     ]
    }
   ],
   "source": [
    "try:\n",
    "    import gender_guesser.detector as gender\n",
    "except:\n",
    "    !pip install gender_guesser\n",
    "    import gender_guesser.detector as gender\n",
    "\n",
    "g = gender.Detector()\n",
    "\n",
    "print(g.get_gender(u\"Bob\"))"
   ]
  },
  {
   "cell_type": "code",
   "execution_count": 40,
   "metadata": {},
   "outputs": [
    {
     "data": {
      "text/plain": [
       "0                Dmitry\n",
       "1                   S A\n",
       "2              Elisa S.\n",
       "3               Ani_Mon\n",
       "4       Rachel Humphrey\n",
       "             ...       \n",
       "1932          Kiara L.,\n",
       "1933       Rosemary M.,\n",
       "1934            deb F.,\n",
       "1935         Joanna A.,\n",
       "1936           Garrett,\n",
       "Name: author, Length: 5779, dtype: object"
      ]
     },
     "execution_count": 40,
     "metadata": {},
     "output_type": "execute_result"
    }
   ],
   "source": [
    "review['author']"
   ]
  },
  {
   "cell_type": "code",
   "execution_count": 41,
   "metadata": {},
   "outputs": [],
   "source": [
    "gender = []\n",
    "\n",
    "for a in review['author']:\n",
    "    gender.append(g.get_gender(a))  "
   ]
  },
  {
   "cell_type": "code",
   "execution_count": 42,
   "metadata": {},
   "outputs": [],
   "source": [
    "while 'unknown' in gender:\n",
    "    gender.remove('unknown')"
   ]
  },
  {
   "cell_type": "code",
   "execution_count": 43,
   "metadata": {},
   "outputs": [
    {
     "data": {
      "image/png": "[encoded data removed]",
      "text/plain": [
       "<Figure size 720x360 with 1 Axes>"
      ]
     },
     "metadata": {
      "needs_background": "light"
     },
     "output_type": "display_data"
    }
   ],
   "source": [
    "try:\n",
    "    import seaborn as sns\n",
    "except:\n",
    "    !pip install seaborn\n",
    "    import seaborn as sns\n",
    "    \n",
    "import matplotlib.pyplot as plt\n",
    "\n",
    "sns.countplot(gender,  palette = 'Set3')\n",
    "plt.rc('figure', figsize=(14, 10))\n",
    "plt.show()"
   ]
  },
  {
   "cell_type": "code",
   "execution_count": null,
   "metadata": {},
   "outputs": [],
   "source": []
  }
 ],
 "metadata": {
  "kernelspec": {
   "display_name": "Python 3",
   "language": "python",
   "name": "python3"
  },
  "language_info": {
   "codemirror_mode": {
    "name": "ipython",
    "version": 3
   },
   "file_extension": ".py",
   "mimetype": "text/x-python",
   "name": "python",
   "nbconvert_exporter": "python",
   "pygments_lexer": "ipython3",
   "version": "3.7.6"
  }
 },
 "nbformat": 4,
 "nbformat_minor": 4
}
