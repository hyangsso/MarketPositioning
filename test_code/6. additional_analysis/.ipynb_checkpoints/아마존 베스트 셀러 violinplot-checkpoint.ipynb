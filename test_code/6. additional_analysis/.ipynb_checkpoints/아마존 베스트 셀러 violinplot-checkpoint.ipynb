{
 "cells": [
  {
   "cell_type": "markdown",
   "metadata": {
    "colab_type": "text",
    "id": "EhTSmj0d0s9N"
   },
   "source": [
    "## 아마존 best seller seaweed 상품 \n",
    "\n",
    "- 데이터 출처: https://www.amazon.com/gp/bestsellers/grocery/14864739011/ref=pd_zg_hrsr_grocery\n",
    "\n",
    "- sales per month 데이터는 다음 사이트에서 계산해서 추가\n",
    "https://www.junglescout.com/estimator/\n",
    "\n"
   ]
  },
  {
   "cell_type": "markdown",
   "metadata": {
    "colab_type": "text",
    "id": "vWTc6hby1PCD"
   },
   "source": [
    "### - 모듈 불러오고 전처리"
   ]
  },
  {
   "cell_type": "code",
   "execution_count": 1,
   "metadata": {
    "colab": {},
    "colab_type": "code",
    "executionInfo": {
     "elapsed": 2258,
     "status": "ok",
     "timestamp": 1600436384513,
     "user": {
      "displayName": "JH Lee",
      "photoUrl": "",
      "userId": "13513578477319776307"
     },
     "user_tz": -540
    },
    "id": "cvwmOWjSaGF2"
   },
   "outputs": [],
   "source": [
    "try:\n",
    "    import pandas as pd\n",
    "except:\n",
    "    !pip install pandas\n",
    "    import pandas as pd\n",
    "\n",
    "try:\n",
    "    import matplotlib.pyplot as plt\n",
    "except:\n",
    "    !pip install matplotlib\n",
    "    import matplotlib.pyplot as plt\n",
    "\n",
    "try:\n",
    "    import seaborn as sns\n",
    "except:\n",
    "    !pip install seaborn\n",
    "    import seaborn as sns\n",
    "\n",
    "try:\n",
    "    import plotly.graph_objs as go\n",
    "    import plotly.offline as py\n",
    "except:\n",
    "    !pip install plotly\n",
    "    import plotly.graph_objs as go\n",
    "    import plotly.offline as py"
   ]
  },
  {
   "cell_type": "code",
   "execution_count": 2,
   "metadata": {
    "colab": {},
    "colab_type": "code",
    "id": "lEcXVurbbW69"
   },
   "outputs": [],
   "source": [
    "data = pd.read_excel('./data/amazon_seaweed_snacks_product_info.xlsx')"
   ]
  },
  {
   "cell_type": "code",
   "execution_count": 3,
   "metadata": {
    "colab": {
     "base_uri": "https://localhost:8080/",
     "height": 615
    },
    "colab_type": "code",
    "executionInfo": {
     "elapsed": 1163,
     "status": "ok",
     "timestamp": 1599214410136,
     "user": {
      "displayName": "‍이지현[ 학부재학 / 언어학과 ]",
      "photoUrl": "",
      "userId": "08616836268514229893"
     },
     "user_tz": -540
    },
    "id": "segkYqP9bd0D",
    "outputId": "0ae8aeb1-b992-4e40-a1e9-da45bb5c5fa3"
   },
   "outputs": [
    {
     "data": {
      "text/html": [
       "<div>\n",
       "<style scoped>\n",
       "    .dataframe tbody tr th:only-of-type {\n",
       "        vertical-align: middle;\n",
       "    }\n",
       "\n",
       "    .dataframe tbody tr th {\n",
       "        vertical-align: top;\n",
       "    }\n",
       "\n",
       "    .dataframe thead th {\n",
       "        text-align: right;\n",
       "    }\n",
       "</style>\n",
       "<table border=\"1\" class=\"dataframe\">\n",
       "  <thead>\n",
       "    <tr style=\"text-align: right;\">\n",
       "      <th></th>\n",
       "      <th>product name</th>\n",
       "      <th>brand</th>\n",
       "      <th>variety pack</th>\n",
       "      <th>num of flavors</th>\n",
       "      <th>flavors</th>\n",
       "      <th>feature</th>\n",
       "      <th>product description</th>\n",
       "      <th>detailed description</th>\n",
       "      <th>ingredients</th>\n",
       "      <th>Non-GMO</th>\n",
       "      <th>...</th>\n",
       "      <th>allergen warnings</th>\n",
       "      <th>packing separately</th>\n",
       "      <th>nums of pack variety</th>\n",
       "      <th>pack of</th>\n",
       "      <th>calories per pack</th>\n",
       "      <th>origin</th>\n",
       "      <th>item weight</th>\n",
       "      <th>Shipping Weight</th>\n",
       "      <th>rank</th>\n",
       "      <th>sales per month</th>\n",
       "    </tr>\n",
       "  </thead>\n",
       "  <tbody>\n",
       "    <tr>\n",
       "      <th>0</th>\n",
       "      <td>Ocean's Halo Seaweed Maui Onion 1 case of 12 u...</td>\n",
       "      <td>Ocean's Halo</td>\n",
       "      <td>0.0</td>\n",
       "      <td>1</td>\n",
       "      <td>maui onion, sea salt</td>\n",
       "      <td>USDA-Certified Organic Seaweed\\nOrganic Season...</td>\n",
       "      <td>Ocean’s Halo was created by Four Dads — two wh...</td>\n",
       "      <td>NaN</td>\n",
       "      <td>ORGANIC SEAWEED, ORGANIC SUNFLOWER OIL, ORGANI...</td>\n",
       "      <td>1.0</td>\n",
       "      <td>...</td>\n",
       "      <td>0.0</td>\n",
       "      <td>1.0</td>\n",
       "      <td>1.0</td>\n",
       "      <td>12</td>\n",
       "      <td>20</td>\n",
       "      <td>South korea</td>\n",
       "      <td>NaN</td>\n",
       "      <td>1.12 ounces</td>\n",
       "      <td>40.0</td>\n",
       "      <td>150.0</td>\n",
       "    </tr>\n",
       "    <tr>\n",
       "      <th>1</th>\n",
       "      <td>Seaweed Love All Natural Roasted Seaweed Varie...</td>\n",
       "      <td>seaweed love</td>\n",
       "      <td>1.0</td>\n",
       "      <td>2</td>\n",
       "      <td>original, olive oil</td>\n",
       "      <td>All natural;Only 25 calories and 2.5 gram of f...</td>\n",
       "      <td>All natural Roasted seaweed Snack. Our family-...</td>\n",
       "      <td>NaN</td>\n",
       "      <td>Original Roasted Seaweed : Seaweed, Sesame Oil...</td>\n",
       "      <td>1.0</td>\n",
       "      <td>...</td>\n",
       "      <td>0.0</td>\n",
       "      <td>0.0</td>\n",
       "      <td>1.0</td>\n",
       "      <td>24</td>\n",
       "      <td>25</td>\n",
       "      <td>USA</td>\n",
       "      <td>60g</td>\n",
       "      <td>1.4 pounds</td>\n",
       "      <td>19.0</td>\n",
       "      <td>420.0</td>\n",
       "    </tr>\n",
       "    <tr>\n",
       "      <th>2</th>\n",
       "      <td>Hi Termpura (Tempura Seaweed Original) - 1.41o...</td>\n",
       "      <td>Tao Kae Noi</td>\n",
       "      <td>0.0</td>\n",
       "      <td>1</td>\n",
       "      <td>tempura seaweed original</td>\n",
       "      <td>Net weight of each pack:40g/1.41oz\\nDelicious ...</td>\n",
       "      <td>Seaweed is grilld int the suitable tempurature...</td>\n",
       "      <td>NaN</td>\n",
       "      <td>Flour, seaweed, modified tapioca starch, palm ...</td>\n",
       "      <td>0.0</td>\n",
       "      <td>...</td>\n",
       "      <td>0.0</td>\n",
       "      <td>0.0</td>\n",
       "      <td>0.0</td>\n",
       "      <td>1</td>\n",
       "      <td>NaN</td>\n",
       "      <td>Thailand</td>\n",
       "      <td>40g</td>\n",
       "      <td>12.8 Ounces</td>\n",
       "      <td>17.0</td>\n",
       "      <td>480.0</td>\n",
       "    </tr>\n",
       "    <tr>\n",
       "      <th>3</th>\n",
       "      <td>Kwangcheonkim Kim Green Laver Seasoned Seaweed...</td>\n",
       "      <td>Kimnori</td>\n",
       "      <td>0.0</td>\n",
       "      <td>1</td>\n",
       "      <td>original</td>\n",
       "      <td>Kwangcheonkim Kim Green Laver Seasoned Seaweed...</td>\n",
       "      <td>Kimnori U.S.A. Inc.\\nKimnori U.S.A. Inc. has b...</td>\n",
       "      <td>NaN</td>\n",
       "      <td>Laver, Canola Oil, Penilla Oil, Seasoned Salt,...</td>\n",
       "      <td>1.0</td>\n",
       "      <td>...</td>\n",
       "      <td>0.0</td>\n",
       "      <td>1.0</td>\n",
       "      <td>0.0</td>\n",
       "      <td>27</td>\n",
       "      <td>10</td>\n",
       "      <td>South korea</td>\n",
       "      <td>135g</td>\n",
       "      <td>14.39 Ounces</td>\n",
       "      <td>14.0</td>\n",
       "      <td>540.0</td>\n",
       "    </tr>\n",
       "    <tr>\n",
       "      <th>4</th>\n",
       "      <td>Annie Chun's Baked Seaweed Crisps, Gochujang F...</td>\n",
       "      <td>Annie Chun's</td>\n",
       "      <td>0.0</td>\n",
       "      <td>3</td>\n",
       "      <td>gochujang, korean bbq, original</td>\n",
       "      <td>Vegan and Gluten-Free\\nRoasted seaweed combine...</td>\n",
       "      <td>Baked Go-chu-jang Flavored Seaweed Crisps\\nWe’...</td>\n",
       "      <td>NaN</td>\n",
       "      <td>Tapioca starch, canola oil, brown rice, seawee...</td>\n",
       "      <td>1.0</td>\n",
       "      <td>...</td>\n",
       "      <td>0.0</td>\n",
       "      <td>0.0</td>\n",
       "      <td>0.0</td>\n",
       "      <td>1</td>\n",
       "      <td>190</td>\n",
       "      <td>South korea</td>\n",
       "      <td>1.27 ounces</td>\n",
       "      <td>1.27 ounces</td>\n",
       "      <td>13.0</td>\n",
       "      <td>540.0</td>\n",
       "    </tr>\n",
       "  </tbody>\n",
       "</table>\n",
       "<p>5 rows × 22 columns</p>\n",
       "</div>"
      ],
      "text/plain": [
       "                                        product name         brand  \\\n",
       "0  Ocean's Halo Seaweed Maui Onion 1 case of 12 u...  Ocean's Halo   \n",
       "1  Seaweed Love All Natural Roasted Seaweed Varie...  seaweed love   \n",
       "2  Hi Termpura (Tempura Seaweed Original) - 1.41o...   Tao Kae Noi   \n",
       "3  Kwangcheonkim Kim Green Laver Seasoned Seaweed...       Kimnori   \n",
       "4  Annie Chun's Baked Seaweed Crisps, Gochujang F...  Annie Chun's   \n",
       "\n",
       "   variety pack  num of flavors                          flavors  \\\n",
       "0           0.0               1             maui onion, sea salt   \n",
       "1           1.0               2              original, olive oil   \n",
       "2           0.0               1        tempura seaweed original    \n",
       "3           0.0               1                         original   \n",
       "4           0.0               3  gochujang, korean bbq, original   \n",
       "\n",
       "                                             feature  \\\n",
       "0  USDA-Certified Organic Seaweed\\nOrganic Season...   \n",
       "1  All natural;Only 25 calories and 2.5 gram of f...   \n",
       "2  Net weight of each pack:40g/1.41oz\\nDelicious ...   \n",
       "3  Kwangcheonkim Kim Green Laver Seasoned Seaweed...   \n",
       "4  Vegan and Gluten-Free\\nRoasted seaweed combine...   \n",
       "\n",
       "                                 product description detailed description  \\\n",
       "0  Ocean’s Halo was created by Four Dads — two wh...                  NaN   \n",
       "1  All natural Roasted seaweed Snack. Our family-...                  NaN   \n",
       "2  Seaweed is grilld int the suitable tempurature...                  NaN   \n",
       "3  Kimnori U.S.A. Inc.\\nKimnori U.S.A. Inc. has b...                  NaN   \n",
       "4  Baked Go-chu-jang Flavored Seaweed Crisps\\nWe’...                  NaN   \n",
       "\n",
       "                                         ingredients  Non-GMO  ...  \\\n",
       "0  ORGANIC SEAWEED, ORGANIC SUNFLOWER OIL, ORGANI...      1.0  ...   \n",
       "1  Original Roasted Seaweed : Seaweed, Sesame Oil...      1.0  ...   \n",
       "2  Flour, seaweed, modified tapioca starch, palm ...      0.0  ...   \n",
       "3  Laver, Canola Oil, Penilla Oil, Seasoned Salt,...      1.0  ...   \n",
       "4  Tapioca starch, canola oil, brown rice, seawee...      1.0  ...   \n",
       "\n",
       "   allergen warnings  packing separately  nums of pack variety  pack of  \\\n",
       "0                0.0                 1.0                   1.0       12   \n",
       "1                0.0                 0.0                   1.0       24   \n",
       "2                0.0                 0.0                   0.0        1   \n",
       "3                0.0                 1.0                   0.0       27   \n",
       "4                0.0                 0.0                   0.0        1   \n",
       "\n",
       "   calories per pack       origin  item weight Shipping Weight  rank  \\\n",
       "0                 20  South korea          NaN     1.12 ounces  40.0   \n",
       "1                 25          USA          60g      1.4 pounds  19.0   \n",
       "2                NaN     Thailand          40g     12.8 Ounces  17.0   \n",
       "3                 10  South korea         135g    14.39 Ounces  14.0   \n",
       "4                190  South korea  1.27 ounces     1.27 ounces  13.0   \n",
       "\n",
       "  sales per month  \n",
       "0           150.0  \n",
       "1           420.0  \n",
       "2           480.0  \n",
       "3           540.0  \n",
       "4           540.0  \n",
       "\n",
       "[5 rows x 22 columns]"
      ]
     },
     "execution_count": 3,
     "metadata": {},
     "output_type": "execute_result"
    }
   ],
   "source": [
    "data.head()"
   ]
  },
  {
   "cell_type": "code",
   "execution_count": null,
   "metadata": {
    "colab": {
     "base_uri": "https://localhost:8080/",
     "height": 431
    },
    "colab_type": "code",
    "executionInfo": {
     "elapsed": 673,
     "status": "ok",
     "timestamp": 1599214411141,
     "user": {
      "displayName": "‍이지현[ 학부재학 / 언어학과 ]",
      "photoUrl": "",
      "userId": "08616836268514229893"
     },
     "user_tz": -540
    },
    "id": "D-GGvd88bkQn",
    "outputId": "67fc1024-6f97-4475-d421-c9ba6bec88bb"
   },
   "outputs": [
    {
     "data": {
      "text/plain": [
       "product name             object\n",
       "brand                    object\n",
       "variety pack            float64\n",
       "num of flavors            int64\n",
       "flavors                  object\n",
       "feature                  object\n",
       "product description      object\n",
       "detailed description     object\n",
       "ingredients              object\n",
       "Non-GMO                 float64\n",
       "gluten free             float64\n",
       "vegan                   float64\n",
       "allergen warnings       float64\n",
       "packing separately      float64\n",
       "nums of pack variety    float64\n",
       "pack of                  object\n",
       "calories per pack        object\n",
       "origin                   object\n",
       "item weight              object\n",
       "Shipping Weight          object\n",
       "rank                    float64\n",
       "sales per month         float64\n",
       "dtype: object"
      ]
     },
     "execution_count": 6,
     "metadata": {
      "tags": []
     },
     "output_type": "execute_result"
    }
   ],
   "source": [
    "data.dtypes"
   ]
  },
  {
   "cell_type": "code",
   "execution_count": null,
   "metadata": {
    "colab": {},
    "colab_type": "code",
    "id": "nWbeKHmfeq77"
   },
   "outputs": [],
   "source": [
    "data['variety pack'] = data['variety pack'].astype(str)\n",
    "data['Non-GMO'] = data['Non-GMO'].astype(str)\n",
    "data['gluten free'] = data['gluten free'].astype(str)\n",
    "data['vegan'] = data['vegan'].astype(str)\n",
    "data['allergen warnings'] = data['allergen warnings'].astype(str)\n",
    "data['packing separately'] = data['packing separately'].astype(str)"
   ]
  },
  {
   "cell_type": "code",
   "execution_count": null,
   "metadata": {
    "colab": {
     "base_uri": "https://localhost:8080/",
     "height": 431
    },
    "colab_type": "code",
    "executionInfo": {
     "elapsed": 574,
     "status": "ok",
     "timestamp": 1599214413953,
     "user": {
      "displayName": "‍이지현[ 학부재학 / 언어학과 ]",
      "photoUrl": "",
      "userId": "08616836268514229893"
     },
     "user_tz": -540
    },
    "id": "6M2hQrr0gnA6",
    "outputId": "459cc4d3-3014-47bb-9f74-aa085393452d"
   },
   "outputs": [
    {
     "data": {
      "text/plain": [
       "product name             object\n",
       "brand                    object\n",
       "variety pack             object\n",
       "num of flavors            int64\n",
       "flavors                  object\n",
       "feature                  object\n",
       "product description      object\n",
       "detailed description     object\n",
       "ingredients              object\n",
       "Non-GMO                  object\n",
       "gluten free              object\n",
       "vegan                    object\n",
       "allergen warnings        object\n",
       "packing separately       object\n",
       "nums of pack variety    float64\n",
       "pack of                  object\n",
       "calories per pack        object\n",
       "origin                   object\n",
       "item weight              object\n",
       "Shipping Weight          object\n",
       "rank                    float64\n",
       "sales per month         float64\n",
       "dtype: object"
      ]
     },
     "execution_count": 8,
     "metadata": {
      "tags": []
     },
     "output_type": "execute_result"
    }
   ],
   "source": [
    "data.dtypes"
   ]
  },
  {
   "cell_type": "markdown",
   "metadata": {
    "colab_type": "text",
    "id": "PRNp9RD51ZcN"
   },
   "source": [
    "## - violin plot"
   ]
  },
  {
   "cell_type": "code",
   "execution_count": null,
   "metadata": {
    "colab": {
     "base_uri": "https://localhost:8080/",
     "height": 279
    },
    "colab_type": "code",
    "executionInfo": {
     "elapsed": 1112,
     "status": "ok",
     "timestamp": 1599214416336,
     "user": {
      "displayName": "‍이지현[ 학부재학 / 언어학과 ]",
      "photoUrl": "",
      "userId": "08616836268514229893"
     },
     "user_tz": -540
    },
    "id": "aOkFffXLb6AT",
    "outputId": "0909f7f1-fa55-4824-b5b0-558120dc2776"
   },
   "outputs": [
    {
     "data": {
      "image/png": "[encoded data removed]",
      "text/plain": [
       "<Figure size 432x288 with 1 Axes>"
      ]
     },
     "metadata": {
      "needs_background": "light",
      "tags": []
     },
     "output_type": "display_data"
    }
   ],
   "source": [
    "df = data[~data['Non-GMO'].str.contains('nan')]\n",
    "sns.violinplot(x=\"Non-GMO\", y=\"sales per month\", data=df)\n",
    "plt.show()"
   ]
  },
  {
   "cell_type": "code",
   "execution_count": null,
   "metadata": {
    "colab": {
     "base_uri": "https://localhost:8080/",
     "height": 279
    },
    "colab_type": "code",
    "executionInfo": {
     "elapsed": 1260,
     "status": "ok",
     "timestamp": 1599214417458,
     "user": {
      "displayName": "‍이지현[ 학부재학 / 언어학과 ]",
      "photoUrl": "",
      "userId": "08616836268514229893"
     },
     "user_tz": -540
    },
    "id": "808OiQnMd-rA",
    "outputId": "c19ba56d-0012-4b03-f574-019e736ca772"
   },
   "outputs": [
    {
     "data": {
      "image/png": "[encoded data removed]",
      "text/plain": [
       "<Figure size 432x288 with 1 Axes>"
      ]
     },
     "metadata": {
      "needs_background": "light",
      "tags": []
     },
     "output_type": "display_data"
    }
   ],
   "source": [
    "df = data[~data['gluten free'].str.contains('nan')]\n",
    "sns.violinplot(x=\"gluten free\", y=\"sales per month\", data=df)\n",
    "plt.show()"
   ]
  },
  {
   "cell_type": "code",
   "execution_count": null,
   "metadata": {
    "colab": {
     "base_uri": "https://localhost:8080/",
     "height": 279
    },
    "colab_type": "code",
    "executionInfo": {
     "elapsed": 987,
     "status": "ok",
     "timestamp": 1599214418848,
     "user": {
      "displayName": "‍이지현[ 학부재학 / 언어학과 ]",
      "photoUrl": "",
      "userId": "08616836268514229893"
     },
     "user_tz": -540
    },
    "id": "k4Y7CMwmePgl",
    "outputId": "86737138-8537-4691-b5d7-fcb0f9d65cbd"
   },
   "outputs": [
    {
     "data": {
      "image/png": "[encoded data removed]",
      "text/plain": [
       "<Figure size 432x288 with 1 Axes>"
      ]
     },
     "metadata": {
      "needs_background": "light",
      "tags": []
     },
     "output_type": "display_data"
    }
   ],
   "source": [
    "df = data[~data['vegan'].str.contains('nan')]\n",
    "sns.violinplot(x=\"vegan\", y=\"sales per month\", data=df)\n",
    "plt.show()"
   ]
  },
  {
   "cell_type": "code",
   "execution_count": null,
   "metadata": {
    "colab": {
     "base_uri": "https://localhost:8080/",
     "height": 279
    },
    "colab_type": "code",
    "executionInfo": {
     "elapsed": 1199,
     "status": "ok",
     "timestamp": 1599214420263,
     "user": {
      "displayName": "‍이지현[ 학부재학 / 언어학과 ]",
      "photoUrl": "",
      "userId": "08616836268514229893"
     },
     "user_tz": -540
    },
    "id": "RMJbVs0AhUkV",
    "outputId": "b0ed5084-979d-438e-ee1e-e0aeba23a51d"
   },
   "outputs": [
    {
     "data": {
      "image/png": "[encoded data removed]",
      "text/plain": [
       "<Figure size 432x288 with 1 Axes>"
      ]
     },
     "metadata": {
      "needs_background": "light",
      "tags": []
     },
     "output_type": "display_data"
    }
   ],
   "source": [
    "df = data[~data['allergen warnings'].str.contains('nan')]\n",
    "sns.violinplot(x=\"allergen warnings\", y=\"sales per month\", data=df)\n",
    "plt.show()"
   ]
  },
  {
   "cell_type": "markdown",
   "metadata": {
    "colab_type": "text",
    "id": "qBHFqAOtnBZH"
   },
   "source": [
    "## - Origin Distribution"
   ]
  },
  {
   "cell_type": "code",
   "execution_count": null,
   "metadata": {
    "colab": {
     "base_uri": "https://localhost:8080/",
     "height": 542
    },
    "colab_type": "code",
    "executionInfo": {
     "elapsed": 1297,
     "status": "ok",
     "timestamp": 1599214511459,
     "user": {
      "displayName": "‍이지현[ 학부재학 / 언어학과 ]",
      "photoUrl": "",
      "userId": "08616836268514229893"
     },
     "user_tz": -540
    },
    "id": "E8QSl2HTmmNv",
    "outputId": "10b47b9a-c523-4db2-9f4b-26bc0fc78196"
   },
   "outputs": [
    {
     "data": {
      "text/html": [
       "<html>\n",
       "<head><meta charset=\"utf-8\" /></head>\n",
       "<body>\n",
       "    <div>\n",
       "            <script src=\"https://cdnjs.cloudflare.com/ajax/libs/mathjax/2.7.5/MathJax.js?config=TeX-AMS-MML_SVG\"></script><script type=\"text/javascript\">if (window.MathJax) {MathJax.Hub.Config({SVG: {font: \"STIX-Web\"}});}</script>\n",
       "                <script type=\"text/javascript\">window.PlotlyConfig = {MathJaxConfig: 'local'};</script>\n",
       "        <script src=\"https://cdn.plot.ly/plotly-latest.min.js\"></script>    \n",
       "            <div id=\"b1614378-231c-4abd-82c7-2e009a97bbc2\" class=\"plotly-graph-div\" style=\"height:525px; width:100%;\"></div>\n",
       "            <script type=\"text/javascript\">\n",
       "                \n",
       "                    window.PLOTLYENV=window.PLOTLYENV || {};\n",
       "                    \n",
       "                if (document.getElementById(\"b1614378-231c-4abd-82c7-2e009a97bbc2\")) {\n",
       "                    Plotly.newPlot(\n",
       "                        'b1614378-231c-4abd-82c7-2e009a97bbc2',\n",
       "                        [{\"text\": [\"61.11%\", \"8.89%\", \"5.56%\", \"2.22%\", \"2.22%\"], \"type\": \"bar\", \"x\": [\"South korea\", \"USA\", \"Thailand\", \"japan\", \"Singapore\"], \"y\": [55, 8, 5, 2, 2]}],\n",
       "                        {\"template\": {\"data\": {\"bar\": [{\"error_x\": {\"color\": \"#2a3f5f\"}, \"error_y\": {\"color\": \"#2a3f5f\"}, \"marker\": {\"line\": {\"color\": \"#E5ECF6\", \"width\": 0.5}}, \"type\": \"bar\"}], \"barpolar\": [{\"marker\": {\"line\": {\"color\": \"#E5ECF6\", \"width\": 0.5}}, \"type\": \"barpolar\"}], \"carpet\": [{\"aaxis\": {\"endlinecolor\": \"#2a3f5f\", \"gridcolor\": \"white\", \"linecolor\": \"white\", \"minorgridcolor\": \"white\", \"startlinecolor\": \"#2a3f5f\"}, \"baxis\": {\"endlinecolor\": \"#2a3f5f\", \"gridcolor\": \"white\", \"linecolor\": \"white\", \"minorgridcolor\": \"white\", \"startlinecolor\": \"#2a3f5f\"}, \"type\": \"carpet\"}], \"choropleth\": [{\"colorbar\": {\"outlinewidth\": 0, \"ticks\": \"\"}, \"type\": \"choropleth\"}], \"contour\": [{\"colorbar\": {\"outlinewidth\": 0, \"ticks\": \"\"}, \"colorscale\": [[0.0, \"#0d0887\"], [0.1111111111111111, \"#46039f\"], [0.2222222222222222, \"#7201a8\"], [0.3333333333333333, \"#9c179e\"], [0.4444444444444444, \"#bd3786\"], [0.5555555555555556, \"#d8576b\"], [0.6666666666666666, \"#ed7953\"], [0.7777777777777778, \"#fb9f3a\"], [0.8888888888888888, \"#fdca26\"], [1.0, \"#f0f921\"]], \"type\": \"contour\"}], \"contourcarpet\": [{\"colorbar\": {\"outlinewidth\": 0, \"ticks\": \"\"}, \"type\": \"contourcarpet\"}], \"heatmap\": [{\"colorbar\": {\"outlinewidth\": 0, \"ticks\": \"\"}, \"colorscale\": [[0.0, \"#0d0887\"], [0.1111111111111111, \"#46039f\"], [0.2222222222222222, \"#7201a8\"], [0.3333333333333333, \"#9c179e\"], [0.4444444444444444, \"#bd3786\"], [0.5555555555555556, \"#d8576b\"], [0.6666666666666666, \"#ed7953\"], [0.7777777777777778, \"#fb9f3a\"], [0.8888888888888888, \"#fdca26\"], [1.0, \"#f0f921\"]], \"type\": \"heatmap\"}], \"heatmapgl\": [{\"colorbar\": {\"outlinewidth\": 0, \"ticks\": \"\"}, \"colorscale\": [[0.0, \"#0d0887\"], [0.1111111111111111, \"#46039f\"], [0.2222222222222222, \"#7201a8\"], [0.3333333333333333, \"#9c179e\"], [0.4444444444444444, \"#bd3786\"], [0.5555555555555556, \"#d8576b\"], [0.6666666666666666, \"#ed7953\"], [0.7777777777777778, \"#fb9f3a\"], [0.8888888888888888, \"#fdca26\"], [1.0, \"#f0f921\"]], \"type\": \"heatmapgl\"}], \"histogram\": [{\"marker\": {\"colorbar\": {\"outlinewidth\": 0, \"ticks\": \"\"}}, \"type\": \"histogram\"}], \"histogram2d\": [{\"colorbar\": {\"outlinewidth\": 0, \"ticks\": \"\"}, \"colorscale\": [[0.0, \"#0d0887\"], [0.1111111111111111, \"#46039f\"], [0.2222222222222222, \"#7201a8\"], [0.3333333333333333, \"#9c179e\"], [0.4444444444444444, \"#bd3786\"], [0.5555555555555556, \"#d8576b\"], [0.6666666666666666, \"#ed7953\"], [0.7777777777777778, \"#fb9f3a\"], [0.8888888888888888, \"#fdca26\"], [1.0, \"#f0f921\"]], \"type\": \"histogram2d\"}], \"histogram2dcontour\": [{\"colorbar\": {\"outlinewidth\": 0, \"ticks\": \"\"}, \"colorscale\": [[0.0, \"#0d0887\"], [0.1111111111111111, \"#46039f\"], [0.2222222222222222, \"#7201a8\"], [0.3333333333333333, \"#9c179e\"], [0.4444444444444444, \"#bd3786\"], [0.5555555555555556, \"#d8576b\"], [0.6666666666666666, \"#ed7953\"], [0.7777777777777778, \"#fb9f3a\"], [0.8888888888888888, \"#fdca26\"], [1.0, \"#f0f921\"]], \"type\": \"histogram2dcontour\"}], \"mesh3d\": [{\"colorbar\": {\"outlinewidth\": 0, \"ticks\": \"\"}, \"type\": \"mesh3d\"}], \"parcoords\": [{\"line\": {\"colorbar\": {\"outlinewidth\": 0, \"ticks\": \"\"}}, \"type\": \"parcoords\"}], \"pie\": [{\"automargin\": true, \"type\": \"pie\"}], \"scatter\": [{\"marker\": {\"colorbar\": {\"outlinewidth\": 0, \"ticks\": \"\"}}, \"type\": \"scatter\"}], \"scatter3d\": [{\"line\": {\"colorbar\": {\"outlinewidth\": 0, \"ticks\": \"\"}}, \"marker\": {\"colorbar\": {\"outlinewidth\": 0, \"ticks\": \"\"}}, \"type\": \"scatter3d\"}], \"scattercarpet\": [{\"marker\": {\"colorbar\": {\"outlinewidth\": 0, \"ticks\": \"\"}}, \"type\": \"scattercarpet\"}], \"scattergeo\": [{\"marker\": {\"colorbar\": {\"outlinewidth\": 0, \"ticks\": \"\"}}, \"type\": \"scattergeo\"}], \"scattergl\": [{\"marker\": {\"colorbar\": {\"outlinewidth\": 0, \"ticks\": \"\"}}, \"type\": \"scattergl\"}], \"scattermapbox\": [{\"marker\": {\"colorbar\": {\"outlinewidth\": 0, \"ticks\": \"\"}}, \"type\": \"scattermapbox\"}], \"scatterpolar\": [{\"marker\": {\"colorbar\": {\"outlinewidth\": 0, \"ticks\": \"\"}}, \"type\": \"scatterpolar\"}], \"scatterpolargl\": [{\"marker\": {\"colorbar\": {\"outlinewidth\": 0, \"ticks\": \"\"}}, \"type\": \"scatterpolargl\"}], \"scatterternary\": [{\"marker\": {\"colorbar\": {\"outlinewidth\": 0, \"ticks\": \"\"}}, \"type\": \"scatterternary\"}], \"surface\": [{\"colorbar\": {\"outlinewidth\": 0, \"ticks\": \"\"}, \"colorscale\": [[0.0, \"#0d0887\"], [0.1111111111111111, \"#46039f\"], [0.2222222222222222, \"#7201a8\"], [0.3333333333333333, \"#9c179e\"], [0.4444444444444444, \"#bd3786\"], [0.5555555555555556, \"#d8576b\"], [0.6666666666666666, \"#ed7953\"], [0.7777777777777778, \"#fb9f3a\"], [0.8888888888888888, \"#fdca26\"], [1.0, \"#f0f921\"]], \"type\": \"surface\"}], \"table\": [{\"cells\": {\"fill\": {\"color\": \"#EBF0F8\"}, \"line\": {\"color\": \"white\"}}, \"header\": {\"fill\": {\"color\": \"#C8D4E3\"}, \"line\": {\"color\": \"white\"}}, \"type\": \"table\"}]}, \"layout\": {\"annotationdefaults\": {\"arrowcolor\": \"#2a3f5f\", \"arrowhead\": 0, \"arrowwidth\": 1}, \"coloraxis\": {\"colorbar\": {\"outlinewidth\": 0, \"ticks\": \"\"}}, \"colorscale\": {\"diverging\": [[0, \"#8e0152\"], [0.1, \"#c51b7d\"], [0.2, \"#de77ae\"], [0.3, \"#f1b6da\"], [0.4, \"#fde0ef\"], [0.5, \"#f7f7f7\"], [0.6, \"#e6f5d0\"], [0.7, \"#b8e186\"], [0.8, \"#7fbc41\"], [0.9, \"#4d9221\"], [1, \"#276419\"]], \"sequential\": [[0.0, \"#0d0887\"], [0.1111111111111111, \"#46039f\"], [0.2222222222222222, \"#7201a8\"], [0.3333333333333333, \"#9c179e\"], [0.4444444444444444, \"#bd3786\"], [0.5555555555555556, \"#d8576b\"], [0.6666666666666666, \"#ed7953\"], [0.7777777777777778, \"#fb9f3a\"], [0.8888888888888888, \"#fdca26\"], [1.0, \"#f0f921\"]], \"sequentialminus\": [[0.0, \"#0d0887\"], [0.1111111111111111, \"#46039f\"], [0.2222222222222222, \"#7201a8\"], [0.3333333333333333, \"#9c179e\"], [0.4444444444444444, \"#bd3786\"], [0.5555555555555556, \"#d8576b\"], [0.6666666666666666, \"#ed7953\"], [0.7777777777777778, \"#fb9f3a\"], [0.8888888888888888, \"#fdca26\"], [1.0, \"#f0f921\"]]}, \"colorway\": [\"#636efa\", \"#EF553B\", \"#00cc96\", \"#ab63fa\", \"#FFA15A\", \"#19d3f3\", \"#FF6692\", \"#B6E880\", \"#FF97FF\", \"#FECB52\"], \"font\": {\"color\": \"#2a3f5f\"}, \"geo\": {\"bgcolor\": \"white\", \"lakecolor\": \"white\", \"landcolor\": \"#E5ECF6\", \"showlakes\": true, \"showland\": true, \"subunitcolor\": \"white\"}, \"hoverlabel\": {\"align\": \"left\"}, \"hovermode\": \"closest\", \"mapbox\": {\"style\": \"light\"}, \"paper_bgcolor\": \"white\", \"plot_bgcolor\": \"#E5ECF6\", \"polar\": {\"angularaxis\": {\"gridcolor\": \"white\", \"linecolor\": \"white\", \"ticks\": \"\"}, \"bgcolor\": \"#E5ECF6\", \"radialaxis\": {\"gridcolor\": \"white\", \"linecolor\": \"white\", \"ticks\": \"\"}}, \"scene\": {\"xaxis\": {\"backgroundcolor\": \"#E5ECF6\", \"gridcolor\": \"white\", \"gridwidth\": 2, \"linecolor\": \"white\", \"showbackground\": true, \"ticks\": \"\", \"zerolinecolor\": \"white\"}, \"yaxis\": {\"backgroundcolor\": \"#E5ECF6\", \"gridcolor\": \"white\", \"gridwidth\": 2, \"linecolor\": \"white\", \"showbackground\": true, \"ticks\": \"\", \"zerolinecolor\": \"white\"}, \"zaxis\": {\"backgroundcolor\": \"#E5ECF6\", \"gridcolor\": \"white\", \"gridwidth\": 2, \"linecolor\": \"white\", \"showbackground\": true, \"ticks\": \"\", \"zerolinecolor\": \"white\"}}, \"shapedefaults\": {\"line\": {\"color\": \"#2a3f5f\"}}, \"ternary\": {\"aaxis\": {\"gridcolor\": \"white\", \"linecolor\": \"white\", \"ticks\": \"\"}, \"baxis\": {\"gridcolor\": \"white\", \"linecolor\": \"white\", \"ticks\": \"\"}, \"bgcolor\": \"#E5ECF6\", \"caxis\": {\"gridcolor\": \"white\", \"linecolor\": \"white\", \"ticks\": \"\"}}, \"title\": {\"x\": 0.05}, \"xaxis\": {\"automargin\": true, \"gridcolor\": \"white\", \"linecolor\": \"white\", \"ticks\": \"\", \"title\": {\"standoff\": 15}, \"zerolinecolor\": \"white\", \"zerolinewidth\": 2}, \"yaxis\": {\"automargin\": true, \"gridcolor\": \"white\", \"linecolor\": \"white\", \"ticks\": \"\", \"title\": {\"standoff\": 15}, \"zerolinecolor\": \"white\", \"zerolinewidth\": 2}}}, \"title\": {\"text\": \"Origin Distribution\"}, \"xaxis\": {\"title\": {\"text\": \"Category\"}}, \"yaxis\": {\"title\": {\"text\": \"Count\"}}},\n",
       "                        {\"responsive\": true}\n",
       "                    ).then(function(){\n",
       "                            \n",
       "var gd = document.getElementById('b1614378-231c-4abd-82c7-2e009a97bbc2');\n",
       "var x = new MutationObserver(function (mutations, observer) {{\n",
       "        var display = window.getComputedStyle(gd).display;\n",
       "        if (!display || display === 'none') {{\n",
       "            console.log([gd, 'removed!']);\n",
       "            Plotly.purge(gd);\n",
       "            observer.disconnect();\n",
       "        }}\n",
       "}});\n",
       "\n",
       "// Listen for the removal of the full notebook cells\n",
       "var notebookContainer = gd.closest('#notebook-container');\n",
       "if (notebookContainer) {{\n",
       "    x.observe(notebookContainer, {childList: true});\n",
       "}}\n",
       "\n",
       "// Listen for the clearing of the current output cell\n",
       "var outputEl = gd.closest('.output');\n",
       "if (outputEl) {{\n",
       "    x.observe(outputEl, {childList: true});\n",
       "}}\n",
       "\n",
       "                        })\n",
       "                };\n",
       "                \n",
       "            </script>\n",
       "        </div>\n",
       "</body>\n",
       "</html>"
      ]
     },
     "metadata": {
      "tags": []
     },
     "output_type": "display_data"
    }
   ],
   "source": [
    "df = data[~data['origin'].isnull()]\n",
    "\n",
    "x = df['origin'].value_counts().index.values.astype('str')\n",
    "y = df['origin'].value_counts().values\n",
    "pct = [(\"%.2f\"%(v*100))+\"%\"for v in (y/len(data))]\n",
    "\n",
    "trace1 = go.Bar(x=x, y=y, text=pct)\n",
    "layout = dict(title= 'Origin Distribution',\n",
    "              yaxis = dict(title='Count'),\n",
    "              xaxis = dict(title='Category'))\n",
    "fig=dict(data=[trace1], layout=layout)\n",
    "py.iplot(fig)"
   ]
  },
  {
   "cell_type": "code",
   "execution_count": null,
   "metadata": {
    "colab": {},
    "colab_type": "code",
    "id": "Xc06C5QGmoEf"
   },
   "outputs": [],
   "source": []
  }
 ],
 "metadata": {
  "colab": {
   "collapsed_sections": [],
   "name": "amazon_best_seller_violinplot.ipynb",
   "provenance": [
    {
     "file_id": "14xsD3oV1us0KZGCmpLuTZdgZ8td68uN1",
     "timestamp": 1599117484404
    }
   ]
  },
  "kernelspec": {
   "display_name": "Python 3",
   "language": "python",
   "name": "python3"
  },
  "language_info": {
   "codemirror_mode": {
    "name": "ipython",
    "version": 3
   },
   "file_extension": ".py",
   "mimetype": "text/x-python",
   "name": "python",
   "nbconvert_exporter": "python",
   "pygments_lexer": "ipython3",
   "version": "3.7.3"
  }
 },
 "nbformat": 4,
 "nbformat_minor": 1
}
